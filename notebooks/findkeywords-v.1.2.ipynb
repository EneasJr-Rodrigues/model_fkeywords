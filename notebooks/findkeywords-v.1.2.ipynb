{
 "cells": [
  {
   "cell_type": "markdown",
   "metadata": {
    "id": "0a9eVyEf8m3x"
   },
   "source": [
    "## Install Lib API"
   ]
  },
  {
   "cell_type": "code",
   "execution_count": null,
   "metadata": {
    "colab": {
     "base_uri": "https://localhost:8080/",
     "height": 1000
    },
    "id": "SeaRwOQILfbQ",
    "outputId": "445546b4-fdaa-4339-ac47-998708aaa1bf"
   },
   "outputs": [],
   "source": [
    "! pip install https://dnaink.jfrog.io/artifactory/dna-ink-pypi/model-fkeywords/0.1.0/model_fkeywords-0.1.0-py3-none-any.whl"
   ]
  },
  {
   "cell_type": "code",
   "execution_count": null,
   "metadata": {
    "colab": {
     "base_uri": "https://localhost:8080/"
    },
    "id": "E2fySI3fItig",
    "outputId": "6473fa3b-ea7c-447d-bb99-97343e976c36"
   },
   "outputs": [],
   "source": [
    "! python -m spacy download pt_core_news_sm"
   ]
  },
  {
   "cell_type": "markdown",
   "metadata": {
    "id": "rT8kEWlx8rCY"
   },
   "source": [
    "## Import libs"
   ]
  },
  {
   "cell_type": "code",
   "execution_count": 1,
   "metadata": {
    "colab": {
     "base_uri": "https://localhost:8080/"
    },
    "id": "3eC66XX18HW0",
    "outputId": "b6bd1a4f-8d53-4346-dede-d60df790fe54"
   },
   "outputs": [
    {
     "name": "stderr",
     "output_type": "stream",
     "text": [
      "[nltk_data] Downloading package punkt to /home/jovyan/nltk_data...\n",
      "[nltk_data]   Package punkt is already up-to-date!\n",
      "/tmp/ipykernel_1949/1571986624.py:5: FutureWarning: Passing a negative integer is deprecated in version 1.0 and will not be supported in future version. Instead, use None to not limit the column width.\n",
      "  pd.set_option('display.max_colwidth', -1)\n"
     ]
    }
   ],
   "source": [
    "import pandas as pd\n",
    "from api_model.nlsuper import NlExtractorProcess\n",
    "from api_model.nlvisualization import NlVisualization\n",
    "\n",
    "pd.set_option('display.max_colwidth', -1)\n",
    "pd.set_option('display.max_rows', None)"
   ]
  },
  {
   "cell_type": "markdown",
   "metadata": {},
   "source": [
    "## Variables"
   ]
  },
  {
   "cell_type": "markdown",
   "metadata": {},
   "source": [
    "##### Description of process\n",
    "        whats_process = 'complete'\n",
    "            return: process all pipeline\n",
    "        whats_process = 'partial'\n",
    "            return: findkeywords and process bigrams\n",
    "        whats_process = 'only_keywords'\n",
    "            return: findkeywords   "
   ]
  },
  {
   "cell_type": "code",
   "execution_count": 2,
   "metadata": {},
   "outputs": [],
   "source": [
    "filename = 'results_100_call'\n",
    "prefix = 'csv'\n",
    "prefix_sep = ','\n",
    "column_text = 'TEXT'\n",
    "whats_process = 'complete'\n",
    "#whats_process = 'partial'\n",
    "#whats_process = 'only_keywords'\n",
    "id_database = 'ID'\n",
    "type_find = 'aproximado' # aproximado # fixo\n",
    "activate_stopwords = 'sim' # não\n",
    "encoding = 'UTF-8' #UTF-8"
   ]
  },
  {
   "cell_type": "code",
   "execution_count": 3,
   "metadata": {},
   "outputs": [],
   "source": [
    "text_finds = {\n",
    "    'negatividade': ['a desejar', 'abrir uma reclamacao', 'absurd', 'aguento mais', 'boceta', 'bosta', 'brigaram', 'buceta', 'burocra', 'cansad', 'caralho', 'conflito', 'constrang', 'decepcao', 'decepcionad', 'quanta demora', 'que demora', 'tentando resolver', 'descontent', 'descrenca', 'descrente', 'desrespeit', 'fdp', 'filha da puta', 'filha de uma puta', 'filho da puta', 'filho de uma puta', 'frustracao', 'frustrad', 'humilhacao', 'humilhad', 'ignorad', 'ignoram', 'incompet', 'inferno', 'informa nada', 'injuria', 'ironia', 'ironic', 'irreponsaveis', 'irresponsabilidade', 'irresponsavel', 'ma vontade', 'mal a pior', 'mal atendid', 'mal educad', 'mal respondem', 'mal tratad', 'mau atendid', 'mau educad', 'mau respondem', 'mau tratad', 'merda', 'nao podemos arcar', 'nao posso arcar', 'nao sabe', 'ninguem resolve', 'ofenderam', 'ofendid', 'orrivel', 'pelo amor de deus', 'pessimo', 'pessimu', 'porra', 'poxa', 'pqp', 'puta que pariu', 'reclamacao', 'reclamar', 'ridicul', 'ruim', 'sabe nada', 'sem educacao', 'ta dificil', 'trata mal', 'trata mau', 'tratou mal', 'tratou mau', 'triste', 'vergonh', 'vagabund', 'raiva', 'detest', 'nao quero mais', 'odeio', 'safad', 'deus me livre', 'vergonh'],\n",
    "    'cancelamento': [\"podem cancelar\", \"quero cancelar\", \"vou cancelar\", \"ja pedi o cancelamento\", \"ja solicitei o cancelamento\", \"pedir o cancelamento\", \"exijo o cancelamento\", \"vamos de cancelamento\", \"eu fiz o cancelamento\", \"tentando o cancelamento\", \"solicitacao de cancelamento\", \"quero fazer o cancelamento\", \"quero o cancelamento\", \"realizar o cancelamento\", \"solicitar o cancelamento\", \"ja esta cancelado\", \"cancelamento do servico\", \"confirmar meu cancelamento\", \"setor de cancelamento\", \"area de cancelamento\", \"clico em cancelamento\", \"pedido de cancelamento\", \"dificil cancelar\", \"cancelamento do plano\", \"cancelamento do pacote\", \"cancelamento do servico\", \"gostaria do cancelamento\", \"gostaria de cancelar\", \"tentando cancelar\"],\n",
    "    'rechamada': [\"central de atendimento\", \"ja liguei na central\", \"liguei algumas vezes\", \"liguei e me informaram\", \"liguei varias vezes\", \"liguei ontem\", \"liguei hoje\", \"liguei agora no 10621\", \"liguei no 10621\", \"quando ligo na central\", \"falei com atendente\", \"liguei na claro\", \"liguei diversas vezes\", \"ja liguei varias vezes\"],\n",
    "    'satisfacao': ['adorei', 'adoro', 'ageis', 'agil', 'agilidade', 'amei', 'atendimento perfeito', 'bem atendid', 'carisma', 'diferenciad', 'educad', 'eficacia', 'eficas', 'eficaz', 'elogiar', 'elogio', 'excelente atendimento', 'feliz', 'gostei', 'impecavel', 'me ajudou', 'merito', 'motivacao', 'motivad', 'muito 10', 'muito bom', 'muito dez', 'nota 10', 'nota dez', 'otimo atendimento', 'parabenizar', 'parabens', 'pela ajuda', 'personalizad', 'preparad', 'prestativ', 'profissional', 'qualidade', 'rapidez', 'resolveu', 'satisfacao', 'satisfatori', 'satisfeit', 'solucionou', 'ate que enfim', 'ate que em fim'],\n",
    "    'concorrencia': [\"clarobr\", \"claro\", \"operadora claro\", \"migrar para a claro\", \"mudar para a claro\", \"contratar a claro\", \"assinar a claro\", \"to indo para a claro\", \"timbrasil\", \"tim\", \"operadora tim\", \"migrar para a tim\", \"mudar para a tim\", \"contratar a tim\", \"assinar a tim\", \"to indo para a tim\", \"tim_ajuda\", \"oi_oficial\", \"operadora oi\", \"migrar para a oi\", \"mudar para a oi\", \"contratar a oi\", \"assinar a oi\", \"to indo para a oi\"],\n",
    "    'contencao': ['desculpa', 'desculpe', 'sinto muito', 'desculpe a demora', 'lamento', 'lamentamos', 'perdoa', 'perdao', 'pelo ocorrido', 'o ocorrido', 'fique tranquil'],\n",
    "    'ocorrencia': ['chamado', 'ocorrencia', 'registrada com sucesso'],\n",
    "    'direcionamento': ['central de atedimento', 'ligar na central', 'somente na central', 'sodexo.com', 'ligue na central'],\n",
    "    'odc': [\"ponho na justica\",\"vou entrar na justica\",\"vou entrar com uma acao\",\"botar na justica\",\"vou ter que entrar na justica\",\"pequenas causas\",\"por na justica\",\"pra mim entrar na justica\",\"eu vou entrar na justica\",\"vou levar pro juiz de pequenas causas\",\"ainda vou pra justica\",\"vou entrar na justica contra voces\",\"voces querem que bote na justica\",\"eu vou botar na justica\",\"vou recorrer nos pequenas causas\",\"eu entro na justica\",\"orgaos competentes\", \"anatelgovbr\", \"anatel\", \"medidas cabiveis\", \"consumidor_gov\", \"consumidor.gov\",  \"reclameaqui\", \"reclame aqui\", \"procurar meus direitos\", \"tomando devidas providencias\", \"vou reclamar na\", \"vou reclamar no\", \"justica\", \"procon\", \"procom\", \"vou processar\", \"vou entrar com um processo\"],\n",
    "    'alto_atrito':['desumano', 'estou chateado', 'estou triste', 'falta de respeito', 'horrivel', 'irritado', 'nao aguento mais', 'nao quero saber da claro', 'palhacada', 'sacanagem', 'voces estao errados', 'absurdo', 'brincadeira', 'pessimo', 'porcaria'],\n",
    "    'nao_pertube':[\"Não perturbe\", \"não me perturbe\", \"parem de me ligar\", \"não receber ligações\", \"NãoMePerturbe\", \"não quero receber ligações\", \"diversas ligações\", \"vivem me ligando\", \"não param de ligar\", \"perturbação\", \"Ligações o dia todo\", \"Ligações indesejadas\", \"Tirem meu número do cadastro\", \"pararem de me ligar\", \"bloqueio das chamadas\", \"tirem meu numero da lista\", \"chamadas por dia\", \"ligações por dia\"],\n",
    "    'nao_resolvido':[\"não resolveram meu problema\", \"não resolvem meu problema\", \"não resolveram meu pobrema\", \"ninguém resolve meu problema\",\"ninguém resolveu o meu problema\", \"ninguém resolve nada\", \"ninguém nunca resolve\", \"nunca conseguem resolver\", \"não consegue resolver\", \"não sabe qual setor resolve meu problema\", \"não sabia dar informação sobre meu caso\", \"nao sabia dar informacao sobre meu caso\", \"não domina o procedimento\", \"nao domina o procedimento\", \"não resolveu meu problema ainda\", \"não resolveu meus problemas ainda\", \"nenhum atendente conseguia solucionar meu problema\", \"nenhum atendente conseguia resolver meu poblema\", \"não resolveram o problema\", \"nao resolveram o problema\", \"não resolvi meu poblema\", \"eu continuo com o mesmo problema\", \"eu continuo com o mesmo poblema\", \"eu permaneço com o mesmo problema\", \"eu permaneco com o mesmo poblema\", \"não foi me passado por isso estou aqui\", \"nunca passam por isso estou aqui\", \"permaneço sem solução\", \"permaneco sem solução\", \"meu problema continua\", \"esse problema não tem fim\", \"o problema persiste sem solução\", \"o problema persiste sem solucao\", \"não resolveu meu problema\", \"não resolveu meus problemas”, “nenhum atendente conseguiu solucionar meu problema”, “nenhum atendente conseguiu solucionar meu poblema\", \"nenhum atendente conseguia solucionar meu problema\", \"não solucionei meu problema\", \"não solucionaram o poblema\", \"não solucionaram nada\", \"não resolvem os problemas\", \"nada de conseguir resolver\", \"não resolução de problema”, “nao resolucao de problema”, “vários atendimentos não resolveram”, “diversos atendimentos não resolvem”, “segue sem resolver meu caso”, “permaneço na mesma sem resolver”, “nunca resolve”, “nunca resolveram”, “esse contato não me serviu”, “nenhum canal resolve”, “ninguém resolve minha reclamação”, “ninguem resolve minha reclamacao”, “ninguém está nem ai pro meu problema”,” tudo errado\",\"ninguém resolve nada\", \"ninguém resolve meu problema\"]\n",
    "          }"
   ]
  },
  {
   "cell_type": "code",
   "execution_count": 4,
   "metadata": {},
   "outputs": [],
   "source": [
    "additional_stop_words = ['porque','bom','dia','tres','três','alo','alô',\n",
    "                         'nan','nome','completo','cpf', 'pra', 'mim', 'atendimento','vivo','meia']"
   ]
  },
  {
   "cell_type": "code",
   "execution_count": 5,
   "metadata": {},
   "outputs": [],
   "source": [
    "interlocutor = {'INTERLOCUTOR': ['SPEAKER_00', 'SPEAKER_01']}\n",
    "response_time = ''\n",
    "format_data = '%d/%m/%Y %H:%M:%S|%d/%m/%Y %H:%M|%Y-%m-%d %H:%M:%S|%d-%m-%Y %H:%M|%d%m%Y %H:%M:%S|%d%b%Y:%H:%M:%S' # 03MAR2022:12:01:33"
   ]
  },
  {
   "cell_type": "code",
   "execution_count": null,
   "metadata": {
    "colab": {
     "base_uri": "https://localhost:8080/"
    },
    "id": "7TkRPqms9ZJh",
    "outputId": "a1095e79-481c-40be-c559-dcafcb4d09f4"
   },
   "outputs": [
    {
     "name": "stdout",
     "output_type": "stream",
     "text": [
      "[07/19 19:05:53] - \u001b[1;36m[Info]: \u001b[0m Load CSV\n",
      "[07/19 19:05:53] - \u001b[1;36m[Info]: \u001b[0m read file /opt/dna/find-keywords/datalake/csv\n",
      "<class 'pandas.core.frame.DataFrame'>\n",
      "RangeIndex: 8597 entries, 0 to 8596\n",
      "Data columns (total 5 columns):\n",
      " #   Column        Non-Null Count  Dtype  \n",
      "---  ------        --------------  -----  \n",
      " 0   ID            8597 non-null   object \n",
      " 1   PROB_1        8597 non-null   float64\n",
      " 2   PROB_2        8597 non-null   float64\n",
      " 3   INTERLOCUTOR  8597 non-null   object \n",
      " 4   TEXT          7079 non-null   object \n",
      "dtypes: float64(2), object(3)\n",
      "memory usage: 335.9+ KB\n",
      "[07/19 19:05:53] - \u001b[1;32m[Debug]: \u001b[0m Schema of dataframe is None\n",
      "[07/19 19:05:53] - \u001b[1;36m[Info]: \u001b[0m Normalize Datas Values\n",
      "[07/19 19:05:53] - \u001b[1;36m[Info]: \u001b[0m convert column_text column to string type\n",
      "[07/19 19:05:53] - \u001b[1;36m[Info]: \u001b[0m put column_text in lower case\n",
      "[07/19 19:05:53] - \u001b[1;36m[Info]: \u001b[0m normalize id column\n",
      "[07/19 19:05:53] - \u001b[1;36m[Info]: \u001b[0m create date column timestamp\n",
      "[07/19 19:05:53] - \u001b[1;32m[Debug]: \u001b[0m dataformat: 0    2022-07-19 22:05:53\n",
      "1    2022-07-19 22:05:53\n",
      "2    2022-07-19 22:05:53\n",
      "3    2022-07-19 22:05:53\n",
      "4    2022-07-19 22:05:53\n",
      "Name: , dtype: object\n",
      "[07/19 19:05:53] - \u001b[1;36m[Info]: \u001b[0m Start Complete Process\n",
      "[07/19 19:05:53] - \u001b[1;36m[Info]: \u001b[0m Using StopWords\n",
      "[07/19 19:05:53] - \u001b[1;36m[Info]: \u001b[0m remove stop words from text\n",
      "[07/19 19:05:53] - \u001b[1;36m[Info]: \u001b[0m result before of process stop words \n",
      " 0    tendi                    \n",
      "1    mas o técnico não bom dia\n",
      "2    bom dia                  \n",
      "3    eu falo                  \n",
      "4    o miguel                 \n",
      "Name: TEXT, dtype: object\n"
     ]
    },
    {
     "name": "stderr",
     "output_type": "stream",
     "text": [
      "/opt/dna/find-keywords/api_model/utils/functions.py:152: FutureWarning: The pandas.datetime class is deprecated and will be removed from pandas in a future version. Import from datetime module instead.\n",
      "  df[response_time] =pd.datetime.now().strftime(\"%Y-%m-%d %H:%M:%S\")\n"
     ]
    },
    {
     "name": "stdout",
     "output_type": "stream",
     "text": [
      "[07/19 19:06:29] - \u001b[1;36m[Info]: \u001b[0m result after of process stop words \n",
      " 0    tendi  \n",
      "1    técnico\n",
      "2           \n",
      "3    falo   \n",
      "4    miguel \n",
      "Name: TEXT, dtype: object\n",
      "[07/19 19:06:29] - \u001b[1;36m[Info]: \u001b[0m Start Text Mining\n",
      "[07/19 19:06:29] - \u001b[1;36m[Info]: \u001b[0m remove special characters and pontuation of column_text\n",
      "[07/19 19:06:30] - \u001b[1;36m[Info]: \u001b[0m tranform text in text lemma\n",
      "[07/19 19:08:07] - \u001b[1;36m[Info]: \u001b[0m Start Word Search\n",
      "[07/19 19:08:07] - \u001b[1;36m[Info]: \u001b[0m collect words and find in column_text\n",
      "[07/19 19:08:07] - \u001b[1;32m[Debug]: \u001b[0m dict: {'negatividade': ['a desejar', 'abrir uma reclamacao', 'absurd', 'aguento mais', 'boceta', 'bosta', 'brigaram', 'buceta', 'burocra', 'cansad', 'caralho', 'conflito', 'constrang', 'decepcao', 'decepcionad', 'quanta demora', 'que demora', 'tentando resolver', 'descontent', 'descrenca', 'descrente', 'desrespeit', 'fdp', 'filha da puta', 'filha de uma puta', 'filho da puta', 'filho de uma puta', 'frustracao', 'frustrad', 'humilhacao', 'humilhad', 'ignorad', 'ignoram', 'incompet', 'inferno', 'informa nada', 'injuria', 'ironia', 'ironic', 'irreponsaveis', 'irresponsabilidade', 'irresponsavel', 'ma vontade', 'mal a pior', 'mal atendid', 'mal educad', 'mal respondem', 'mal tratad', 'mau atendid', 'mau educad', 'mau respondem', 'mau tratad', 'merda', 'nao podemos arcar', 'nao posso arcar', 'nao sabe', 'ninguem resolve', 'ofenderam', 'ofendid', 'orrivel', 'pelo amor de deus', 'pessimo', 'pessimu', 'porra', 'poxa', 'pqp', 'puta que pariu', 'reclamacao', 'reclamar', 'ridicul', 'ruim', 'sabe nada', 'sem educacao', 'ta dificil', 'trata mal', 'trata mau', 'tratou mal', 'tratou mau', 'triste', 'vergonh', 'vagabund', 'raiva', 'detest', 'nao quero mais', 'odeio', 'safad', 'deus me livre', 'vergonh'], 'cancelamento': ['podem cancelar', 'quero cancelar', 'vou cancelar', 'ja pedi o cancelamento', 'ja solicitei o cancelamento', 'pedir o cancelamento', 'exijo o cancelamento', 'vamos de cancelamento', 'eu fiz o cancelamento', 'tentando o cancelamento', 'solicitacao de cancelamento', 'quero fazer o cancelamento', 'quero o cancelamento', 'realizar o cancelamento', 'solicitar o cancelamento', 'ja esta cancelado', 'cancelamento do servico', 'confirmar meu cancelamento', 'setor de cancelamento', 'area de cancelamento', 'clico em cancelamento', 'pedido de cancelamento', 'dificil cancelar', 'cancelamento do plano', 'cancelamento do pacote', 'cancelamento do servico', 'gostaria do cancelamento', 'gostaria de cancelar', 'tentando cancelar'], 'rechamada': ['central de atendimento', 'ja liguei na central', 'liguei algumas vezes', 'liguei e me informaram', 'liguei varias vezes', 'liguei ontem', 'liguei hoje', 'liguei agora no 10621', 'liguei no 10621', 'quando ligo na central', 'falei com atendente', 'liguei na claro', 'liguei diversas vezes', 'ja liguei varias vezes'], 'satisfacao': ['adorei', 'adoro', 'ageis', 'agil', 'agilidade', 'amei', 'atendimento perfeito', 'bem atendid', 'carisma', 'diferenciad', 'educad', 'eficacia', 'eficas', 'eficaz', 'elogiar', 'elogio', 'excelente atendimento', 'feliz', 'gostei', 'impecavel', 'me ajudou', 'merito', 'motivacao', 'motivad', 'muito 10', 'muito bom', 'muito dez', 'nota 10', 'nota dez', 'otimo atendimento', 'parabenizar', 'parabens', 'pela ajuda', 'personalizad', 'preparad', 'prestativ', 'profissional', 'qualidade', 'rapidez', 'resolveu', 'satisfacao', 'satisfatori', 'satisfeit', 'solucionou', 'ate que enfim', 'ate que em fim'], 'concorrencia': ['clarobr', 'claro', 'operadora claro', 'migrar para a claro', 'mudar para a claro', 'contratar a claro', 'assinar a claro', 'to indo para a claro', 'timbrasil', 'tim', 'operadora tim', 'migrar para a tim', 'mudar para a tim', 'contratar a tim', 'assinar a tim', 'to indo para a tim', 'tim_ajuda', 'oi_oficial', 'operadora oi', 'migrar para a oi', 'mudar para a oi', 'contratar a oi', 'assinar a oi', 'to indo para a oi'], 'contencao': ['desculpa', 'desculpe', 'sinto muito', 'desculpe a demora', 'lamento', 'lamentamos', 'perdoa', 'perdao', 'pelo ocorrido', 'o ocorrido', 'fique tranquil'], 'ocorrencia': ['chamado', 'ocorrencia', 'registrada com sucesso'], 'direcionamento': ['central de atedimento', 'ligar na central', 'somente na central', 'sodexo.com', 'ligue na central'], 'odc': ['ponho na justica', 'vou entrar na justica', 'vou entrar com uma acao', 'botar na justica', 'vou ter que entrar na justica', 'pequenas causas', 'por na justica', 'pra mim entrar na justica', 'eu vou entrar na justica', 'vou levar pro juiz de pequenas causas', 'ainda vou pra justica', 'vou entrar na justica contra voces', 'voces querem que bote na justica', 'eu vou botar na justica', 'vou recorrer nos pequenas causas', 'eu entro na justica', 'orgaos competentes', 'anatelgovbr', 'anatel', 'medidas cabiveis', 'consumidor_gov', 'consumidor.gov', 'reclameaqui', 'reclame aqui', 'procurar meus direitos', 'tomando devidas providencias', 'vou reclamar na', 'vou reclamar no', 'justica', 'procon', 'procom', 'vou processar', 'vou entrar com um processo'], 'alto_atrito': ['desumano', 'estou chateado', 'estou triste', 'falta de respeito', 'horrivel', 'irritado', 'nao aguento mais', 'nao quero saber da claro', 'palhacada', 'sacanagem', 'voces estao errados', 'absurdo', 'brincadeira', 'pessimo', 'porcaria'], 'nao_pertube': ['Não perturbe', 'não me perturbe', 'parem de me ligar', 'não receber ligações', 'NãoMePerturbe', 'não quero receber ligações', 'diversas ligações', 'vivem me ligando', 'não param de ligar', 'perturbação', 'Ligações o dia todo', 'Ligações indesejadas', 'Tirem meu número do cadastro', 'pararem de me ligar', 'bloqueio das chamadas', 'tirem meu numero da lista', 'chamadas por dia', 'ligações por dia'], 'nao_resolvido': ['não resolveram meu problema', 'não resolvem meu problema', 'não resolveram meu pobrema', 'ninguém resolve meu problema', 'ninguém resolveu o meu problema', 'ninguém resolve nada', 'ninguém nunca resolve', 'nunca conseguem resolver', 'não consegue resolver', 'não sabe qual setor resolve meu problema', 'não sabia dar informação sobre meu caso', 'nao sabia dar informacao sobre meu caso', 'não domina o procedimento', 'nao domina o procedimento', 'não resolveu meu problema ainda', 'não resolveu meus problemas ainda', 'nenhum atendente conseguia solucionar meu problema', 'nenhum atendente conseguia resolver meu poblema', 'não resolveram o problema', 'nao resolveram o problema', 'não resolvi meu poblema', 'eu continuo com o mesmo problema', 'eu continuo com o mesmo poblema', 'eu permaneço com o mesmo problema', 'eu permaneco com o mesmo poblema', 'não foi me passado por isso estou aqui', 'nunca passam por isso estou aqui', 'permaneço sem solução', 'permaneco sem solução', 'meu problema continua', 'esse problema não tem fim', 'o problema persiste sem solução', 'o problema persiste sem solucao', 'não resolveu meu problema', 'não resolveu meus problemas”, “nenhum atendente conseguiu solucionar meu problema”, “nenhum atendente conseguiu solucionar meu poblema', 'nenhum atendente conseguia solucionar meu problema', 'não solucionei meu problema', 'não solucionaram o poblema', 'não solucionaram nada', 'não resolvem os problemas', 'nada de conseguir resolver', 'não resolução de problema”, “nao resolucao de problema”, “vários atendimentos não resolveram”, “diversos atendimentos não resolvem”, “segue sem resolver meu caso”, “permaneço na mesma sem resolver”, “nunca resolve”, “nunca resolveram”, “esse contato não me serviu”, “nenhum canal resolve”, “ninguém resolve minha reclamação”, “ninguem resolve minha reclamacao”, “ninguém está nem ai pro meu problema”,” tudo errado', 'ninguém resolve nada', 'ninguém resolve meu problema']}\n",
      "[07/19 19:09:43] - \u001b[1;36m[Info]: \u001b[0m Send Some Statistics of DataFrame\n",
      "[07/19 19:09:43] - \u001b[1;36m[Info]: \u001b[0m check numbers words by rows\n",
      "[07/19 19:09:43] - \u001b[1;36m[Info]: \u001b[0m numbers of rows < 3 words from line 6839\n",
      "[07/19 19:09:43] - \u001b[1;36m[Info]: \u001b[0m numbers of promotors lines 1758\n",
      "[07/19 19:09:43] - \u001b[1;36m[Info]: \u001b[0m Called Pyspark DataFrame\n",
      "[07/19 19:09:43] - \u001b[1;36m[Info]: \u001b[0m rename valus of interlocutor column: INTERLOCUTOR\n",
      "[07/19 19:09:43] - \u001b[1;36m[Info]: \u001b[0m convert dataframe pandas to pyspark\n",
      "[07/19 19:09:43] - \u001b[1;32m[Debug]: \u001b[0m save temp file\n",
      "[07/19 19:09:43] - \u001b[1;36m[Info]: \u001b[0m save csf file\n",
      "[07/19 19:09:44] - \u001b[1;36m[Info]: \u001b[0m Finishing Process\n",
      "[07/19 19:09:44] - \u001b[1;32m[Debug]: \u001b[0m load temp file\n",
      "[07/19 19:09:44] - \u001b[1;36m[Info]: \u001b[0m load csf file temp\n",
      "[07/19 19:09:44] - \u001b[1;36m[Info]: \u001b[0m [INFO] Creating default Spark Session\n"
     ]
    },
    {
     "name": "stderr",
     "output_type": "stream",
     "text": [
      "WARNING: An illegal reflective access operation has occurred\n",
      "WARNING: Illegal reflective access by org.apache.spark.unsafe.Platform (file:/usr/local/spark-3.1.2-bin-hadoop3.2/jars/spark-unsafe_2.12-3.1.2.jar) to constructor java.nio.DirectByteBuffer(long,int)\n",
      "WARNING: Please consider reporting this to the maintainers of org.apache.spark.unsafe.Platform\n",
      "WARNING: Use --illegal-access=warn to enable warnings of further illegal reflective access operations\n",
      "WARNING: All illegal access operations will be denied in a future release\n",
      "22/07/19 22:09:49 WARN NativeCodeLoader: Unable to load native-hadoop library for your platform... using builtin-java classes where applicable\n",
      "Using Spark's default log4j profile: org/apache/spark/log4j-defaults.properties\n",
      "Setting default log level to \"WARN\".\n",
      "To adjust logging level use sc.setLogLevel(newLevel). For SparkR, use setLogLevel(newLevel).\n"
     ]
    },
    {
     "name": "stdout",
     "output_type": "stream",
     "text": [
      "[07/19 19:10:00] - \u001b[1;36m[Info]: \u001b[0m Finishing Process\n",
      "[07/19 19:10:00] - \u001b[1;36m[Info]: \u001b[0m created message order\n",
      "Generating `message_order` column\n",
      "root\n",
      " |-- issue_id: string (nullable = true)\n",
      " |-- PROB_1: string (nullable = true)\n",
      " |-- PROB_2: string (nullable = true)\n",
      " |-- message_author: string (nullable = true)\n",
      " |-- message_content: string (nullable = true)\n",
      " |-- message_time: string (nullable = true)\n",
      " |-- negatividade_findint: string (nullable = true)\n",
      " |-- cancelamento_findint: string (nullable = true)\n",
      " |-- rechamada_findint: string (nullable = true)\n",
      " |-- satisfacao_findint: string (nullable = true)\n",
      " |-- concorrencia_findint: string (nullable = true)\n",
      " |-- contencao_findint: string (nullable = true)\n",
      " |-- ocorrencia_findint: string (nullable = true)\n",
      " |-- direcionamento_findint: string (nullable = true)\n",
      " |-- odc_findint: string (nullable = true)\n",
      " |-- alto_atrito_findint: string (nullable = true)\n",
      " |-- nao_pertube_findint: string (nullable = true)\n",
      " |-- nao_resolvido_findint: string (nullable = true)\n",
      " |-- numbers_words: string (nullable = true)\n",
      " |-- message_order: integer (nullable = true)\n",
      "\n",
      "[07/19 19:10:00] - \u001b[1;32m[Debug]: \u001b[0m print new columns of pyspark dataframe: None\n",
      "[07/19 19:10:00] - \u001b[1;36m[Info]: \u001b[0m remove null values of dataset\n",
      "[07/19 19:10:03] - \u001b[1;32m[Debug]: \u001b[0m count rows after remove null values 5255\n",
      "[07/19 19:10:03] - \u001b[1;32m[Debug]: \u001b[0m created a new collect dict of interlocutor\n",
      "[07/19 19:10:03] - \u001b[1;32m[Debug]: \u001b[0m new collect dict {'message_author': ['SPEAKER_00', 'SPEAKER_01']}\n",
      "[07/19 19:10:03] - \u001b[1;32m[Debug]: \u001b[0m created a original column\n",
      "[07/19 19:10:04] - \u001b[1;36m[Info]: \u001b[0m agroup all menssages for ticket\n",
      "Grouping messages into one unique record\n",
      "[07/19 19:10:04] - \u001b[1;32m[Debug]: \u001b[0m Message Author Column: message_author\n",
      "[07/19 19:10:04] - \u001b[1;32m[Debug]: \u001b[0m Message content Column: message_content\n",
      "[07/19 19:10:04] - \u001b[1;32m[Debug]: \u001b[0m [], []\n",
      "[07/19 19:10:04] - \u001b[1;32m[Debug]: \u001b[0m separadores cliente e operador, {'message_author': ['SPEAKER_00', 'SPEAKER_01']}\n",
      "[07/19 19:10:04] - \u001b[1;32m[Debug]: \u001b[0m Joining messages to all_messages\n",
      "[07/19 19:10:04] - \u001b[1;32m[Debug]: \u001b[0m Joining messages to all_messages_message_author_SPEAKER_00\n",
      "[07/19 19:10:04] - \u001b[1;32m[Debug]: \u001b[0m Joining messages to all_messages_message_author_SPEAKER_01\n",
      "[07/19 19:10:04] - \u001b[1;32m[Debug]: \u001b[0m MAX columns: {'rechamada_findint', 'nao_resolvido_findint', 'direcionamento_findint', 'concorrencia_findint', 'negatividade_findint', 'alto_atrito_findint', 'cancelamento_findint', 'nao_pertube_findint', 'contencao_findint', 'odc_findint', 'ocorrencia_findint', 'satisfacao_findint'}\n",
      "[07/19 19:10:04] - \u001b[1;32m[Debug]: \u001b[0m AVG columns: set()\n",
      "[07/19 19:10:04] - \u001b[1;32m[Debug]: \u001b[0m FIRST columns: {'PROB_2', 'has_attendant', 'PROB_1', 'message_order', 'numbers_words', 'message_author', 'message_time'}\n"
     ]
    },
    {
     "name": "stderr",
     "output_type": "stream",
     "text": [
      "                                                                                \r"
     ]
    },
    {
     "name": "stdout",
     "output_type": "stream",
     "text": [
      "[07/19 19:10:10] - \u001b[1;36m[Info]: \u001b[0m numbers of rows agrouped 5179\n",
      "[07/19 19:10:10] - \u001b[1;36m[Info]: \u001b[0m Generating wordcloud columns for \"\u001b[0;36mall_messages\u001b[0m\" with prefix \"countent\"\n"
     ]
    },
    {
     "name": "stderr",
     "output_type": "stream",
     "text": [
      "22/07/19 22:11:09 WARN package: Truncated the string representation of a plan since it was too large. This behavior can be adjusted by setting 'spark.sql.debug.maxToStringFields'.\n",
      "[Stage 92:=========>    (134 + 8) / 200][Stage 93:>              (11 + 0) / 200]\r"
     ]
    }
   ],
   "source": [
    "df = NlExtractorProcess.call_process(filename, prefix, prefix_sep,\\\n",
    "                                     column_text, whats_process,\\\n",
    "                                     text_finds, id_database, type_find,\\\n",
    "                                     additional_stop_words, activate_stopwords,\\\n",
    "                                    interlocutor, response_time, format_data, encoding)"
   ]
  },
  {
   "cell_type": "code",
   "execution_count": null,
   "metadata": {
    "scrolled": true,
    "tags": []
   },
   "outputs": [],
   "source": [
    "df.head()"
   ]
  },
  {
   "cell_type": "code",
   "execution_count": null,
   "metadata": {},
   "outputs": [],
   "source": [
    "df.count()"
   ]
  },
  {
   "cell_type": "code",
   "execution_count": null,
   "metadata": {
    "id": "kqGE2FYygAf7"
   },
   "outputs": [],
   "source": [
    "filename = 'results_100_call'\n",
    "column_filter = '' # deixar esse campo vazio caso queira ver tudo\n",
    "column_text = 'all_messages'\n",
    "whats_process = 'trigram' # trigram or bigram"
   ]
  },
  {
   "cell_type": "code",
   "execution_count": null,
   "metadata": {},
   "outputs": [],
   "source": [
    "NlVisualization.wordCloud_Topics(filename,column_filter,column_text,whats_process)"
   ]
  },
  {
   "cell_type": "code",
   "execution_count": null,
   "metadata": {},
   "outputs": [],
   "source": [
    "NlVisualization.plot_10_most_common_words(filename,column_filter,column_text)"
   ]
  },
  {
   "cell_type": "code",
   "execution_count": null,
   "metadata": {},
   "outputs": [],
   "source": [
    "import matplotlib.pyplot as plt\n",
    "plt.rcParams['figure.figsize'] = (46, 9)\n",
    "NlVisualization.pareto_plot(filename, x='countent_bigram', y='count', title='Alias Pareto Distribution', limite=20)"
   ]
  },
  {
   "cell_type": "code",
   "execution_count": null,
   "metadata": {},
   "outputs": [],
   "source": [
    "NlVisualization.tsne_plot(filename, column_text, 'pagamento', 40, n_iter=300, vector_size=300, min_count=20, window=30)"
   ]
  },
  {
   "cell_type": "code",
   "execution_count": null,
   "metadata": {},
   "outputs": [],
   "source": [
    "clst, optimal_k, df = NlVisualization.clustering_model(filename, column_text, model='kmeans', plot=True, max_k=20)"
   ]
  },
  {
   "cell_type": "code",
   "execution_count": null,
   "metadata": {},
   "outputs": [],
   "source": [
    "df.head()"
   ]
  },
  {
   "cell_type": "code",
   "execution_count": null,
   "metadata": {},
   "outputs": [],
   "source": []
  }
 ],
 "metadata": {
  "colab": {
   "collapsed_sections": [],
   "name": "findkeywords.ipynb",
   "provenance": []
  },
  "kernelspec": {
   "display_name": "Python 3 (ipykernel)",
   "language": "python",
   "name": "python3"
  },
  "language_info": {
   "codemirror_mode": {
    "name": "ipython",
    "version": 3
   },
   "file_extension": ".py",
   "mimetype": "text/x-python",
   "name": "python",
   "nbconvert_exporter": "python",
   "pygments_lexer": "ipython3",
   "version": "3.9.7"
  }
 },
 "nbformat": 4,
 "nbformat_minor": 4
}
