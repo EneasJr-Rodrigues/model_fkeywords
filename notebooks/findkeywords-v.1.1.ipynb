{
 "cells": [
  {
   "cell_type": "markdown",
   "metadata": {
    "id": "0a9eVyEf8m3x"
   },
   "source": [
    "## Install Lib API"
   ]
  },
  {
   "cell_type": "code",
   "execution_count": null,
   "metadata": {
    "colab": {
     "base_uri": "https://localhost:8080/",
     "height": 1000
    },
    "id": "SeaRwOQILfbQ",
    "outputId": "445546b4-fdaa-4339-ac47-998708aaa1bf"
   },
   "outputs": [],
   "source": [
    "! pip install https://dnaink.jfrog.io/artifactory/dna-ink-pypi/model-fkeywords/0.1.0/model_fkeywords-0.1.0-py3-none-any.whl"
   ]
  },
  {
   "cell_type": "code",
   "execution_count": null,
   "metadata": {
    "colab": {
     "base_uri": "https://localhost:8080/"
    },
    "id": "E2fySI3fItig",
    "outputId": "6473fa3b-ea7c-447d-bb99-97343e976c36"
   },
   "outputs": [],
   "source": [
    "! python -m spacy download pt_core_news_sm"
   ]
  },
  {
   "cell_type": "markdown",
   "metadata": {
    "id": "rT8kEWlx8rCY"
   },
   "source": [
    "## Import libs"
   ]
  },
  {
   "cell_type": "code",
   "execution_count": 1,
   "metadata": {
    "colab": {
     "base_uri": "https://localhost:8080/"
    },
    "id": "3eC66XX18HW0",
    "outputId": "b6bd1a4f-8d53-4346-dede-d60df790fe54"
   },
   "outputs": [
    {
     "name": "stderr",
     "output_type": "stream",
     "text": [
      "[nltk_data] Downloading package punkt to /home/jovyan/nltk_data...\n",
      "[nltk_data]   Package punkt is already up-to-date!\n",
      "/tmp/ipykernel_10686/1571986624.py:5: FutureWarning: Passing a negative integer is deprecated in version 1.0 and will not be supported in future version. Instead, use None to not limit the column width.\n",
      "  pd.set_option('display.max_colwidth', -1)\n"
     ]
    }
   ],
   "source": [
    "import pandas as pd\n",
    "from api_model.nlsuper import NlExtractorProcess\n",
    "from api_model.nlvisualization import NlVisualization\n",
    "\n",
    "pd.set_option('display.max_colwidth', -1)\n",
    "pd.set_option('display.max_rows', None)"
   ]
  },
  {
   "cell_type": "markdown",
   "metadata": {},
   "source": [
    "## Variables"
   ]
  },
  {
   "cell_type": "markdown",
   "metadata": {},
   "source": [
    "##### Description of process\n",
    "        whats_process = 'complete'\n",
    "            return: process all pipeline\n",
    "        whats_process = 'partial'\n",
    "            return: findkeywords and process bigrams\n",
    "        whats_process = 'only_keywords'\n",
    "            return: findkeywords   "
   ]
  },
  {
   "cell_type": "code",
   "execution_count": 2,
   "metadata": {},
   "outputs": [],
   "source": [
    "filename = 'LIBERACAO_MARGEM_TESTE'\n",
    "prefix = 'csv'\n",
    "prefix_sep = '|'\n",
    "column_text = 'TRANSCRICAO'\n",
    "whats_process = 'complete'\n",
    "#whats_process = 'partial'\n",
    "#whats_process = 'only_keywords'\n",
    "id_database = 'ID'\n",
    "type_find = 'aproximado' # aproximado # fixo\n",
    "activate_stopwords = 'sim' # não"
   ]
  },
  {
   "cell_type": "code",
   "execution_count": 3,
   "metadata": {},
   "outputs": [],
   "source": [
    "text_finds = {\n",
    "    'negatividade': ['a desejar', 'abrir uma reclamacao', 'absurd', 'aguento mais', 'boceta', 'bosta', 'brigaram', 'buceta', 'burocra', 'cansad', 'caralho', 'conflito', 'constrang', 'decepcao', 'decepcionad', 'quanta demora', 'que demora', 'tentando resolver', 'descontent', 'descrenca', 'descrente', 'desrespeit', 'fdp', 'filha da puta', 'filha de uma puta', 'filho da puta', 'filho de uma puta', 'frustracao', 'frustrad', 'humilhacao', 'humilhad', 'ignorad', 'ignoram', 'incompet', 'inferno', 'informa nada', 'injuria', 'ironia', 'ironic', 'irreponsaveis', 'irresponsabilidade', 'irresponsavel', 'ma vontade', 'mal a pior', 'mal atendid', 'mal educad', 'mal respondem', 'mal tratad', 'mau atendid', 'mau educad', 'mau respondem', 'mau tratad', 'merda', 'nao podemos arcar', 'nao posso arcar', 'nao sabe', 'ninguem resolve', 'ofenderam', 'ofendid', 'orrivel', 'pelo amor de deus', 'pessimo', 'pessimu', 'porra', 'poxa', 'pqp', 'puta que pariu', 'reclamacao', 'reclamar', 'ridicul', 'ruim', 'sabe nada', 'sem educacao', 'ta dificil', 'trata mal', 'trata mau', 'tratou mal', 'tratou mau', 'triste', 'vergonh', 'vagabund', 'raiva', 'detest', 'nao quero mais', 'odeio', 'safad', 'deus me livre', 'vergonh'],\n",
    "    'reputacao': ['advogad', 'consumidor.gov', 'entrar com processo', 'facebook', 'instagram', 'judiciais', 'judicial', 'justica', 'meu direito', 'meus direito', 'ouvidoria', 'pequenas causas', 'processar voces', 'procon', 'reclame aqui', 'reclameaqui', 'twitter'],\n",
    "    'rechamada': ['ainda nao', 'alguma posicao', 'ate agora', 'ate o momento', 'atraso', 'chamado aberto', 'consigo resolver', 'contato novamente', 'continuo sem acesso', 'de novo', 'demora', 'desde ontem', 'desde semana', 'diversas vezes', 'duas vezes', 'em andamento', 'entrei em contato', 'era pra ter', 'faz um mes', 'faz uma semana', 'ja abri', 'ja enviei', 'ja liguei', 'ja mandei', 'liguei pra central', 'mesmo erro', 'muitas vezes', 'nao chegou', 'nao e a primeira vez', 'ocorrencia aberta', 'posicionamento', 'segunda vez', 'sem sucesso', 'tentativa', 'terceira vez', 'todo dia', 'varias vezes', 'chamado aberto'],\n",
    "    'satisfacao': ['adorei', 'adoro', 'ageis', 'agil', 'agilidade', 'amei', 'atendimento perfeito', 'bem atendid', 'carisma', 'diferenciad', 'educad', 'eficacia', 'eficas', 'eficaz', 'elogiar', 'elogio', 'excelente atendimento', 'feliz', 'gostei', 'impecavel', 'me ajudou', 'merito', 'motivacao', 'motivad', 'muito 10', 'muito bom', 'muito dez', 'nota 10', 'nota dez', 'otimo atendimento', 'parabenizar', 'parabens', 'pela ajuda', 'personalizad', 'preparad', 'prestativ', 'profissional', 'qualidade', 'rapidez', 'resolveu', 'satisfacao', 'satisfatori', 'satisfeit', 'solucionou', 'ate que enfim', 'ate que em fim'],\n",
    "    'concorrencia': ['ifood', 'caju', 'vee', 'flash', 'bem', 'up', 'VR', 'ticket', 'alelo', 'swile'],\n",
    "    'contencao': ['desculpa', 'desculpe', 'sinto muito', 'desculpe a demora', 'lamento', 'lamentamos', 'perdoa', 'perdao', 'pelo ocorrido', 'o ocorrido', 'fique tranquil'],\n",
    "    'ocorrencia': ['chamado', 'ocorrencia', 'registrada com sucesso'],\n",
    "    'direcionamento': ['central de atedimento', 'ligar na central', 'somente na central', 'sodexo.com', 'ligue na central'],\n",
    "    'pedefacil': ['clique no', 'clique em', 'menu servicos', 'do menu', 'pede facil', 'clica no', 'clica em', 'diretamente no site', 'visualizar em', 'no menu', 'menu'],\n",
    "    'ativo': ['analista pode entrar em contato', 'o analista entrara em contato', 'para te auxiliar na proposta', 'solicitei o contato', 'deixe seu contato']\n",
    "\n",
    "          }"
   ]
  },
  {
   "cell_type": "code",
   "execution_count": 4,
   "metadata": {},
   "outputs": [],
   "source": [
    "additional_stop_words = ['porque','bom','dia','tres','três','alo','alô']"
   ]
  },
  {
   "cell_type": "code",
   "execution_count": 5,
   "metadata": {},
   "outputs": [],
   "source": [
    "interlocutor = {'CANAL': ['LEFT', 'RIGHT']}\n",
    "response_time = 'STARTTIME'\n",
    "format_data = '%d/%m/%Y %H:%M:%S|%d/%m/%Y %H:%M|%Y-%m-%d %H:%M:%S|%d-%m-%Y %H:%M|%d%m%Y %H:%M:%S|%d%b%Y:%H:%M:%S' # 03MAR2022:12:01:33"
   ]
  },
  {
   "cell_type": "code",
   "execution_count": 6,
   "metadata": {
    "colab": {
     "base_uri": "https://localhost:8080/"
    },
    "id": "7TkRPqms9ZJh",
    "outputId": "a1095e79-481c-40be-c559-dcafcb4d09f4"
   },
   "outputs": [
    {
     "name": "stdout",
     "output_type": "stream",
     "text": [
      "[06/20 22:13:50] - \u001b[1;36m[Info]: \u001b[0m Load CSV\n",
      "[06/20 22:13:50] - \u001b[1;36m[Info]: \u001b[0m read file /opt/dna/find-keywords/datalake/csv\n",
      "<class 'pandas.core.frame.DataFrame'>\n",
      "RangeIndex: 5002 entries, 0 to 5001\n",
      "Data columns (total 21 columns):\n",
      " #   Column        Non-Null Count  Dtype  \n",
      "---  ------        --------------  -----  \n",
      " 0   CPF           5002 non-null   int64  \n",
      " 1   DURATION      5002 non-null   int64  \n",
      " 2   ENDTIME       5002 non-null   object \n",
      " 3   EXTERNALID    5002 non-null   object \n",
      " 4   ID            5002 non-null   int64  \n",
      " 5   STARTTIME     5002 non-null   object \n",
      " 6   MONOCHANNEL   4 non-null      object \n",
      " 7   SEQUENCIA     4997 non-null   float64\n",
      " 8   CANAL         4997 non-null   object \n",
      " 9   TRANSCRICAO   4997 non-null   object \n",
      " 10  AGENT         5002 non-null   object \n",
      " 11  WORKGROUP     5002 non-null   object \n",
      " 12  CATEGORIES    5002 non-null   object \n",
      " 13  TOPICS        4964 non-null   object \n",
      " 14  RECHAMADAS    0 non-null      float64\n",
      " 15  URA_LOG       5002 non-null   int64  \n",
      " 16  FILA          4310 non-null   object \n",
      " 17  VQ            3280 non-null   object \n",
      " 18  CALLTYPE      5002 non-null   object \n",
      " 19  CONTACTID     5002 non-null   object \n",
      " 20  DATA_ARQUIVO  5002 non-null   int64  \n",
      "dtypes: float64(2), int64(5), object(14)\n",
      "memory usage: 820.8+ KB\n",
      "[06/20 22:13:50] - \u001b[1;32m[Debug]: \u001b[0m Schema of dataframe is None\n",
      "[06/20 22:13:50] - \u001b[1;36m[Info]: \u001b[0m Normalize Datas Values\n",
      "[06/20 22:13:50] - \u001b[1;36m[Info]: \u001b[0m convert column_text column to string type\n",
      "[06/20 22:13:50] - \u001b[1;36m[Info]: \u001b[0m put column_text in lower case\n",
      "[06/20 22:13:50] - \u001b[1;36m[Info]: \u001b[0m normalize id column\n",
      "[06/20 22:13:50] - \u001b[1;36m[Info]: \u001b[0m convert date column string in date column timestamp\n",
      "[06/20 22:13:50] - \u001b[1;32m[Debug]: \u001b[0m dataformat: 0    None\n",
      "1    None\n",
      "2    None\n",
      "3    None\n",
      "4    None\n",
      "Name: STARTTIME, dtype: object\n",
      "[06/20 22:13:50] - \u001b[1;36m[Info]: \u001b[0m Start Complete Process\n",
      "[06/20 22:13:50] - \u001b[1;36m[Info]: \u001b[0m Using StopWords\n",
      "[06/20 22:13:50] - \u001b[1;36m[Info]: \u001b[0m convert text in tokens\n",
      "[06/20 22:13:50] - \u001b[1;36m[Info]: \u001b[0m remove stop words from text \n",
      " 0    [três, três]\n",
      "1    [com]       \n",
      "2    [..]        \n",
      "3    [eu, sei]   \n",
      "4    [.., alô, .]\n",
      "Name: TRANSCRICAO, dtype: object\n",
      "[06/20 22:14:00] - \u001b[1;36m[Info]: \u001b[0m convert tokens in string \n",
      " 0    []     \n",
      "1    []     \n",
      "2    [..]   \n",
      "3    [sei]  \n",
      "4    [.., .]\n",
      "Name: TRANSCRICAO, dtype: object\n",
      "[06/20 22:14:00] - \u001b[1;36m[Info]: \u001b[0m text without stop words \n",
      " 0       \n",
      "1       \n",
      "2       \n",
      "3    sei\n",
      "4       \n",
      "Name: TRANSCRICAO, dtype: object\n",
      "[06/20 22:14:00] - \u001b[1;36m[Info]: \u001b[0m Start Text Mining\n",
      "[06/20 22:14:00] - \u001b[1;36m[Info]: \u001b[0m remove special characters and pontuation of column_text\n",
      "[06/20 22:14:00] - \u001b[1;36m[Info]: \u001b[0m Start Word Search\n",
      "[06/20 22:14:00] - \u001b[1;36m[Info]: \u001b[0m collect words and find in column_text\n",
      "[06/20 22:14:00] - \u001b[1;32m[Debug]: \u001b[0m dict: {'negatividade': ['a desejar', 'abrir uma reclamacao', 'absurd', 'aguento mais', 'boceta', 'bosta', 'brigaram', 'buceta', 'burocra', 'cansad', 'caralho', 'conflito', 'constrang', 'decepcao', 'decepcionad', 'quanta demora', 'que demora', 'tentando resolver', 'descontent', 'descrenca', 'descrente', 'desrespeit', 'fdp', 'filha da puta', 'filha de uma puta', 'filho da puta', 'filho de uma puta', 'frustracao', 'frustrad', 'humilhacao', 'humilhad', 'ignorad', 'ignoram', 'incompet', 'inferno', 'informa nada', 'injuria', 'ironia', 'ironic', 'irreponsaveis', 'irresponsabilidade', 'irresponsavel', 'ma vontade', 'mal a pior', 'mal atendid', 'mal educad', 'mal respondem', 'mal tratad', 'mau atendid', 'mau educad', 'mau respondem', 'mau tratad', 'merda', 'nao podemos arcar', 'nao posso arcar', 'nao sabe', 'ninguem resolve', 'ofenderam', 'ofendid', 'orrivel', 'pelo amor de deus', 'pessimo', 'pessimu', 'porra', 'poxa', 'pqp', 'puta que pariu', 'reclamacao', 'reclamar', 'ridicul', 'ruim', 'sabe nada', 'sem educacao', 'ta dificil', 'trata mal', 'trata mau', 'tratou mal', 'tratou mau', 'triste', 'vergonh', 'vagabund', 'raiva', 'detest', 'nao quero mais', 'odeio', 'safad', 'deus me livre', 'vergonh'], 'reputacao': ['advogad', 'consumidor.gov', 'entrar com processo', 'facebook', 'instagram', 'judiciais', 'judicial', 'justica', 'meu direito', 'meus direito', 'ouvidoria', 'pequenas causas', 'processar voces', 'procon', 'reclame aqui', 'reclameaqui', 'twitter'], 'rechamada': ['ainda nao', 'alguma posicao', 'ate agora', 'ate o momento', 'atraso', 'chamado aberto', 'consigo resolver', 'contato novamente', 'continuo sem acesso', 'de novo', 'demora', 'desde ontem', 'desde semana', 'diversas vezes', 'duas vezes', 'em andamento', 'entrei em contato', 'era pra ter', 'faz um mes', 'faz uma semana', 'ja abri', 'ja enviei', 'ja liguei', 'ja mandei', 'liguei pra central', 'mesmo erro', 'muitas vezes', 'nao chegou', 'nao e a primeira vez', 'ocorrencia aberta', 'posicionamento', 'segunda vez', 'sem sucesso', 'tentativa', 'terceira vez', 'todo dia', 'varias vezes', 'chamado aberto'], 'satisfacao': ['adorei', 'adoro', 'ageis', 'agil', 'agilidade', 'amei', 'atendimento perfeito', 'bem atendid', 'carisma', 'diferenciad', 'educad', 'eficacia', 'eficas', 'eficaz', 'elogiar', 'elogio', 'excelente atendimento', 'feliz', 'gostei', 'impecavel', 'me ajudou', 'merito', 'motivacao', 'motivad', 'muito 10', 'muito bom', 'muito dez', 'nota 10', 'nota dez', 'otimo atendimento', 'parabenizar', 'parabens', 'pela ajuda', 'personalizad', 'preparad', 'prestativ', 'profissional', 'qualidade', 'rapidez', 'resolveu', 'satisfacao', 'satisfatori', 'satisfeit', 'solucionou', 'ate que enfim', 'ate que em fim'], 'concorrencia': ['ifood', 'caju', 'vee', 'flash', 'bem', 'up', 'VR', 'ticket', 'alelo', 'swile'], 'contencao': ['desculpa', 'desculpe', 'sinto muito', 'desculpe a demora', 'lamento', 'lamentamos', 'perdoa', 'perdao', 'pelo ocorrido', 'o ocorrido', 'fique tranquil'], 'ocorrencia': ['chamado', 'ocorrencia', 'registrada com sucesso'], 'direcionamento': ['central de atedimento', 'ligar na central', 'somente na central', 'sodexo.com', 'ligue na central'], 'pedefacil': ['clique no', 'clique em', 'menu servicos', 'do menu', 'pede facil', 'clica no', 'clica em', 'diretamente no site', 'visualizar em', 'no menu', 'menu'], 'ativo': ['analista pode entrar em contato', 'o analista entrara em contato', 'para te auxiliar na proposta', 'solicitei o contato', 'deixe seu contato']}\n",
      "[06/20 22:14:51] - \u001b[1;36m[Info]: \u001b[0m Send Some Statistics of DataFrame\n",
      "[06/20 22:14:51] - \u001b[1;36m[Info]: \u001b[0m check numbers words by rows\n",
      "[06/20 22:14:51] - \u001b[1;36m[Info]: \u001b[0m numbers of rows < 3 words from line 2481\n",
      "[06/20 22:14:51] - \u001b[1;36m[Info]: \u001b[0m numbers of promotors lines 2521\n",
      "[06/20 22:14:51] - \u001b[1;36m[Info]: \u001b[0m Separeted DataFrame\n",
      "[06/20 22:14:51] - \u001b[1;36m[Info]: \u001b[0m Called Pyspark DataFrame\n",
      "[06/20 22:14:51] - \u001b[1;36m[Info]: \u001b[0m rename valus of interlocutor column: CANAL\n",
      "[06/20 22:14:51] - \u001b[1;36m[Info]: \u001b[0m convert dataframe pandas to pyspark\n",
      "[06/20 22:14:51] - \u001b[1;36m[Info]: \u001b[0m Select Columns to Word Search\n",
      "[06/20 22:14:51] - \u001b[1;32m[Debug]: \u001b[0m get only columns to findkey words ['issue_id', 'message_time', 'message_author', 'message_content', 'negatividade_findint', 'reputacao_findint', 'rechamada_findint', 'satisfacao_findint', 'concorrencia_findint', 'contencao_findint', 'ocorrencia_findint', 'direcionamento_findint', 'pedefacil_findint', 'ativo_findint']\n",
      "[06/20 22:14:51] - \u001b[1;32m[Debug]: \u001b[0m save temp file\n",
      "[06/20 22:14:51] - \u001b[1;36m[Info]: \u001b[0m save csf file\n",
      "[06/20 22:14:51] - \u001b[1;36m[Info]: \u001b[0m Finishing Process\n",
      "[06/20 22:14:51] - \u001b[1;32m[Debug]: \u001b[0m load temp file\n",
      "[06/20 22:14:51] - \u001b[1;36m[Info]: \u001b[0m load csf file temp\n",
      "[06/20 22:14:51] - \u001b[1;36m[Info]: \u001b[0m [INFO] Creating default Spark Session\n"
     ]
    },
    {
     "name": "stderr",
     "output_type": "stream",
     "text": [
      "WARNING: An illegal reflective access operation has occurred\n",
      "WARNING: Illegal reflective access by org.apache.spark.unsafe.Platform (file:/usr/local/spark-3.1.2-bin-hadoop3.2/jars/spark-unsafe_2.12-3.1.2.jar) to constructor java.nio.DirectByteBuffer(long,int)\n",
      "WARNING: Please consider reporting this to the maintainers of org.apache.spark.unsafe.Platform\n",
      "WARNING: Use --illegal-access=warn to enable warnings of further illegal reflective access operations\n",
      "WARNING: All illegal access operations will be denied in a future release\n",
      "22/06/21 01:14:54 WARN NativeCodeLoader: Unable to load native-hadoop library for your platform... using builtin-java classes where applicable\n",
      "Using Spark's default log4j profile: org/apache/spark/log4j-defaults.properties\n",
      "Setting default log level to \"WARN\".\n",
      "To adjust logging level use sc.setLogLevel(newLevel). For SparkR, use setLogLevel(newLevel).\n",
      "                                                                                \r"
     ]
    },
    {
     "name": "stdout",
     "output_type": "stream",
     "text": [
      "[06/20 22:15:05] - \u001b[1;36m[Info]: \u001b[0m Finishing Process\n",
      "[06/20 22:15:05] - \u001b[1;36m[Info]: \u001b[0m created message order\n",
      "Generating `message_order` column\n",
      "root\n",
      " |-- issue_id: string (nullable = true)\n",
      " |-- message_time: string (nullable = true)\n",
      " |-- message_author: string (nullable = true)\n",
      " |-- message_content: string (nullable = true)\n",
      " |-- negatividade_findint: string (nullable = true)\n",
      " |-- reputacao_findint: string (nullable = true)\n",
      " |-- rechamada_findint: string (nullable = true)\n",
      " |-- satisfacao_findint: string (nullable = true)\n",
      " |-- concorrencia_findint: string (nullable = true)\n",
      " |-- contencao_findint: string (nullable = true)\n",
      " |-- ocorrencia_findint: string (nullable = true)\n",
      " |-- direcionamento_findint: string (nullable = true)\n",
      " |-- pedefacil_findint: string (nullable = true)\n",
      " |-- ativo_findint: string (nullable = true)\n",
      " |-- message_order: integer (nullable = true)\n",
      "\n",
      "[06/20 22:15:05] - \u001b[1;32m[Debug]: \u001b[0m print new columns of pyspark dataframe: None\n",
      "[06/20 22:15:05] - \u001b[1;36m[Info]: \u001b[0m remove null values of dataset\n"
     ]
    },
    {
     "name": "stderr",
     "output_type": "stream",
     "text": [
      "                                                                                \r"
     ]
    },
    {
     "name": "stdout",
     "output_type": "stream",
     "text": [
      "[06/20 22:15:09] - \u001b[1;32m[Debug]: \u001b[0m count rows after remove null values 4315\n",
      "[06/20 22:15:09] - \u001b[1;32m[Debug]: \u001b[0m created a new collect dict of interlocutor\n",
      "[06/20 22:15:09] - \u001b[1;32m[Debug]: \u001b[0m new collect dict {'message_author': ['LEFT', 'RIGHT']}\n",
      "[06/20 22:15:09] - \u001b[1;32m[Debug]: \u001b[0m created a original column\n",
      "[06/20 22:15:09] - \u001b[1;36m[Info]: \u001b[0m agroup all menssages for ticket\n",
      "Grouping messages into one unique record\n",
      "[06/20 22:15:09] - \u001b[1;32m[Debug]: \u001b[0m Message Author Column: message_author\n",
      "[06/20 22:15:09] - \u001b[1;32m[Debug]: \u001b[0m Message content Column: message_content\n",
      "[06/20 22:15:09] - \u001b[1;32m[Debug]: \u001b[0m [], []\n",
      "[06/20 22:15:09] - \u001b[1;32m[Debug]: \u001b[0m separadores cliente e operador, {'message_author': ['LEFT', 'RIGHT']}\n",
      "[06/20 22:15:09] - \u001b[1;32m[Debug]: \u001b[0m Joining messages to all_messages\n",
      "[06/20 22:15:09] - \u001b[1;32m[Debug]: \u001b[0m Joining messages to all_messages_message_author_LEFT\n",
      "[06/20 22:15:09] - \u001b[1;32m[Debug]: \u001b[0m Joining messages to all_messages_message_author_RIGHT\n",
      "[06/20 22:15:09] - \u001b[1;32m[Debug]: \u001b[0m MAX columns: {'reputacao_findint', 'ocorrencia_findint', 'negatividade_findint', 'satisfacao_findint', 'rechamada_findint', 'ativo_findint', 'direcionamento_findint', 'pedefacil_findint', 'contencao_findint', 'concorrencia_findint'}\n",
      "[06/20 22:15:09] - \u001b[1;32m[Debug]: \u001b[0m AVG columns: set()\n",
      "[06/20 22:15:09] - \u001b[1;32m[Debug]: \u001b[0m FIRST columns: {'has_attendant', 'message_author', 'message_time', 'message_order'}\n",
      "[06/20 22:15:10] - \u001b[1;36m[Info]: \u001b[0m process bigrams and trigrams of column_text\n"
     ]
    },
    {
     "name": "stderr",
     "output_type": "stream",
     "text": [
      "                                                                                \r"
     ]
    },
    {
     "name": "stdout",
     "output_type": "stream",
     "text": [
      "root\n",
      " |-- issue_id: string (nullable = true)\n",
      " |-- has_attendant: integer (nullable = true)\n",
      " |-- message_author: string (nullable = true)\n",
      " |-- message_time: string (nullable = true)\n",
      " |-- message_order: integer (nullable = true)\n",
      " |-- reputacao_findint: string (nullable = true)\n",
      " |-- ocorrencia_findint: string (nullable = true)\n",
      " |-- negatividade_findint: string (nullable = true)\n",
      " |-- satisfacao_findint: string (nullable = true)\n",
      " |-- rechamada_findint: string (nullable = true)\n",
      " |-- ativo_findint: string (nullable = true)\n",
      " |-- direcionamento_findint: string (nullable = true)\n",
      " |-- pedefacil_findint: string (nullable = true)\n",
      " |-- contencao_findint: string (nullable = true)\n",
      " |-- concorrencia_findint: string (nullable = true)\n",
      " |-- all_messages: string (nullable = true)\n",
      " |-- all_messages_message_author_LEFT: string (nullable = true)\n",
      " |-- all_messages_message_author_RIGHT: string (nullable = true)\n",
      " |-- original_messages: string (nullable = true)\n",
      " |-- countent_word: string (nullable = true)\n",
      " |-- countent_bigram: string (nullable = true)\n",
      " |-- countent_trigram: string (nullable = true)\n",
      "\n",
      "[06/20 22:17:07] - \u001b[1;32m[Debug]: \u001b[0m columns process in most relevant ngrams None\n",
      "[06/20 22:17:07] - \u001b[1;36m[Info]: \u001b[0m Merge DataFrames\n",
      "[06/20 22:17:07] - \u001b[1;36m[Info]: \u001b[0m convert to pandas again\n"
     ]
    },
    {
     "name": "stderr",
     "output_type": "stream",
     "text": [
      "                                                                                \r"
     ]
    },
    {
     "name": "stdout",
     "output_type": "stream",
     "text": [
      "[06/20 22:17:08] - \u001b[1;32m[Debug]: \u001b[0m dataframe old ['CPF', 'DURATION', 'ENDTIME', 'EXTERNALID', 'ID', 'STARTTIME', 'MONOCHANNEL', 'SEQUENCIA', 'CANAL', 'TRANSCRICAO', 'AGENT', 'WORKGROUP', 'CATEGORIES', 'TOPICS', 'RECHAMADAS', 'URA_LOG', 'FILA', 'VQ', 'CALLTYPE', 'CONTACTID', 'DATA_ARQUIVO', 'negatividade_findint', 'reputacao_findint', 'rechamada_findint', 'satisfacao_findint', 'concorrencia_findint', 'contencao_findint', 'ocorrencia_findint', 'direcionamento_findint', 'pedefacil_findint', 'ativo_findint', 'numbers_words']\n",
      "[06/20 22:17:08] - \u001b[1;32m[Debug]: \u001b[0m dataframe new ['issue_id', 'has_attendant', 'message_author', 'message_time', 'message_order', 'reputacao_findint', 'ocorrencia_findint', 'negatividade_findint', 'satisfacao_findint', 'rechamada_findint', 'ativo_findint', 'direcionamento_findint', 'pedefacil_findint', 'contencao_findint', 'concorrencia_findint', 'all_messages', 'all_messages_message_author_LEFT', 'all_messages_message_author_RIGHT', 'original_messages', 'countent_word', 'countent_bigram', 'countent_trigram']\n",
      "[06/20 22:17:08] - \u001b[1;32m[Debug]: \u001b[0m joined dataframes ['CPF', 'DURATION', 'ENDTIME', 'EXTERNALID', 'ID', 'STARTTIME', 'MONOCHANNEL', 'SEQUENCIA', 'CANAL', 'TRANSCRICAO', 'AGENT', 'WORKGROUP', 'CATEGORIES', 'TOPICS', 'RECHAMADAS', 'URA_LOG', 'FILA', 'VQ', 'CALLTYPE', 'CONTACTID', 'DATA_ARQUIVO', 'negatividade_findint', 'reputacao_findint', 'rechamada_findint', 'satisfacao_findint', 'concorrencia_findint', 'contencao_findint', 'ocorrencia_findint', 'direcionamento_findint', 'pedefacil_findint', 'ativo_findint', 'numbers_words', 'issue_id', 'has_attendant', 'message_author', 'message_time', 'message_order', 'reputacao_findint', 'ocorrencia_findint', 'negatividade_findint', 'satisfacao_findint', 'rechamada_findint', 'ativo_findint', 'direcionamento_findint', 'pedefacil_findint', 'contencao_findint', 'concorrencia_findint', 'all_messages', 'all_messages_message_author_LEFT', 'all_messages_message_author_RIGHT', 'original_messages', 'countent_word', 'countent_bigram', 'countent_trigram']  \n",
      " and numbers of rows is 5002\n",
      "[06/20 22:17:08] - \u001b[1;36m[Info]: \u001b[0m Finishing Process and Save csv File\n",
      "[06/20 22:17:08] - \u001b[1;36m[Info]: \u001b[0m save csf file\n",
      "[06/20 22:17:09] - \u001b[1;36m[Info]: \u001b[0m Finishing Process\n"
     ]
    }
   ],
   "source": [
    "df = NlExtractorProcess.call_process(filename, prefix, prefix_sep,\\\n",
    "                                     column_text, whats_process,\\\n",
    "                                     text_finds, id_database, type_find,\\\n",
    "                                     additional_stop_words, activate_stopwords,\\\n",
    "                                    interlocutor, response_time, format_data)"
   ]
  },
  {
   "cell_type": "code",
   "execution_count": 7,
   "metadata": {},
   "outputs": [
    {
     "data": {
      "text/html": [
       "<div>\n",
       "<style scoped>\n",
       "    .dataframe tbody tr th:only-of-type {\n",
       "        vertical-align: middle;\n",
       "    }\n",
       "\n",
       "    .dataframe tbody tr th {\n",
       "        vertical-align: top;\n",
       "    }\n",
       "\n",
       "    .dataframe thead th {\n",
       "        text-align: right;\n",
       "    }\n",
       "</style>\n",
       "<table border=\"1\" class=\"dataframe\">\n",
       "  <thead>\n",
       "    <tr style=\"text-align: right;\">\n",
       "      <th></th>\n",
       "      <th>CPF</th>\n",
       "      <th>DURATION</th>\n",
       "      <th>ENDTIME</th>\n",
       "      <th>EXTERNALID</th>\n",
       "      <th>ID</th>\n",
       "      <th>STARTTIME</th>\n",
       "      <th>MONOCHANNEL</th>\n",
       "      <th>SEQUENCIA</th>\n",
       "      <th>CANAL</th>\n",
       "      <th>TRANSCRICAO</th>\n",
       "      <th>...</th>\n",
       "      <th>pedefacil_findint</th>\n",
       "      <th>contencao_findint</th>\n",
       "      <th>concorrencia_findint</th>\n",
       "      <th>all_messages</th>\n",
       "      <th>all_messages_message_author_LEFT</th>\n",
       "      <th>all_messages_message_author_RIGHT</th>\n",
       "      <th>original_messages</th>\n",
       "      <th>countent_word</th>\n",
       "      <th>countent_bigram</th>\n",
       "      <th>countent_trigram</th>\n",
       "    </tr>\n",
       "  </thead>\n",
       "  <tbody>\n",
       "    <tr>\n",
       "      <th>0</th>\n",
       "      <td>40361829</td>\n",
       "      <td>39</td>\n",
       "      <td>03MAR2022:11:47:38</td>\n",
       "      <td>DE59V9JKTH2GP6JKP00AEM2EPK029HK4</td>\n",
       "      <td>6837807</td>\n",
       "      <td>None</td>\n",
       "      <td>NaN</td>\n",
       "      <td>0.0</td>\n",
       "      <td>LEFT</td>\n",
       "      <td></td>\n",
       "      <td>...</td>\n",
       "      <td>None</td>\n",
       "      <td>None</td>\n",
       "      <td>vez</td>\n",
       "      <td>bem vindo cetelem boa nome nome posso ajudar boa tarde boa tarde nome seguinte gostaria saber novo depositar dinheiro pra mim consignado consignado parcela ficou ficou consignado consignado parcela poderia senhora contrato assim parcela descontada ver pra mim sim paguei vinte cinco janeiro ficaram retorno dinheiro dez fevereiro parece pegar outro numero descontando sei conta entendeu nesse caso hoje certo entao vou verificar aqui vou confirmar alguns dados senhora oquei zero dois cinco senhora pode informar cpf cpf quatro zero meia zero zero nome completo nome completo data nascimento data nascimento obrigada dois seis meia dois endereco senhora onde souza cento oitenta apartamento duzentos certo telefone jardim canal cinco cinco nove oito oito oito meia zero nove sete meia sim obrigado confirmacoes momento momento sim cartao enquanto momento momento senhor pode confirmar banco agencia conta pra ser zero sete oito vou pegar cartao pro vinte pera sim zero sete oito zero sete oito agencia conta zero zero dois mil sete digito nove certo banco data brasil posso certo conta corrente poupanca corrente conta constando tava obrigada paulo certo realmente aberto protocolo devolucao sim sido cancelado setor interno aqui banco resposta nesse protocolo sim certo reabrindo protocolo pra devolucao conversei sexta feira moca falou ser depositado sessao sei agora passada falou depositado hoje gostaria saber entao resposta desse protocolo sido aberto abrindo agora sim acionamento segunda vez entao vai ter prazo nada senhora humm valor valor quarenta oito horas uteis pra senhora receber entao humm nove quarta feira senhora recebe valor valor conta parte tarde fim pra depositando realmente certo valor pendente aqui pra gente devolve pra senhora quinhentos noventa cinquenta humm certo centavos confirmei dados bancarios protocolo correto senhora passou certo aham aguardar quarenta oito horas uteis pra receber valor cai conta senhora senhora pode aham varias vezes ligando aqui novamente ligado ligado vez pode olhar vai depositando aproveitando tava achando estranho ser culpa proprio banco sistema sim vamos perceber dessa vez aberto entao ontem agora abri vai passar novo pro setor interno banco humm vai ter resposta semana sim sim depositar faz senhora ligando aqui novamente novo ligando aqui novamente novo certo entao brigada viu banco cetelem banco cetelem agradece otimo brigado tchau tchau</td>\n",
       "      <td>bem vindo cetelem boa nome nome posso ajudar senhora contrato assim parcela descontada certo entao vou verificar aqui vou confirmar alguns dados senhora senhora pode informar cpf cpf nome completo nome completo data nascimento data nascimento endereco senhora certo telefone sim obrigado confirmacoes momento momento momento momento senhor pode confirmar banco agencia conta pra ser sim zero sete oito certo banco certo conta corrente poupanca certo realmente aberto protocolo devolucao sido cancelado setor interno aqui banco resposta nesse protocolo reabrindo protocolo pra devolucao entao resposta desse protocolo sido aberto abrindo agora acionamento segunda vez entao vai ter prazo nada senhora valor valor quarenta oito horas uteis pra senhora receber entao nove quarta feira senhora recebe valor valor conta parte tarde fim pra depositando realmente valor pendente aqui pra gente devolve pra senhora quinhentos noventa cinquenta centavos confirmei dados bancarios protocolo correto senhora passou aguardar quarenta oito horas uteis pra receber valor cai conta senhora senhora pode ligando aqui novamente sim vamos perceber dessa vez aberto ontem agora abri vai passar novo pro setor interno banco vai ter resposta semana senhora ligando aqui novamente novo ligando aqui novamente novo banco cetelem banco cetelem agradece otimo tchau tchau</td>\n",
       "      <td>boa tarde boa tarde nome seguinte gostaria saber novo depositar dinheiro pra mim consignado consignado parcela ficou ficou consignado consignado parcela poderia ver pra mim sim paguei vinte cinco janeiro ficaram retorno dinheiro dez fevereiro parece pegar outro numero descontando sei conta entendeu nesse caso hoje oquei zero dois cinco quatro zero meia zero zero obrigada dois seis meia dois onde souza cento oitenta apartamento duzentos jardim canal cinco cinco nove oito oito oito meia zero nove sete meia sim cartao enquanto zero sete oito vou pegar cartao pro vinte pera zero sete oito agencia conta zero zero dois mil sete digito nove data brasil posso corrente conta constando tava obrigada paulo sim sim certo conversei sexta feira moca falou ser depositado sessao sei agora passada falou depositado hoje gostaria saber sim humm humm certo humm certo certo aham aham varias vezes ligado ligado vez pode olhar vai depositando aproveitando tava achando estranho ser culpa proprio banco sistema entao humm sim sim depositar faz certo entao brigada viu brigado</td>\n",
       "      <td></td>\n",
       "      <td>conta</td>\n",
       "      <td>aqui novamente</td>\n",
       "      <td>zero sete oito</td>\n",
       "    </tr>\n",
       "    <tr>\n",
       "      <th>1</th>\n",
       "      <td>40361829</td>\n",
       "      <td>9</td>\n",
       "      <td>03MAR2022:11:50:10</td>\n",
       "      <td>DE59V9JKTH2GP6JKP00AEM2EPK029HLK</td>\n",
       "      <td>6837840</td>\n",
       "      <td>None</td>\n",
       "      <td>NaN</td>\n",
       "      <td>0.0</td>\n",
       "      <td>RIGHT</td>\n",
       "      <td></td>\n",
       "      <td>...</td>\n",
       "      <td>None</td>\n",
       "      <td>desculpa desculpa</td>\n",
       "      <td>vez</td>\n",
       "      <td>atendimento cetelem andre falo nome nome nome jose todos feito posso cartao cartao credito cartao credito consignado solicitei cancelamento vinte dias outra vez falei falei paulo diga protocolo protocolo solicitei cancelamento exclusao desde liberacao cartao entao hoje acesso cartao liberada agora pouco ouvidoria tendo prazo prazo zero cinco dias duzentos faz vinte dias resolvido informa gentileza numero cpf cpf sequencia zeros quatro zero meia oito vinte nove certo protocolo gerada pra mario aqui erro meia meia quatro cento trinta treze meia meia instante instante gentileza tudo bem obrigado momento momento obrigado aguardar obrigado aguardar maria cancelamento cartao cancelamento cartao vinte dois hum sim aqui hum ienes ienes margem cartao liberado solicitacao liberacao vinte porem feito oito entra contato conosco novamente pra sim sim contato liberacao agora ouvidoria quiser atender dizendo dando prazo quanto prazo infinit sim registrou solicitacao ultima oito entao prazo cinco dias uteis nove dez onze doze treze desculpa quinze amanha retorno amanha realmente mari neste caso necessario aguardar amanha aqui vai terminar prazo liberar registrou entao fica retida necessario fazer todas analises atualizacoes saber procedimento entao quer dizer entao dezesseis dezessete posso acessar endereco vai liberada voceis liberado desse pra registrado protocolo oito cinco dias uteis entao retorno protocolo ser perfeito amanha tudo bem sim maximo quinze prazo ainda aberto bem posteriormente hum vou ter assinar procon ficar disponivel nome nome numero protocolo protocolo humm exatamente meia quatro catorze meia oito nove nove nove nove pera nove nove certo entao entao dezesseis correto dezessete pra liberado certo entao vou ficar aguardo sim algo algo brigada nada agradecemos contato agradecemos contato maria lembrando sempre atendimento digitais pra qualquer informacao verificacao</td>\n",
       "      <td>atendimento cetelem andre falo posso informa gentileza numero cpf cpf certo protocolo gerada pra mario instante instante gentileza tudo bem momento momento obrigado aguardar obrigado aguardar maria cancelamento cartao cancelamento cartao vinte dois hum solicitacao liberacao vinte porem feito oito entra contato conosco novamente pra liberacao sim registrou solicitacao ultima oito entao prazo cinco dias uteis nove dez onze doze treze desculpa quinze amanha retorno amanha realmente mari neste caso necessario aguardar registrou necessario fazer todas analises atualizacoes saber procedimento voceis liberado desse pra registrado protocolo oito cinco dias uteis entao retorno protocolo ser perfeito amanha maximo quinze prazo ainda aberto bem posteriormente ficar disponivel humm exatamente meia quatro catorze meia oito nove nove correto sim algo algo nada agradecemos contato agradecemos contato maria lembrando sempre atendimento digitais pra qualquer informacao verificacao</td>\n",
       "      <td>nome nome nome jose todos feito cartao cartao credito cartao credito consignado solicitei cancelamento vinte dias outra vez falei falei paulo diga protocolo protocolo solicitei cancelamento exclusao desde liberacao cartao entao hoje acesso cartao liberada agora pouco ouvidoria tendo prazo prazo zero cinco dias duzentos faz vinte dias resolvido sequencia zeros quatro zero meia oito vinte nove aqui erro meia meia quatro cento trinta treze meia meia obrigado hum sim aqui ienes ienes margem cartao liberado sim sim contato agora ouvidoria quiser atender dizendo dando prazo quanto prazo infinit amanha aqui vai terminar prazo liberar entao fica retida entao quer dizer entao dezesseis dezessete posso acessar endereco vai liberada tudo bem sim hum vou ter assinar procon nome nome numero protocolo protocolo nove nove pera nove nove certo entao entao dezesseis dezessete pra liberado certo entao vou ficar aguardo brigada</td>\n",
       "      <td></td>\n",
       "      <td>prazo</td>\n",
       "      <td>vinte dias</td>\n",
       "      <td>nove nove nove</td>\n",
       "    </tr>\n",
       "    <tr>\n",
       "      <th>2</th>\n",
       "      <td>40361829</td>\n",
       "      <td>583</td>\n",
       "      <td>03MAR2022:12:01:33</td>\n",
       "      <td>DE59V9JKTH2GP6JKP00AEM2EPK029HNV</td>\n",
       "      <td>6838011</td>\n",
       "      <td>None</td>\n",
       "      <td>NaN</td>\n",
       "      <td>0.0</td>\n",
       "      <td>LEFT</td>\n",
       "      <td></td>\n",
       "      <td>...</td>\n",
       "      <td>None</td>\n",
       "      <td>None</td>\n",
       "      <td>None</td>\n",
       "      <td>fala falando falta comunicacao encerro contato</td>\n",
       "      <td>falta comunicacao encerro contato</td>\n",
       "      <td>fala falando</td>\n",
       "      <td></td>\n",
       "      <td>None</td>\n",
       "      <td>None</td>\n",
       "      <td>None</td>\n",
       "    </tr>\n",
       "    <tr>\n",
       "      <th>3</th>\n",
       "      <td>40361829</td>\n",
       "      <td>9</td>\n",
       "      <td>03MAR2022:11:50:10</td>\n",
       "      <td>DE59V9JKTH2GP6JKP00AEM2EPK029HLK</td>\n",
       "      <td>6837840</td>\n",
       "      <td>None</td>\n",
       "      <td>NaN</td>\n",
       "      <td>1.0</td>\n",
       "      <td>LEFT</td>\n",
       "      <td>sei</td>\n",
       "      <td>...</td>\n",
       "      <td>None</td>\n",
       "      <td>None</td>\n",
       "      <td>bem</td>\n",
       "      <td>rodrigues falo falo gentileza fala maria barbosa olha ontem pra contrato parcela treze reais vao entao amor deus quero ficar contrato favor vamos passa favor cpf cpf zero vinte cinco cinco nove cinco sete oito zero zero nome completo nome completo data nascimento data nascimento barbosa vinte doze mil novecentos cinquenta oito numero falando melhor data senhor oquei momento momento deixa falar deixa falar coisa independente acontecendo outro lado gostaria contrato rua dezenove sete sete posso fazer outro contrato entende sim vou ser sincera responsabilidade quer dizer quer dizer posso fazer pra mim vou setenta pra negativa sim pagar margem senhora imagem zerada boleto nada tudo bem vou contratei dezenove dez mandaram protocolo negociei devolvida repete banco nove automaticamente marco certo cinco dias uteis quero desde dezenove janeiro paguei acontece treze quase quatro outro fazer certo agora sim independente volta aham qualquer outra folhas quero ficar contrato social pode ser favor boleto vou pagar hoje momentinho valor valor pra cancela hoje desconto seiscentos oitenta sete cinquenta centavos mandei mensagem pra numero salvando eme desligar brinde mandei favor minuto minuto favor deixa aham minuto minuto oquei quer vai levar validar whatsapp whatsapp manda pra abrindo internet vinte certo normal erros aqui favor mandei agora ler resposta respondi setor responsavel favor minuto minuto dois dois aqui abriu data dois sete agente abriu abril sabem aqui pra mim nenhum minutinho minutinho vou falar dezoito vou manda outro mandei outro oquei tudo bem senhora abriu link abrir linda senhora abriu link abrir nele nada escrito link entao senhora oquei abriu claro teve fiz dar continuidade endereco solicitando caso letrinha caso nessa mensagem clica nele entendi caso mim vai abrir entao adriele sim palavra agora vou mandar pagar hoje clica letras letras vai levar fala data sim sete entao ninguem consiga apertei dois mandou anderson senhora internet ligada aqui cpf cpf saiu nada vou mandar hoje novo pra senhora eme comando atrapalhei aqui oquei numero pra mim cada senhor data favor senhor minuto minuto liguei quarenta zero quatro quarenta zero quatro dois oitenta numero falando data senhora oquei momento momento favor humm faz assim abre senhora mandou manda foto bolso senhora segurando lado errege favor nessa data senhora mandou novo foto rosto senhor segurando favor foto outro segurando minuto minuto humm segurando rede assim vou mandar pro rosti lado senhora vai segura proxima outra mandar sim cade outro entao vou esperar informe entao tira regiao mandei agora entendeu momento momento gente rua momento oquei obrigado aguardar obrigado aguardar mandei proprio data boleto senhora fica tudo atenta banco cetelem banco cetelem vai entrar contato senhora tendo desconto entao considera boleto mandei agora momento momento pagamento boleto pagamento boleto inicio codigo barra sempre comeca numeros sete nove numeros sete nove nome nome beneficiario final beneficiario final sempre bem cetelem hum nove mandou boleto entao consigo ajudar algo algo mandei mail brigado hein tchau tchau aguarde momento</td>\n",
       "      <td>rodrigues falo falo gentileza vamos passa favor cpf cpf nome completo nome completo data nascimento data nascimento numero falando melhor data senhor oquei momento momento sim margem senhora imagem zerada cinco dias uteis sim momentinho valor valor pra cancela hoje desconto seiscentos oitenta sete cinquenta centavos mandei mensagem pra numero salvando eme desligar brinde mandei favor oquei vai levar validar whatsapp whatsapp manda pra internet vinte normal erros agora ler resposta respondi setor responsavel favor abriu data agente abriu abril sabem senhora abriu link senhora abriu link escrito link entao senhora abriu letrinha caso nessa mensagem clica nele palavra agora clica letras letras vai levar fala data ninguem consiga anderson senhora internet ligada senhora eme comando atrapalhei numero pra mim cada senhor data favor senhor numero falando data senhora oquei momento momento favor faz assim abre senhora mandou manda foto bolso senhora segurando lado errege favor nessa data senhora mandou novo foto rosto senhor segurando favor foto outro segurando rosti lado senhora vai segura proxima outra mandar sim cade outro entao tira regiao momento momento momento oquei obrigado aguardar obrigado aguardar mandei proprio data boleto senhora fica atenta banco cetelem banco cetelem vai entrar contato senhora tendo desconto entao considera boleto mandei agora momento momento pagamento boleto pagamento boleto inicio codigo barra sempre comeca numeros sete nove numeros sete nove nome nome beneficiario final beneficiario final sempre bem cetelem hum consigo ajudar algo algo mandei mail tchau tchau</td>\n",
       "      <td>fala maria barbosa olha ontem pra contrato parcela treze reais vao entao amor deus quero ficar contrato favor zero vinte cinco cinco nove cinco sete oito zero zero barbosa vinte doze mil novecentos cinquenta oito deixa falar deixa falar coisa independente acontecendo outro lado gostaria contrato rua dezenove sete sete posso fazer outro contrato entende vou ser sincera responsabilidade quer dizer quer dizer posso fazer pra mim vou setenta pra negativa sim pagar boleto nada tudo bem vou contratei dezenove dez mandaram protocolo negociei devolvida repete banco nove automaticamente marco certo quero desde dezenove janeiro paguei acontece treze quase quatro outro fazer certo agora independente volta aham qualquer outra folhas quero ficar contrato social pode ser favor boleto vou pagar hoje minuto minuto favor deixa aham minuto minuto quer abrindo certo aqui favor mandei minuto minuto dois dois aqui dois sete aqui pra mim nenhum minutinho minutinho vou falar dezoito vou manda outro mandei outro oquei tudo bem abrir linda abrir nele nada oquei claro teve fiz dar continuidade endereco solicitando caso entendi caso mim vai abrir entao adriele sim vou mandar pagar hoje sim sete entao apertei dois mandou aqui cpf cpf saiu nada vou mandar hoje novo pra aqui oquei minuto minuto liguei quarenta zero quatro quarenta zero quatro dois oitenta humm minuto minuto humm segurando rede assim vou mandar pro entao vou esperar informe mandei agora entendeu gente rua tudo nove mandou boleto entao brigado hein aguarde momento</td>\n",
       "      <td></td>\n",
       "      <td>minuto</td>\n",
       "      <td>minuto minuto</td>\n",
       "      <td>quarenta zero quatro</td>\n",
       "    </tr>\n",
       "    <tr>\n",
       "      <th>4</th>\n",
       "      <td>40361829</td>\n",
       "      <td>583</td>\n",
       "      <td>03MAR2022:12:01:33</td>\n",
       "      <td>DE59V9JKTH2GP6JKP00AEM2EPK029HNV</td>\n",
       "      <td>6838011</td>\n",
       "      <td>None</td>\n",
       "      <td>NaN</td>\n",
       "      <td>1.0</td>\n",
       "      <td>RIGHT</td>\n",
       "      <td></td>\n",
       "      <td>...</td>\n",
       "      <td>None</td>\n",
       "      <td>None</td>\n",
       "      <td>None</td>\n",
       "      <td>daiane falo falo gentileza aqui barbosa entao</td>\n",
       "      <td>daiane falo falo gentileza</td>\n",
       "      <td>aqui barbosa entao</td>\n",
       "      <td></td>\n",
       "      <td>None</td>\n",
       "      <td>None</td>\n",
       "      <td>None</td>\n",
       "    </tr>\n",
       "  </tbody>\n",
       "</table>\n",
       "<p>5 rows × 54 columns</p>\n",
       "</div>"
      ],
      "text/plain": [
       "        CPF  DURATION             ENDTIME                        EXTERNALID  \\\n",
       "0  40361829  39        03MAR2022:11:47:38  DE59V9JKTH2GP6JKP00AEM2EPK029HK4   \n",
       "1  40361829  9         03MAR2022:11:50:10  DE59V9JKTH2GP6JKP00AEM2EPK029HLK   \n",
       "2  40361829  583       03MAR2022:12:01:33  DE59V9JKTH2GP6JKP00AEM2EPK029HNV   \n",
       "3  40361829  9         03MAR2022:11:50:10  DE59V9JKTH2GP6JKP00AEM2EPK029HLK   \n",
       "4  40361829  583       03MAR2022:12:01:33  DE59V9JKTH2GP6JKP00AEM2EPK029HNV   \n",
       "\n",
       "        ID STARTTIME MONOCHANNEL  SEQUENCIA  CANAL TRANSCRICAO  ...  \\\n",
       "0  6837807  None      NaN         0.0        LEFT               ...   \n",
       "1  6837840  None      NaN         0.0        RIGHT              ...   \n",
       "2  6838011  None      NaN         0.0        LEFT               ...   \n",
       "3  6837840  None      NaN         1.0        LEFT   sei         ...   \n",
       "4  6838011  None      NaN         1.0        RIGHT              ...   \n",
       "\n",
       "  pedefacil_findint  contencao_findint concorrencia_findint  \\\n",
       "0  None              None               vez                   \n",
       "1  None              desculpa desculpa  vez                   \n",
       "2  None              None               None                  \n",
       "3  None              None               bem                   \n",
       "4  None              None               None                  \n",
       "\n",
       "                                                                                                                                                                                                                                                                                                                                                                                                                                                                                                                                                                                                                                                                                                                                                                                                                                                                                                                                                                                                                                                                                                                                                                                                                                                                                                                                                                                                                                                                                                                                                                                                                                                                                                                                                                                                                                                                                                                                                                                                                                                                                                                                                                                                                                                                                                                                                                                                                                                                                                                                                                                                                                                                                                                                                                                                                                                                                                                                                                                                                                                                                                                                                                                                                                                        all_messages  \\\n",
       "0  bem vindo cetelem boa nome nome posso ajudar boa tarde boa tarde nome seguinte gostaria saber novo depositar dinheiro pra mim consignado consignado parcela ficou ficou consignado consignado parcela poderia senhora contrato assim parcela descontada ver pra mim sim paguei vinte cinco janeiro ficaram retorno dinheiro dez fevereiro parece pegar outro numero descontando sei conta entendeu nesse caso hoje certo entao vou verificar aqui vou confirmar alguns dados senhora oquei zero dois cinco senhora pode informar cpf cpf quatro zero meia zero zero nome completo nome completo data nascimento data nascimento obrigada dois seis meia dois endereco senhora onde souza cento oitenta apartamento duzentos certo telefone jardim canal cinco cinco nove oito oito oito meia zero nove sete meia sim obrigado confirmacoes momento momento sim cartao enquanto momento momento senhor pode confirmar banco agencia conta pra ser zero sete oito vou pegar cartao pro vinte pera sim zero sete oito zero sete oito agencia conta zero zero dois mil sete digito nove certo banco data brasil posso certo conta corrente poupanca corrente conta constando tava obrigada paulo certo realmente aberto protocolo devolucao sim sido cancelado setor interno aqui banco resposta nesse protocolo sim certo reabrindo protocolo pra devolucao conversei sexta feira moca falou ser depositado sessao sei agora passada falou depositado hoje gostaria saber entao resposta desse protocolo sido aberto abrindo agora sim acionamento segunda vez entao vai ter prazo nada senhora humm valor valor quarenta oito horas uteis pra senhora receber entao humm nove quarta feira senhora recebe valor valor conta parte tarde fim pra depositando realmente certo valor pendente aqui pra gente devolve pra senhora quinhentos noventa cinquenta humm certo centavos confirmei dados bancarios protocolo correto senhora passou certo aham aguardar quarenta oito horas uteis pra receber valor cai conta senhora senhora pode aham varias vezes ligando aqui novamente ligado ligado vez pode olhar vai depositando aproveitando tava achando estranho ser culpa proprio banco sistema sim vamos perceber dessa vez aberto entao ontem agora abri vai passar novo pro setor interno banco humm vai ter resposta semana sim sim depositar faz senhora ligando aqui novamente novo ligando aqui novamente novo certo entao brigada viu banco cetelem banco cetelem agradece otimo brigado tchau tchau                                                                                                                                                                                                                                                                                                                                                                                                                                                                                                                                                                                                                                                                                                                                                        \n",
       "1  atendimento cetelem andre falo nome nome nome jose todos feito posso cartao cartao credito cartao credito consignado solicitei cancelamento vinte dias outra vez falei falei paulo diga protocolo protocolo solicitei cancelamento exclusao desde liberacao cartao entao hoje acesso cartao liberada agora pouco ouvidoria tendo prazo prazo zero cinco dias duzentos faz vinte dias resolvido informa gentileza numero cpf cpf sequencia zeros quatro zero meia oito vinte nove certo protocolo gerada pra mario aqui erro meia meia quatro cento trinta treze meia meia instante instante gentileza tudo bem obrigado momento momento obrigado aguardar obrigado aguardar maria cancelamento cartao cancelamento cartao vinte dois hum sim aqui hum ienes ienes margem cartao liberado solicitacao liberacao vinte porem feito oito entra contato conosco novamente pra sim sim contato liberacao agora ouvidoria quiser atender dizendo dando prazo quanto prazo infinit sim registrou solicitacao ultima oito entao prazo cinco dias uteis nove dez onze doze treze desculpa quinze amanha retorno amanha realmente mari neste caso necessario aguardar amanha aqui vai terminar prazo liberar registrou entao fica retida necessario fazer todas analises atualizacoes saber procedimento entao quer dizer entao dezesseis dezessete posso acessar endereco vai liberada voceis liberado desse pra registrado protocolo oito cinco dias uteis entao retorno protocolo ser perfeito amanha tudo bem sim maximo quinze prazo ainda aberto bem posteriormente hum vou ter assinar procon ficar disponivel nome nome numero protocolo protocolo humm exatamente meia quatro catorze meia oito nove nove nove nove pera nove nove certo entao entao dezesseis correto dezessete pra liberado certo entao vou ficar aguardo sim algo algo brigada nada agradecemos contato agradecemos contato maria lembrando sempre atendimento digitais pra qualquer informacao verificacao                                                                                                                                                                                                                                                                                                                                                                                                                                                                                                                                                                                                                                                                                                                                                                                                                                                                                                                                                                                                                                                                                                                                                                                                                                                                                       \n",
       "2  fala falando falta comunicacao encerro contato                                                                                                                                                                                                                                                                                                                                                                                                                                                                                                                                                                                                                                                                                                                                                                                                                                                                                                                                                                                                                                                                                                                                                                                                                                                                                                                                                                                                                                                                                                                                                                                                                                                                                                                                                                                                                                                                                                                                                                                                                                                                                                                                                                                                                                                                                                                                                                                                                                                                                                                                                                                                                                                                                                                                                                                                                                                                                                                                                                                                                                                                                                                                                                                                                      \n",
       "3  rodrigues falo falo gentileza fala maria barbosa olha ontem pra contrato parcela treze reais vao entao amor deus quero ficar contrato favor vamos passa favor cpf cpf zero vinte cinco cinco nove cinco sete oito zero zero nome completo nome completo data nascimento data nascimento barbosa vinte doze mil novecentos cinquenta oito numero falando melhor data senhor oquei momento momento deixa falar deixa falar coisa independente acontecendo outro lado gostaria contrato rua dezenove sete sete posso fazer outro contrato entende sim vou ser sincera responsabilidade quer dizer quer dizer posso fazer pra mim vou setenta pra negativa sim pagar margem senhora imagem zerada boleto nada tudo bem vou contratei dezenove dez mandaram protocolo negociei devolvida repete banco nove automaticamente marco certo cinco dias uteis quero desde dezenove janeiro paguei acontece treze quase quatro outro fazer certo agora sim independente volta aham qualquer outra folhas quero ficar contrato social pode ser favor boleto vou pagar hoje momentinho valor valor pra cancela hoje desconto seiscentos oitenta sete cinquenta centavos mandei mensagem pra numero salvando eme desligar brinde mandei favor minuto minuto favor deixa aham minuto minuto oquei quer vai levar validar whatsapp whatsapp manda pra abrindo internet vinte certo normal erros aqui favor mandei agora ler resposta respondi setor responsavel favor minuto minuto dois dois aqui abriu data dois sete agente abriu abril sabem aqui pra mim nenhum minutinho minutinho vou falar dezoito vou manda outro mandei outro oquei tudo bem senhora abriu link abrir linda senhora abriu link abrir nele nada escrito link entao senhora oquei abriu claro teve fiz dar continuidade endereco solicitando caso letrinha caso nessa mensagem clica nele entendi caso mim vai abrir entao adriele sim palavra agora vou mandar pagar hoje clica letras letras vai levar fala data sim sete entao ninguem consiga apertei dois mandou anderson senhora internet ligada aqui cpf cpf saiu nada vou mandar hoje novo pra senhora eme comando atrapalhei aqui oquei numero pra mim cada senhor data favor senhor minuto minuto liguei quarenta zero quatro quarenta zero quatro dois oitenta numero falando data senhora oquei momento momento favor humm faz assim abre senhora mandou manda foto bolso senhora segurando lado errege favor nessa data senhora mandou novo foto rosto senhor segurando favor foto outro segurando minuto minuto humm segurando rede assim vou mandar pro rosti lado senhora vai segura proxima outra mandar sim cade outro entao vou esperar informe entao tira regiao mandei agora entendeu momento momento gente rua momento oquei obrigado aguardar obrigado aguardar mandei proprio data boleto senhora fica tudo atenta banco cetelem banco cetelem vai entrar contato senhora tendo desconto entao considera boleto mandei agora momento momento pagamento boleto pagamento boleto inicio codigo barra sempre comeca numeros sete nove numeros sete nove nome nome beneficiario final beneficiario final sempre bem cetelem hum nove mandou boleto entao consigo ajudar algo algo mandei mail brigado hein tchau tchau aguarde momento   \n",
       "4  daiane falo falo gentileza aqui barbosa entao                                                                                                                                                                                                                                                                                                                                                                                                                                                                                                                                                                                                                                                                                                                                                                                                                                                                                                                                                                                                                                                                                                                                                                                                                                                                                                                                                                                                                                                                                                                                                                                                                                                                                                                                                                                                                                                                                                                                                                                                                                                                                                                                                                                                                                                                                                                                                                                                                                                                                                                                                                                                                                                                                                                                                                                                                                                                                                                                                                                                                                                                                                                                                                                                                       \n",
       "\n",
       "                                                                                                                                                                                                                                                                                                                                                                                                                                                                                                                                                                                                                                                                                                                                                                                                                                                                                                                                                                                                                                                                                                                                                                                                                                                                                                                                                                                                                                                                                                                                                                                                                                               all_messages_message_author_LEFT  \\\n",
       "0  bem vindo cetelem boa nome nome posso ajudar senhora contrato assim parcela descontada certo entao vou verificar aqui vou confirmar alguns dados senhora senhora pode informar cpf cpf nome completo nome completo data nascimento data nascimento endereco senhora certo telefone sim obrigado confirmacoes momento momento momento momento senhor pode confirmar banco agencia conta pra ser sim zero sete oito certo banco certo conta corrente poupanca certo realmente aberto protocolo devolucao sido cancelado setor interno aqui banco resposta nesse protocolo reabrindo protocolo pra devolucao entao resposta desse protocolo sido aberto abrindo agora acionamento segunda vez entao vai ter prazo nada senhora valor valor quarenta oito horas uteis pra senhora receber entao nove quarta feira senhora recebe valor valor conta parte tarde fim pra depositando realmente valor pendente aqui pra gente devolve pra senhora quinhentos noventa cinquenta centavos confirmei dados bancarios protocolo correto senhora passou aguardar quarenta oito horas uteis pra receber valor cai conta senhora senhora pode ligando aqui novamente sim vamos perceber dessa vez aberto ontem agora abri vai passar novo pro setor interno banco vai ter resposta semana senhora ligando aqui novamente novo ligando aqui novamente novo banco cetelem banco cetelem agradece otimo tchau tchau                                                                                                                                                                                                                                                                             \n",
       "1  atendimento cetelem andre falo posso informa gentileza numero cpf cpf certo protocolo gerada pra mario instante instante gentileza tudo bem momento momento obrigado aguardar obrigado aguardar maria cancelamento cartao cancelamento cartao vinte dois hum solicitacao liberacao vinte porem feito oito entra contato conosco novamente pra liberacao sim registrou solicitacao ultima oito entao prazo cinco dias uteis nove dez onze doze treze desculpa quinze amanha retorno amanha realmente mari neste caso necessario aguardar registrou necessario fazer todas analises atualizacoes saber procedimento voceis liberado desse pra registrado protocolo oito cinco dias uteis entao retorno protocolo ser perfeito amanha maximo quinze prazo ainda aberto bem posteriormente ficar disponivel humm exatamente meia quatro catorze meia oito nove nove correto sim algo algo nada agradecemos contato agradecemos contato maria lembrando sempre atendimento digitais pra qualquer informacao verificacao                                                                                                                                                                                                                                                                                                                                                                                                                                                                                                                                                                                                                                                             \n",
       "2  falta comunicacao encerro contato                                                                                                                                                                                                                                                                                                                                                                                                                                                                                                                                                                                                                                                                                                                                                                                                                                                                                                                                                                                                                                                                                                                                                                                                                                                                                                                                                                                                                                                                                                                                                                                                                                              \n",
       "3  rodrigues falo falo gentileza vamos passa favor cpf cpf nome completo nome completo data nascimento data nascimento numero falando melhor data senhor oquei momento momento sim margem senhora imagem zerada cinco dias uteis sim momentinho valor valor pra cancela hoje desconto seiscentos oitenta sete cinquenta centavos mandei mensagem pra numero salvando eme desligar brinde mandei favor oquei vai levar validar whatsapp whatsapp manda pra internet vinte normal erros agora ler resposta respondi setor responsavel favor abriu data agente abriu abril sabem senhora abriu link senhora abriu link escrito link entao senhora abriu letrinha caso nessa mensagem clica nele palavra agora clica letras letras vai levar fala data ninguem consiga anderson senhora internet ligada senhora eme comando atrapalhei numero pra mim cada senhor data favor senhor numero falando data senhora oquei momento momento favor faz assim abre senhora mandou manda foto bolso senhora segurando lado errege favor nessa data senhora mandou novo foto rosto senhor segurando favor foto outro segurando rosti lado senhora vai segura proxima outra mandar sim cade outro entao tira regiao momento momento momento oquei obrigado aguardar obrigado aguardar mandei proprio data boleto senhora fica atenta banco cetelem banco cetelem vai entrar contato senhora tendo desconto entao considera boleto mandei agora momento momento pagamento boleto pagamento boleto inicio codigo barra sempre comeca numeros sete nove numeros sete nove nome nome beneficiario final beneficiario final sempre bem cetelem hum consigo ajudar algo algo mandei mail tchau tchau   \n",
       "4  daiane falo falo gentileza                                                                                                                                                                                                                                                                                                                                                                                                                                                                                                                                                                                                                                                                                                                                                                                                                                                                                                                                                                                                                                                                                                                                                                                                                                                                                                                                                                                                                                                                                                                                                                                                                                                     \n",
       "\n",
       "                                                                                                                                                                                                                                                                                                                                                                                                                                                                                                                                                                                                                                                                                                                                                                                                                                                                                                                                                                                                                                                                                                                                                                                                                                                                                                                                                                                                                                                                                                                                                      all_messages_message_author_RIGHT  \\\n",
       "0  boa tarde boa tarde nome seguinte gostaria saber novo depositar dinheiro pra mim consignado consignado parcela ficou ficou consignado consignado parcela poderia ver pra mim sim paguei vinte cinco janeiro ficaram retorno dinheiro dez fevereiro parece pegar outro numero descontando sei conta entendeu nesse caso hoje oquei zero dois cinco quatro zero meia zero zero obrigada dois seis meia dois onde souza cento oitenta apartamento duzentos jardim canal cinco cinco nove oito oito oito meia zero nove sete meia sim cartao enquanto zero sete oito vou pegar cartao pro vinte pera zero sete oito agencia conta zero zero dois mil sete digito nove data brasil posso corrente conta constando tava obrigada paulo sim sim certo conversei sexta feira moca falou ser depositado sessao sei agora passada falou depositado hoje gostaria saber sim humm humm certo humm certo certo aham aham varias vezes ligado ligado vez pode olhar vai depositando aproveitando tava achando estranho ser culpa proprio banco sistema entao humm sim sim depositar faz certo entao brigada viu brigado                                                                                                                                                                                                                                                                                                                                                                                                                                                                              \n",
       "1  nome nome nome jose todos feito cartao cartao credito cartao credito consignado solicitei cancelamento vinte dias outra vez falei falei paulo diga protocolo protocolo solicitei cancelamento exclusao desde liberacao cartao entao hoje acesso cartao liberada agora pouco ouvidoria tendo prazo prazo zero cinco dias duzentos faz vinte dias resolvido sequencia zeros quatro zero meia oito vinte nove aqui erro meia meia quatro cento trinta treze meia meia obrigado hum sim aqui ienes ienes margem cartao liberado sim sim contato agora ouvidoria quiser atender dizendo dando prazo quanto prazo infinit amanha aqui vai terminar prazo liberar entao fica retida entao quer dizer entao dezesseis dezessete posso acessar endereco vai liberada tudo bem sim hum vou ter assinar procon nome nome numero protocolo protocolo nove nove pera nove nove certo entao entao dezesseis dezessete pra liberado certo entao vou ficar aguardo brigada                                                                                                                                                                                                                                                                                                                                                                                                                                                                                                                                                                                                                             \n",
       "2  fala falando                                                                                                                                                                                                                                                                                                                                                                                                                                                                                                                                                                                                                                                                                                                                                                                                                                                                                                                                                                                                                                                                                                                                                                                                                                                                                                                                                                                                                                                                                                                                                                           \n",
       "3  fala maria barbosa olha ontem pra contrato parcela treze reais vao entao amor deus quero ficar contrato favor zero vinte cinco cinco nove cinco sete oito zero zero barbosa vinte doze mil novecentos cinquenta oito deixa falar deixa falar coisa independente acontecendo outro lado gostaria contrato rua dezenove sete sete posso fazer outro contrato entende vou ser sincera responsabilidade quer dizer quer dizer posso fazer pra mim vou setenta pra negativa sim pagar boleto nada tudo bem vou contratei dezenove dez mandaram protocolo negociei devolvida repete banco nove automaticamente marco certo quero desde dezenove janeiro paguei acontece treze quase quatro outro fazer certo agora independente volta aham qualquer outra folhas quero ficar contrato social pode ser favor boleto vou pagar hoje minuto minuto favor deixa aham minuto minuto quer abrindo certo aqui favor mandei minuto minuto dois dois aqui dois sete aqui pra mim nenhum minutinho minutinho vou falar dezoito vou manda outro mandei outro oquei tudo bem abrir linda abrir nele nada oquei claro teve fiz dar continuidade endereco solicitando caso entendi caso mim vai abrir entao adriele sim vou mandar pagar hoje sim sete entao apertei dois mandou aqui cpf cpf saiu nada vou mandar hoje novo pra aqui oquei minuto minuto liguei quarenta zero quatro quarenta zero quatro dois oitenta humm minuto minuto humm segurando rede assim vou mandar pro entao vou esperar informe mandei agora entendeu gente rua tudo nove mandou boleto entao brigado hein aguarde momento   \n",
       "4  aqui barbosa entao                                                                                                                                                                                                                                                                                                                                                                                                                                                                                                                                                                                                                                                                                                                                                                                                                                                                                                                                                                                                                                                                                                                                                                                                                                                                                                                                                                                                                                                                                                                                                                     \n",
       "\n",
       "  original_messages countent_word countent_bigram      countent_trigram  \n",
       "0                    conta         aqui novamente  zero sete oito        \n",
       "1                    prazo         vinte dias      nove nove nove        \n",
       "2                    None          None            None                  \n",
       "3                    minuto        minuto minuto   quarenta zero quatro  \n",
       "4                    None          None            None                  \n",
       "\n",
       "[5 rows x 54 columns]"
      ]
     },
     "execution_count": 7,
     "metadata": {},
     "output_type": "execute_result"
    }
   ],
   "source": [
    "df.head()"
   ]
  },
  {
   "cell_type": "code",
   "execution_count": 8,
   "metadata": {
    "id": "kqGE2FYygAf7"
   },
   "outputs": [],
   "source": [
    "filename = 'LIBERACAO_MARGEM_TESTE'\n",
    "column_filter = '' # deixar esse campo vazio caso queira ver tudo\n",
    "column_text = 'TRANSCRICAO'\n",
    "whats_process = 'trigram' # trigram or bigram"
   ]
  },
  {
   "cell_type": "code",
   "execution_count": 9,
   "metadata": {},
   "outputs": [
    {
     "ename": "FileNotFoundError",
     "evalue": "[Errno 2] No such file or directory: '/content/drive/My Drive//LIBERACAO_MARGEM_TESTE_tratado.csv'",
     "output_type": "error",
     "traceback": [
      "\u001b[0;31m---------------------------------------------------------------------------\u001b[0m",
      "\u001b[0;31mFileNotFoundError\u001b[0m                         Traceback (most recent call last)",
      "\u001b[0;32m/tmp/ipykernel_10686/2555622113.py\u001b[0m in \u001b[0;36m<module>\u001b[0;34m\u001b[0m\n\u001b[0;32m----> 1\u001b[0;31m \u001b[0mNlVisualization\u001b[0m\u001b[0;34m.\u001b[0m\u001b[0mwordCloud_Topics\u001b[0m\u001b[0;34m(\u001b[0m\u001b[0mfilename\u001b[0m\u001b[0;34m,\u001b[0m\u001b[0mcolumn_filter\u001b[0m\u001b[0;34m,\u001b[0m\u001b[0mcolumn_text\u001b[0m\u001b[0;34m,\u001b[0m\u001b[0mwhats_process\u001b[0m\u001b[0;34m)\u001b[0m\u001b[0;34m\u001b[0m\u001b[0;34m\u001b[0m\u001b[0m\n\u001b[0m",
      "\u001b[0;32m/opt/dna/find-keywords/api_model/nlvisualization.py\u001b[0m in \u001b[0;36mwordCloud_Topics\u001b[0;34m(self, filename, column_filter, column_text, whats_process)\u001b[0m\n\u001b[1;32m     46\u001b[0m \u001b[0;34m\u001b[0m\u001b[0m\n\u001b[1;32m     47\u001b[0m \u001b[0;34m\u001b[0m\u001b[0m\n\u001b[0;32m---> 48\u001b[0;31m         \u001b[0mdf\u001b[0m \u001b[0;34m=\u001b[0m \u001b[0mpd\u001b[0m\u001b[0;34m.\u001b[0m\u001b[0mread_csv\u001b[0m\u001b[0;34m(\u001b[0m\u001b[0;34mf\"{PATH_READ}/{filename}_tratado.csv\"\u001b[0m\u001b[0;34m,\u001b[0m \u001b[0msep\u001b[0m\u001b[0;34m=\u001b[0m\u001b[0;34m';'\u001b[0m\u001b[0;34m,\u001b[0m \u001b[0mencoding\u001b[0m\u001b[0;34m=\u001b[0m\u001b[0;34m'utf-8'\u001b[0m\u001b[0;34m)\u001b[0m\u001b[0;34m\u001b[0m\u001b[0;34m\u001b[0m\u001b[0m\n\u001b[0m\u001b[1;32m     49\u001b[0m \u001b[0;34m\u001b[0m\u001b[0m\n\u001b[1;32m     50\u001b[0m         \u001b[0;32mif\u001b[0m \u001b[0mcolumn_filter\u001b[0m \u001b[0;34m==\u001b[0m \u001b[0;34m''\u001b[0m\u001b[0;34m:\u001b[0m\u001b[0;34m\u001b[0m\u001b[0;34m\u001b[0m\u001b[0m\n",
      "\u001b[0;32m/opt/conda/lib/python3.9/site-packages/pandas/util/_decorators.py\u001b[0m in \u001b[0;36mwrapper\u001b[0;34m(*args, **kwargs)\u001b[0m\n\u001b[1;32m    309\u001b[0m                     \u001b[0mstacklevel\u001b[0m\u001b[0;34m=\u001b[0m\u001b[0mstacklevel\u001b[0m\u001b[0;34m,\u001b[0m\u001b[0;34m\u001b[0m\u001b[0;34m\u001b[0m\u001b[0m\n\u001b[1;32m    310\u001b[0m                 )\n\u001b[0;32m--> 311\u001b[0;31m             \u001b[0;32mreturn\u001b[0m \u001b[0mfunc\u001b[0m\u001b[0;34m(\u001b[0m\u001b[0;34m*\u001b[0m\u001b[0margs\u001b[0m\u001b[0;34m,\u001b[0m \u001b[0;34m**\u001b[0m\u001b[0mkwargs\u001b[0m\u001b[0;34m)\u001b[0m\u001b[0;34m\u001b[0m\u001b[0;34m\u001b[0m\u001b[0m\n\u001b[0m\u001b[1;32m    312\u001b[0m \u001b[0;34m\u001b[0m\u001b[0m\n\u001b[1;32m    313\u001b[0m         \u001b[0;32mreturn\u001b[0m \u001b[0mwrapper\u001b[0m\u001b[0;34m\u001b[0m\u001b[0;34m\u001b[0m\u001b[0m\n",
      "\u001b[0;32m/opt/conda/lib/python3.9/site-packages/pandas/io/parsers/readers.py\u001b[0m in \u001b[0;36mread_csv\u001b[0;34m(filepath_or_buffer, sep, delimiter, header, names, index_col, usecols, squeeze, prefix, mangle_dupe_cols, dtype, engine, converters, true_values, false_values, skipinitialspace, skiprows, skipfooter, nrows, na_values, keep_default_na, na_filter, verbose, skip_blank_lines, parse_dates, infer_datetime_format, keep_date_col, date_parser, dayfirst, cache_dates, iterator, chunksize, compression, thousands, decimal, lineterminator, quotechar, quoting, doublequote, escapechar, comment, encoding, encoding_errors, dialect, error_bad_lines, warn_bad_lines, on_bad_lines, delim_whitespace, low_memory, memory_map, float_precision, storage_options)\u001b[0m\n\u001b[1;32m    584\u001b[0m     \u001b[0mkwds\u001b[0m\u001b[0;34m.\u001b[0m\u001b[0mupdate\u001b[0m\u001b[0;34m(\u001b[0m\u001b[0mkwds_defaults\u001b[0m\u001b[0;34m)\u001b[0m\u001b[0;34m\u001b[0m\u001b[0;34m\u001b[0m\u001b[0m\n\u001b[1;32m    585\u001b[0m \u001b[0;34m\u001b[0m\u001b[0m\n\u001b[0;32m--> 586\u001b[0;31m     \u001b[0;32mreturn\u001b[0m \u001b[0m_read\u001b[0m\u001b[0;34m(\u001b[0m\u001b[0mfilepath_or_buffer\u001b[0m\u001b[0;34m,\u001b[0m \u001b[0mkwds\u001b[0m\u001b[0;34m)\u001b[0m\u001b[0;34m\u001b[0m\u001b[0;34m\u001b[0m\u001b[0m\n\u001b[0m\u001b[1;32m    587\u001b[0m \u001b[0;34m\u001b[0m\u001b[0m\n\u001b[1;32m    588\u001b[0m \u001b[0;34m\u001b[0m\u001b[0m\n",
      "\u001b[0;32m/opt/conda/lib/python3.9/site-packages/pandas/io/parsers/readers.py\u001b[0m in \u001b[0;36m_read\u001b[0;34m(filepath_or_buffer, kwds)\u001b[0m\n\u001b[1;32m    480\u001b[0m \u001b[0;34m\u001b[0m\u001b[0m\n\u001b[1;32m    481\u001b[0m     \u001b[0;31m# Create the parser.\u001b[0m\u001b[0;34m\u001b[0m\u001b[0;34m\u001b[0m\u001b[0m\n\u001b[0;32m--> 482\u001b[0;31m     \u001b[0mparser\u001b[0m \u001b[0;34m=\u001b[0m \u001b[0mTextFileReader\u001b[0m\u001b[0;34m(\u001b[0m\u001b[0mfilepath_or_buffer\u001b[0m\u001b[0;34m,\u001b[0m \u001b[0;34m**\u001b[0m\u001b[0mkwds\u001b[0m\u001b[0;34m)\u001b[0m\u001b[0;34m\u001b[0m\u001b[0;34m\u001b[0m\u001b[0m\n\u001b[0m\u001b[1;32m    483\u001b[0m \u001b[0;34m\u001b[0m\u001b[0m\n\u001b[1;32m    484\u001b[0m     \u001b[0;32mif\u001b[0m \u001b[0mchunksize\u001b[0m \u001b[0;32mor\u001b[0m \u001b[0miterator\u001b[0m\u001b[0;34m:\u001b[0m\u001b[0;34m\u001b[0m\u001b[0;34m\u001b[0m\u001b[0m\n",
      "\u001b[0;32m/opt/conda/lib/python3.9/site-packages/pandas/io/parsers/readers.py\u001b[0m in \u001b[0;36m__init__\u001b[0;34m(self, f, engine, **kwds)\u001b[0m\n\u001b[1;32m    809\u001b[0m             \u001b[0mself\u001b[0m\u001b[0;34m.\u001b[0m\u001b[0moptions\u001b[0m\u001b[0;34m[\u001b[0m\u001b[0;34m\"has_index_names\"\u001b[0m\u001b[0;34m]\u001b[0m \u001b[0;34m=\u001b[0m \u001b[0mkwds\u001b[0m\u001b[0;34m[\u001b[0m\u001b[0;34m\"has_index_names\"\u001b[0m\u001b[0;34m]\u001b[0m\u001b[0;34m\u001b[0m\u001b[0;34m\u001b[0m\u001b[0m\n\u001b[1;32m    810\u001b[0m \u001b[0;34m\u001b[0m\u001b[0m\n\u001b[0;32m--> 811\u001b[0;31m         \u001b[0mself\u001b[0m\u001b[0;34m.\u001b[0m\u001b[0m_engine\u001b[0m \u001b[0;34m=\u001b[0m \u001b[0mself\u001b[0m\u001b[0;34m.\u001b[0m\u001b[0m_make_engine\u001b[0m\u001b[0;34m(\u001b[0m\u001b[0mself\u001b[0m\u001b[0;34m.\u001b[0m\u001b[0mengine\u001b[0m\u001b[0;34m)\u001b[0m\u001b[0;34m\u001b[0m\u001b[0;34m\u001b[0m\u001b[0m\n\u001b[0m\u001b[1;32m    812\u001b[0m \u001b[0;34m\u001b[0m\u001b[0m\n\u001b[1;32m    813\u001b[0m     \u001b[0;32mdef\u001b[0m \u001b[0mclose\u001b[0m\u001b[0;34m(\u001b[0m\u001b[0mself\u001b[0m\u001b[0;34m)\u001b[0m\u001b[0;34m:\u001b[0m\u001b[0;34m\u001b[0m\u001b[0;34m\u001b[0m\u001b[0m\n",
      "\u001b[0;32m/opt/conda/lib/python3.9/site-packages/pandas/io/parsers/readers.py\u001b[0m in \u001b[0;36m_make_engine\u001b[0;34m(self, engine)\u001b[0m\n\u001b[1;32m   1038\u001b[0m             )\n\u001b[1;32m   1039\u001b[0m         \u001b[0;31m# error: Too many arguments for \"ParserBase\"\u001b[0m\u001b[0;34m\u001b[0m\u001b[0;34m\u001b[0m\u001b[0m\n\u001b[0;32m-> 1040\u001b[0;31m         \u001b[0;32mreturn\u001b[0m \u001b[0mmapping\u001b[0m\u001b[0;34m[\u001b[0m\u001b[0mengine\u001b[0m\u001b[0;34m]\u001b[0m\u001b[0;34m(\u001b[0m\u001b[0mself\u001b[0m\u001b[0;34m.\u001b[0m\u001b[0mf\u001b[0m\u001b[0;34m,\u001b[0m \u001b[0;34m**\u001b[0m\u001b[0mself\u001b[0m\u001b[0;34m.\u001b[0m\u001b[0moptions\u001b[0m\u001b[0;34m)\u001b[0m  \u001b[0;31m# type: ignore[call-arg]\u001b[0m\u001b[0;34m\u001b[0m\u001b[0;34m\u001b[0m\u001b[0m\n\u001b[0m\u001b[1;32m   1041\u001b[0m \u001b[0;34m\u001b[0m\u001b[0m\n\u001b[1;32m   1042\u001b[0m     \u001b[0;32mdef\u001b[0m \u001b[0m_failover_to_python\u001b[0m\u001b[0;34m(\u001b[0m\u001b[0mself\u001b[0m\u001b[0;34m)\u001b[0m\u001b[0;34m:\u001b[0m\u001b[0;34m\u001b[0m\u001b[0;34m\u001b[0m\u001b[0m\n",
      "\u001b[0;32m/opt/conda/lib/python3.9/site-packages/pandas/io/parsers/c_parser_wrapper.py\u001b[0m in \u001b[0;36m__init__\u001b[0;34m(self, src, **kwds)\u001b[0m\n\u001b[1;32m     49\u001b[0m \u001b[0;34m\u001b[0m\u001b[0m\n\u001b[1;32m     50\u001b[0m         \u001b[0;31m# open handles\u001b[0m\u001b[0;34m\u001b[0m\u001b[0;34m\u001b[0m\u001b[0m\n\u001b[0;32m---> 51\u001b[0;31m         \u001b[0mself\u001b[0m\u001b[0;34m.\u001b[0m\u001b[0m_open_handles\u001b[0m\u001b[0;34m(\u001b[0m\u001b[0msrc\u001b[0m\u001b[0;34m,\u001b[0m \u001b[0mkwds\u001b[0m\u001b[0;34m)\u001b[0m\u001b[0;34m\u001b[0m\u001b[0;34m\u001b[0m\u001b[0m\n\u001b[0m\u001b[1;32m     52\u001b[0m         \u001b[0;32massert\u001b[0m \u001b[0mself\u001b[0m\u001b[0;34m.\u001b[0m\u001b[0mhandles\u001b[0m \u001b[0;32mis\u001b[0m \u001b[0;32mnot\u001b[0m \u001b[0;32mNone\u001b[0m\u001b[0;34m\u001b[0m\u001b[0;34m\u001b[0m\u001b[0m\n\u001b[1;32m     53\u001b[0m \u001b[0;34m\u001b[0m\u001b[0m\n",
      "\u001b[0;32m/opt/conda/lib/python3.9/site-packages/pandas/io/parsers/base_parser.py\u001b[0m in \u001b[0;36m_open_handles\u001b[0;34m(self, src, kwds)\u001b[0m\n\u001b[1;32m    220\u001b[0m         \u001b[0mLet\u001b[0m \u001b[0mthe\u001b[0m \u001b[0mreaders\u001b[0m \u001b[0mopen\u001b[0m \u001b[0mIOHandles\u001b[0m \u001b[0mafter\u001b[0m \u001b[0mthey\u001b[0m \u001b[0mare\u001b[0m \u001b[0mdone\u001b[0m \u001b[0;32mwith\u001b[0m \u001b[0mtheir\u001b[0m \u001b[0mpotential\u001b[0m \u001b[0mraises\u001b[0m\u001b[0;34m.\u001b[0m\u001b[0;34m\u001b[0m\u001b[0;34m\u001b[0m\u001b[0m\n\u001b[1;32m    221\u001b[0m         \"\"\"\n\u001b[0;32m--> 222\u001b[0;31m         self.handles = get_handle(\n\u001b[0m\u001b[1;32m    223\u001b[0m             \u001b[0msrc\u001b[0m\u001b[0;34m,\u001b[0m\u001b[0;34m\u001b[0m\u001b[0;34m\u001b[0m\u001b[0m\n\u001b[1;32m    224\u001b[0m             \u001b[0;34m\"r\"\u001b[0m\u001b[0;34m,\u001b[0m\u001b[0;34m\u001b[0m\u001b[0;34m\u001b[0m\u001b[0m\n",
      "\u001b[0;32m/opt/conda/lib/python3.9/site-packages/pandas/io/common.py\u001b[0m in \u001b[0;36mget_handle\u001b[0;34m(path_or_buf, mode, encoding, compression, memory_map, is_text, errors, storage_options)\u001b[0m\n\u001b[1;32m    700\u001b[0m         \u001b[0;32mif\u001b[0m \u001b[0mioargs\u001b[0m\u001b[0;34m.\u001b[0m\u001b[0mencoding\u001b[0m \u001b[0;32mand\u001b[0m \u001b[0;34m\"b\"\u001b[0m \u001b[0;32mnot\u001b[0m \u001b[0;32min\u001b[0m \u001b[0mioargs\u001b[0m\u001b[0;34m.\u001b[0m\u001b[0mmode\u001b[0m\u001b[0;34m:\u001b[0m\u001b[0;34m\u001b[0m\u001b[0;34m\u001b[0m\u001b[0m\n\u001b[1;32m    701\u001b[0m             \u001b[0;31m# Encoding\u001b[0m\u001b[0;34m\u001b[0m\u001b[0;34m\u001b[0m\u001b[0m\n\u001b[0;32m--> 702\u001b[0;31m             handle = open(\n\u001b[0m\u001b[1;32m    703\u001b[0m                 \u001b[0mhandle\u001b[0m\u001b[0;34m,\u001b[0m\u001b[0;34m\u001b[0m\u001b[0;34m\u001b[0m\u001b[0m\n\u001b[1;32m    704\u001b[0m                 \u001b[0mioargs\u001b[0m\u001b[0;34m.\u001b[0m\u001b[0mmode\u001b[0m\u001b[0;34m,\u001b[0m\u001b[0;34m\u001b[0m\u001b[0;34m\u001b[0m\u001b[0m\n",
      "\u001b[0;31mFileNotFoundError\u001b[0m: [Errno 2] No such file or directory: '/content/drive/My Drive//LIBERACAO_MARGEM_TESTE_tratado.csv'"
     ]
    }
   ],
   "source": [
    "NlVisualization.wordCloud_Topics(filename,column_filter,column_text,whats_process)"
   ]
  },
  {
   "cell_type": "code",
   "execution_count": null,
   "metadata": {},
   "outputs": [],
   "source": [
    "NlVisualization.plot_10_most_common_words(filename,column_filter,column_text)"
   ]
  },
  {
   "cell_type": "code",
   "execution_count": null,
   "metadata": {},
   "outputs": [],
   "source": []
  }
 ],
 "metadata": {
  "colab": {
   "collapsed_sections": [],
   "name": "findkeywords.ipynb",
   "provenance": []
  },
  "kernelspec": {
   "display_name": "Python 3 (ipykernel)",
   "language": "python",
   "name": "python3"
  },
  "language_info": {
   "codemirror_mode": {
    "name": "ipython",
    "version": 3
   },
   "file_extension": ".py",
   "mimetype": "text/x-python",
   "name": "python",
   "nbconvert_exporter": "python",
   "pygments_lexer": "ipython3",
   "version": "3.9.7"
  }
 },
 "nbformat": 4,
 "nbformat_minor": 4
}
