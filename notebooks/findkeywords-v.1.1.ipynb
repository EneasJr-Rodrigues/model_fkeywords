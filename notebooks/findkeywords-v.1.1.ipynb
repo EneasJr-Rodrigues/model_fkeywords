{
 "cells": [
  {
   "cell_type": "markdown",
   "metadata": {
    "id": "0a9eVyEf8m3x"
   },
   "source": [
    "## Install Lib API"
   ]
  },
  {
   "cell_type": "code",
   "execution_count": null,
   "metadata": {
    "colab": {
     "base_uri": "https://localhost:8080/",
     "height": 1000
    },
    "id": "SeaRwOQILfbQ",
    "outputId": "445546b4-fdaa-4339-ac47-998708aaa1bf"
   },
   "outputs": [],
   "source": [
    "! pip install https://dnaink.jfrog.io/artifactory/dna-ink-pypi/model-fkeywords/0.1.0/model_fkeywords-0.1.0-py3-none-any.whl"
   ]
  },
  {
   "cell_type": "code",
   "execution_count": null,
   "metadata": {
    "colab": {
     "base_uri": "https://localhost:8080/"
    },
    "id": "E2fySI3fItig",
    "outputId": "6473fa3b-ea7c-447d-bb99-97343e976c36"
   },
   "outputs": [],
   "source": [
    "! python -m spacy download pt_core_news_sm"
   ]
  },
  {
   "cell_type": "markdown",
   "metadata": {
    "id": "rT8kEWlx8rCY"
   },
   "source": [
    "## Import libs"
   ]
  },
  {
   "cell_type": "code",
   "execution_count": 1,
   "metadata": {
    "colab": {
     "base_uri": "https://localhost:8080/"
    },
    "id": "3eC66XX18HW0",
    "outputId": "b6bd1a4f-8d53-4346-dede-d60df790fe54"
   },
   "outputs": [
    {
     "name": "stderr",
     "output_type": "stream",
     "text": [
      "/tmp/ipykernel_21041/3084512904.py:4: FutureWarning: Passing a negative integer is deprecated in version 1.0 and will not be supported in future version. Instead, use None to not limit the column width.\n",
      "  pd.set_option('display.max_colwidth', -1)\n"
     ]
    }
   ],
   "source": [
    "import pandas as pd\n",
    "from api_model.nlsuper import NlExtractorProcess\n",
    "\n",
    "pd.set_option('display.max_colwidth', -1)\n",
    "pd.set_option('display.max_rows', None)"
   ]
  },
  {
   "cell_type": "markdown",
   "metadata": {},
   "source": [
    "## Variables"
   ]
  },
  {
   "cell_type": "markdown",
   "metadata": {},
   "source": [
    "##### Description of process\n",
    "        whats_process = 'complete'\n",
    "            return: process all pipeline\n",
    "        whats_process = 'partial'\n",
    "            return: findkeywords and process bigrams\n",
    "        whats_process = 'only_keywords'\n",
    "            return: findkeywords   "
   ]
  },
  {
   "cell_type": "code",
   "execution_count": 2,
   "metadata": {},
   "outputs": [],
   "source": [
    "filename = 'LIBERACAO_MARGEM'\n",
    "prefix = 'CSV'\n",
    "prefix_sep = '|'\n",
    "column_text = 'TRANSCRICAO'\n",
    "whats_process = 'complete'\n",
    "#whats_process = 'partial'\n",
    "#whats_process = 'only_keywords'\n",
    "id_database = 'ID'\n",
    "type_find = 'fixo' # aproximado"
   ]
  },
  {
   "cell_type": "code",
   "execution_count": 3,
   "metadata": {},
   "outputs": [],
   "source": [
    "text_finds = {\n",
    "    'negatividade': ['a desejar', 'abrir uma reclamacao', 'absurd', 'aguento mais', 'boceta', 'bosta', 'brigaram', 'buceta', 'burocra', 'cansad', 'caralho', 'conflito', 'constrang', 'decepcao', 'decepcionad', 'quanta demora', 'que demora', 'tentando resolver', 'descontent', 'descrenca', 'descrente', 'desrespeit', 'fdp', 'filha da puta', 'filha de uma puta', 'filho da puta', 'filho de uma puta', 'frustracao', 'frustrad', 'humilhacao', 'humilhad', 'ignorad', 'ignoram', 'incompet', 'inferno', 'informa nada', 'injuria', 'ironia', 'ironic', 'irreponsaveis', 'irresponsabilidade', 'irresponsavel', 'ma vontade', 'mal a pior', 'mal atendid', 'mal educad', 'mal respondem', 'mal tratad', 'mau atendid', 'mau educad', 'mau respondem', 'mau tratad', 'merda', 'nao podemos arcar', 'nao posso arcar', 'nao sabe', 'ninguem resolve', 'ofenderam', 'ofendid', 'orrivel', 'pelo amor de deus', 'pessimo', 'pessimu', 'porra', 'poxa', 'pqp', 'puta que pariu', 'reclamacao', 'reclamar', 'ridicul', 'ruim', 'sabe nada', 'sem educacao', 'ta dificil', 'trata mal', 'trata mau', 'tratou mal', 'tratou mau', 'triste', 'vergonh', 'vagabund', 'raiva', 'detest', 'nao quero mais', 'odeio', 'safad', 'deus me livre', 'vergonh'],\n",
    "    'reputacao': ['advogad', 'consumidor.gov', 'entrar com processo', 'facebook', 'instagram', 'judiciais', 'judicial', 'justica', 'meu direito', 'meus direito', 'ouvidoria', 'pequenas causas', 'processar voces', 'procon', 'reclame aqui', 'reclameaqui', 'twitter'],\n",
    "    'rechamada': ['ainda nao', 'alguma posicao', 'ate agora', 'ate o momento', 'atraso', 'chamado aberto', 'consigo resolver', 'contato novamente', 'continuo sem acesso', 'de novo', 'demora', 'desde ontem', 'desde semana', 'diversas vezes', 'duas vezes', 'em andamento', 'entrei em contato', 'era pra ter', 'faz um mes', 'faz uma semana', 'ja abri', 'ja enviei', 'ja liguei', 'ja mandei', 'liguei pra central', 'mesmo erro', 'muitas vezes', 'nao chegou', 'nao e a primeira vez', 'ocorrencia aberta', 'posicionamento', 'segunda vez', 'sem sucesso', 'tentativa', 'terceira vez', 'todo dia', 'varias vezes', 'chamado aberto'],\n",
    "    'satisfacao': ['adorei', 'adoro', 'ageis', 'agil', 'agilidade', 'amei', 'atendimento perfeito', 'bem atendid', 'carisma', 'diferenciad', 'educad', 'eficacia', 'eficas', 'eficaz', 'elogiar', 'elogio', 'excelente atendimento', 'feliz', 'gostei', 'impecavel', 'me ajudou', 'merito', 'motivacao', 'motivad', 'muito 10', 'muito bom', 'muito dez', 'nota 10', 'nota dez', 'otimo atendimento', 'parabenizar', 'parabens', 'pela ajuda', 'personalizad', 'preparad', 'prestativ', 'profissional', 'qualidade', 'rapidez', 'resolveu', 'satisfacao', 'satisfatori', 'satisfeit', 'solucionou', 'ate que enfim', 'ate que em fim'],\n",
    "    'concorrencia': ['ifood', 'caju', 'vee', 'flash', 'bem', 'up', 'VR', 'ticket', 'alelo', 'swile'],\n",
    "    'contencao': ['desculpa', 'desculpe', 'sinto muito', 'desculpe a demora', 'lamento', 'lamentamos', 'perdoa', 'perdao', 'pelo ocorrido', 'o ocorrido', 'fique tranquil'],\n",
    "    'ocorrencia': ['chamado', 'ocorrencia', 'registrada com sucesso'],\n",
    "    'direcionamento': ['central de atedimento', 'ligar na central', 'somente na central', 'sodexo.com', 'ligue na central'],\n",
    "    'pedefacil': ['clique no', 'clique em', 'menu servicos', 'do menu', 'pede facil', 'clica no', 'clica em', 'diretamente no site', 'visualizar em', 'no menu', 'menu'],\n",
    "    'ativo': ['analista pode entrar em contato', 'o analista entrara em contato', 'para te auxiliar na proposta', 'solicitei o contato', 'deixe seu contato']\n",
    "\n",
    "          }"
   ]
  },
  {
   "cell_type": "code",
   "execution_count": 4,
   "metadata": {
    "colab": {
     "base_uri": "https://localhost:8080/"
    },
    "id": "7TkRPqms9ZJh",
    "outputId": "a1095e79-481c-40be-c559-dcafcb4d09f4"
   },
   "outputs": [
    {
     "name": "stdout",
     "output_type": "stream",
     "text": [
      "read file /opt/dna/find-keywords/datalake/CSV\n"
     ]
    },
    {
     "name": "stderr",
     "output_type": "stream",
     "text": [
      "/tmp/ipykernel_21041/561833192.py:1: DtypeWarning: Columns (15) have mixed types.Specify dtype option on import or set low_memory=False.\n",
      "  df = NlExtractorProcess.call_process(filename, prefix, prefix_sep,\\\n"
     ]
    },
    {
     "name": "stdout",
     "output_type": "stream",
     "text": [
      "<class 'pandas.core.frame.DataFrame'>\n",
      "RangeIndex: 67266 entries, 0 to 67265\n",
      "Data columns (total 21 columns):\n",
      " #   Column        Non-Null Count  Dtype  \n",
      "---  ------        --------------  -----  \n",
      " 0   CPF           67266 non-null  int64  \n",
      " 1   DURATION      67266 non-null  int64  \n",
      " 2   ENDTIME       67266 non-null  object \n",
      " 3   EXTERNALID    67266 non-null  object \n",
      " 4   ID            67266 non-null  int64  \n",
      " 5   STARTTIME     67266 non-null  object \n",
      " 6   MONOCHANNEL   137 non-null    object \n",
      " 7   SEQUENCIA     67213 non-null  float64\n",
      " 8   CANAL         67213 non-null  object \n",
      " 9   TRANSCRICAO   67213 non-null  object \n",
      " 10  AGENT         67266 non-null  object \n",
      " 11  WORKGROUP     67266 non-null  object \n",
      " 12  CATEGORIES    67266 non-null  object \n",
      " 13  TOPICS        66977 non-null  object \n",
      " 14  RECHAMADAS    352 non-null    float64\n",
      " 15  URA_LOG       67266 non-null  object \n",
      " 16  FILA          57233 non-null  object \n",
      " 17  VQ            31683 non-null  object \n",
      " 18  CALLTYPE      67266 non-null  object \n",
      " 19  CONTACTID     67266 non-null  object \n",
      " 20  DATA_ARQUIVO  67266 non-null  int64  \n",
      "dtypes: float64(2), int64(4), object(15)\n",
      "memory usage: 10.8+ MB\n",
      "eschema of dataframe is None\n",
      "convert column_text column to string type\n",
      "put column_text in lower case\n",
      "Start Complete Process\n",
      "remove special characters and pontuation of column_text\n",
      "collect words and find in column_text\n",
      "dict: {'negatividade': ['a desejar', 'abrir uma reclamacao', 'absurd', 'aguento mais', 'boceta', 'bosta', 'brigaram', 'buceta', 'burocra', 'cansad', 'caralho', 'conflito', 'constrang', 'decepcao', 'decepcionad', 'quanta demora', 'que demora', 'tentando resolver', 'descontent', 'descrenca', 'descrente', 'desrespeit', 'fdp', 'filha da puta', 'filha de uma puta', 'filho da puta', 'filho de uma puta', 'frustracao', 'frustrad', 'humilhacao', 'humilhad', 'ignorad', 'ignoram', 'incompet', 'inferno', 'informa nada', 'injuria', 'ironia', 'ironic', 'irreponsaveis', 'irresponsabilidade', 'irresponsavel', 'ma vontade', 'mal a pior', 'mal atendid', 'mal educad', 'mal respondem', 'mal tratad', 'mau atendid', 'mau educad', 'mau respondem', 'mau tratad', 'merda', 'nao podemos arcar', 'nao posso arcar', 'nao sabe', 'ninguem resolve', 'ofenderam', 'ofendid', 'orrivel', 'pelo amor de deus', 'pessimo', 'pessimu', 'porra', 'poxa', 'pqp', 'puta que pariu', 'reclamacao', 'reclamar', 'ridicul', 'ruim', 'sabe nada', 'sem educacao', 'ta dificil', 'trata mal', 'trata mau', 'tratou mal', 'tratou mau', 'triste', 'vergonh', 'vagabund', 'raiva', 'detest', 'nao quero mais', 'odeio', 'safad', 'deus me livre', 'vergonh'], 'reputacao': ['advogad', 'consumidor.gov', 'entrar com processo', 'facebook', 'instagram', 'judiciais', 'judicial', 'justica', 'meu direito', 'meus direito', 'ouvidoria', 'pequenas causas', 'processar voces', 'procon', 'reclame aqui', 'reclameaqui', 'twitter'], 'rechamada': ['ainda nao', 'alguma posicao', 'ate agora', 'ate o momento', 'atraso', 'chamado aberto', 'consigo resolver', 'contato novamente', 'continuo sem acesso', 'de novo', 'demora', 'desde ontem', 'desde semana', 'diversas vezes', 'duas vezes', 'em andamento', 'entrei em contato', 'era pra ter', 'faz um mes', 'faz uma semana', 'ja abri', 'ja enviei', 'ja liguei', 'ja mandei', 'liguei pra central', 'mesmo erro', 'muitas vezes', 'nao chegou', 'nao e a primeira vez', 'ocorrencia aberta', 'posicionamento', 'segunda vez', 'sem sucesso', 'tentativa', 'terceira vez', 'todo dia', 'varias vezes', 'chamado aberto'], 'satisfacao': ['adorei', 'adoro', 'ageis', 'agil', 'agilidade', 'amei', 'atendimento perfeito', 'bem atendid', 'carisma', 'diferenciad', 'educad', 'eficacia', 'eficas', 'eficaz', 'elogiar', 'elogio', 'excelente atendimento', 'feliz', 'gostei', 'impecavel', 'me ajudou', 'merito', 'motivacao', 'motivad', 'muito 10', 'muito bom', 'muito dez', 'nota 10', 'nota dez', 'otimo atendimento', 'parabenizar', 'parabens', 'pela ajuda', 'personalizad', 'preparad', 'prestativ', 'profissional', 'qualidade', 'rapidez', 'resolveu', 'satisfacao', 'satisfatori', 'satisfeit', 'solucionou', 'ate que enfim', 'ate que em fim'], 'concorrencia': ['ifood', 'caju', 'vee', 'flash', 'bem', 'up', 'VR', 'ticket', 'alelo', 'swile'], 'contencao': ['desculpa', 'desculpe', 'sinto muito', 'desculpe a demora', 'lamento', 'lamentamos', 'perdoa', 'perdao', 'pelo ocorrido', 'o ocorrido', 'fique tranquil'], 'ocorrencia': ['chamado', 'ocorrencia', 'registrada com sucesso'], 'direcionamento': ['central de atedimento', 'ligar na central', 'somente na central', 'sodexo.com', 'ligue na central'], 'pedefacil': ['clique no', 'clique em', 'menu servicos', 'do menu', 'pede facil', 'clica no', 'clica em', 'diretamente no site', 'visualizar em', 'no menu', 'menu'], 'ativo': ['analista pode entrar em contato', 'o analista entrara em contato', 'para te auxiliar na proposta', 'solicitei o contato', 'deixe seu contato']}\n",
      "check numbers words by rows\n",
      "numbers of rows < 3 words from line 7096\n",
      "numbers of promotors lines 12904\n",
      "convert dataframe pandas to pyspark\n",
      "[INFO] Creating default Spark Session\n"
     ]
    },
    {
     "name": "stderr",
     "output_type": "stream",
     "text": [
      "WARNING: An illegal reflective access operation has occurred\n",
      "WARNING: Illegal reflective access by org.apache.spark.unsafe.Platform (file:/usr/local/spark-3.1.2-bin-hadoop3.2/jars/spark-unsafe_2.12-3.1.2.jar) to constructor java.nio.DirectByteBuffer(long,int)\n",
      "WARNING: Please consider reporting this to the maintainers of org.apache.spark.unsafe.Platform\n",
      "WARNING: Use --illegal-access=warn to enable warnings of further illegal reflective access operations\n",
      "WARNING: All illegal access operations will be denied in a future release\n",
      "22/06/11 22:54:35 WARN NativeCodeLoader: Unable to load native-hadoop library for your platform... using builtin-java classes where applicable\n",
      "Using Spark's default log4j profile: org/apache/spark/log4j-defaults.properties\n",
      "Setting default log level to \"WARN\".\n",
      "To adjust logging level use sc.setLogLevel(newLevel). For SparkR, use setLogLevel(newLevel).\n"
     ]
    },
    {
     "name": "stdout",
     "output_type": "stream",
     "text": [
      "root\n",
      " |-- ID: string (nullable = true)\n",
      " |-- TRANSCRICAO: string (nullable = true)\n",
      "\n",
      "None\n",
      "remove null values of dataset\n"
     ]
    },
    {
     "name": "stderr",
     "output_type": "stream",
     "text": [
      "                                                                                \r"
     ]
    },
    {
     "name": "stdout",
     "output_type": "stream",
     "text": [
      "count rows after remove null values 18488\n",
      "+-------+----------------+\n",
      "|ID     |TRANSCRICAO     |\n",
      "+-------+----------------+\n",
      "|6837807|tres tres       |\n",
      "|6837840|com             |\n",
      "|6837840|sei             |\n",
      "|6838011|alo             |\n",
      "|6837807|bom isso alo alo|\n",
      "+-------+----------------+\n",
      "only showing top 5 rows\n",
      "\n",
      "None\n",
      "process bigrams and trigrams of column_text\n"
     ]
    },
    {
     "name": "stderr",
     "output_type": "stream",
     "text": [
      "                                                                                \r"
     ]
    },
    {
     "name": "stdout",
     "output_type": "stream",
     "text": [
      "+-------+----------------+-------------+---------------+----------------+\n",
      "|ID     |TRANSCRICAO     |countent_word|countent_bigram|countent_trigram|\n",
      "+-------+----------------+-------------+---------------+----------------+\n",
      "|6837807|tres tres       |tres         |tres tres      |null            |\n",
      "|6837840|com             |null         |null           |null            |\n",
      "|6837840|sei             |sei          |null           |null            |\n",
      "|6838011|alo             |alo          |null           |null            |\n",
      "|6837807|bom isso alo alo|alo          |bom alo        |null            |\n",
      "+-------+----------------+-------------+---------------+----------------+\n",
      "only showing top 5 rows\n",
      "\n",
      "dataframe with wordCloud ..None\n",
      "convert to pandas again\n",
      "dataframe old ['CPF', 'DURATION', 'ENDTIME', 'EXTERNALID', 'ID', 'STARTTIME', 'MONOCHANNEL', 'SEQUENCIA', 'CANAL', 'TRANSCRICAO', 'AGENT', 'WORKGROUP', 'CATEGORIES', 'TOPICS', 'RECHAMADAS', 'URA_LOG', 'FILA', 'VQ', 'CALLTYPE', 'CONTACTID', 'DATA_ARQUIVO', 'negatividade', 'reputacao', 'rechamada', 'satisfacao', 'concorrencia', 'contencao', 'ocorrencia', 'direcionamento', 'pedefacil', 'ativo', 'numbers_words']\n",
      "dataframe new ['ID', 'TRANSCRICAO', 'countent_word', 'countent_bigram', 'countent_trigram']\n",
      "convert column_text column to string type\n",
      "joined dataframes ['CPF', 'DURATION', 'ENDTIME', 'EXTERNALID', 'ID', 'STARTTIME', 'MONOCHANNEL', 'SEQUENCIA', 'CANAL', 'TRANSCRICAO_x', 'AGENT', 'WORKGROUP', 'CATEGORIES', 'TOPICS', 'RECHAMADAS', 'URA_LOG', 'FILA', 'VQ', 'CALLTYPE', 'CONTACTID', 'DATA_ARQUIVO', 'negatividade', 'reputacao', 'rechamada', 'satisfacao', 'concorrencia', 'contencao', 'ocorrencia', 'direcionamento', 'pedefacil', 'ativo', 'numbers_words', 'TRANSCRICAO_y', 'countent_word', 'countent_bigram', 'countent_trigram']\n",
      "save csf file\n",
      "Finishing Process\n"
     ]
    }
   ],
   "source": [
    "df = NlExtractorProcess.call_process(filename, prefix, prefix_sep,\\\n",
    "                                     column_text, whats_process,\\\n",
    "                                     text_finds, id_database, type_find)"
   ]
  },
  {
   "cell_type": "code",
   "execution_count": 5,
   "metadata": {},
   "outputs": [
    {
     "data": {
      "text/html": [
       "<div>\n",
       "<style scoped>\n",
       "    .dataframe tbody tr th:only-of-type {\n",
       "        vertical-align: middle;\n",
       "    }\n",
       "\n",
       "    .dataframe tbody tr th {\n",
       "        vertical-align: top;\n",
       "    }\n",
       "\n",
       "    .dataframe thead th {\n",
       "        text-align: right;\n",
       "    }\n",
       "</style>\n",
       "<table border=\"1\" class=\"dataframe\">\n",
       "  <thead>\n",
       "    <tr style=\"text-align: right;\">\n",
       "      <th></th>\n",
       "      <th>CPF</th>\n",
       "      <th>DURATION</th>\n",
       "      <th>ENDTIME</th>\n",
       "      <th>EXTERNALID</th>\n",
       "      <th>ID</th>\n",
       "      <th>STARTTIME</th>\n",
       "      <th>MONOCHANNEL</th>\n",
       "      <th>SEQUENCIA</th>\n",
       "      <th>CANAL</th>\n",
       "      <th>TRANSCRICAO_x</th>\n",
       "      <th>...</th>\n",
       "      <th>contencao</th>\n",
       "      <th>ocorrencia</th>\n",
       "      <th>direcionamento</th>\n",
       "      <th>pedefacil</th>\n",
       "      <th>ativo</th>\n",
       "      <th>numbers_words</th>\n",
       "      <th>TRANSCRICAO_y</th>\n",
       "      <th>countent_word</th>\n",
       "      <th>countent_bigram</th>\n",
       "      <th>countent_trigram</th>\n",
       "    </tr>\n",
       "  </thead>\n",
       "  <tbody>\n",
       "    <tr>\n",
       "      <th>0</th>\n",
       "      <td>40361829</td>\n",
       "      <td>39</td>\n",
       "      <td>03MAR2022:11:47:38</td>\n",
       "      <td>DE59V9JKTH2GP6JKP00AEM2EPK029HK4</td>\n",
       "      <td>6837807</td>\n",
       "      <td>03MAR2022:11:46:59</td>\n",
       "      <td>NaN</td>\n",
       "      <td>0.0</td>\n",
       "      <td>LEFT</td>\n",
       "      <td>tres tres</td>\n",
       "      <td>...</td>\n",
       "      <td></td>\n",
       "      <td></td>\n",
       "      <td></td>\n",
       "      <td></td>\n",
       "      <td></td>\n",
       "      <td>2</td>\n",
       "      <td>tres tres</td>\n",
       "      <td>tres</td>\n",
       "      <td>tres tres</td>\n",
       "      <td>None</td>\n",
       "    </tr>\n",
       "    <tr>\n",
       "      <th>1</th>\n",
       "      <td>40361829</td>\n",
       "      <td>39</td>\n",
       "      <td>03MAR2022:11:47:38</td>\n",
       "      <td>DE59V9JKTH2GP6JKP00AEM2EPK029HK4</td>\n",
       "      <td>6837807</td>\n",
       "      <td>03MAR2022:11:46:59</td>\n",
       "      <td>NaN</td>\n",
       "      <td>0.0</td>\n",
       "      <td>LEFT</td>\n",
       "      <td>tres tres</td>\n",
       "      <td>...</td>\n",
       "      <td></td>\n",
       "      <td></td>\n",
       "      <td></td>\n",
       "      <td></td>\n",
       "      <td></td>\n",
       "      <td>2</td>\n",
       "      <td>bom isso alo alo</td>\n",
       "      <td>alo</td>\n",
       "      <td>bom alo</td>\n",
       "      <td>None</td>\n",
       "    </tr>\n",
       "    <tr>\n",
       "      <th>2</th>\n",
       "      <td>40361829</td>\n",
       "      <td>9</td>\n",
       "      <td>03MAR2022:11:50:10</td>\n",
       "      <td>DE59V9JKTH2GP6JKP00AEM2EPK029HLK</td>\n",
       "      <td>6837840</td>\n",
       "      <td>03MAR2022:11:50:01</td>\n",
       "      <td>NaN</td>\n",
       "      <td>0.0</td>\n",
       "      <td>RIGHT</td>\n",
       "      <td>com</td>\n",
       "      <td>...</td>\n",
       "      <td></td>\n",
       "      <td></td>\n",
       "      <td></td>\n",
       "      <td></td>\n",
       "      <td></td>\n",
       "      <td>1</td>\n",
       "      <td>com</td>\n",
       "      <td>None</td>\n",
       "      <td>None</td>\n",
       "      <td>None</td>\n",
       "    </tr>\n",
       "    <tr>\n",
       "      <th>3</th>\n",
       "      <td>40361829</td>\n",
       "      <td>9</td>\n",
       "      <td>03MAR2022:11:50:10</td>\n",
       "      <td>DE59V9JKTH2GP6JKP00AEM2EPK029HLK</td>\n",
       "      <td>6837840</td>\n",
       "      <td>03MAR2022:11:50:01</td>\n",
       "      <td>NaN</td>\n",
       "      <td>0.0</td>\n",
       "      <td>RIGHT</td>\n",
       "      <td>com</td>\n",
       "      <td>...</td>\n",
       "      <td></td>\n",
       "      <td></td>\n",
       "      <td></td>\n",
       "      <td></td>\n",
       "      <td></td>\n",
       "      <td>1</td>\n",
       "      <td>sei</td>\n",
       "      <td>sei</td>\n",
       "      <td>None</td>\n",
       "      <td>None</td>\n",
       "    </tr>\n",
       "    <tr>\n",
       "      <th>4</th>\n",
       "      <td>40361829</td>\n",
       "      <td>583</td>\n",
       "      <td>03MAR2022:12:01:33</td>\n",
       "      <td>DE59V9JKTH2GP6JKP00AEM2EPK029HNV</td>\n",
       "      <td>6838011</td>\n",
       "      <td>03MAR2022:11:51:50</td>\n",
       "      <td>NaN</td>\n",
       "      <td>0.0</td>\n",
       "      <td>LEFT</td>\n",
       "      <td></td>\n",
       "      <td>...</td>\n",
       "      <td></td>\n",
       "      <td></td>\n",
       "      <td></td>\n",
       "      <td></td>\n",
       "      <td></td>\n",
       "      <td>1</td>\n",
       "      <td>alo</td>\n",
       "      <td>alo</td>\n",
       "      <td>None</td>\n",
       "      <td>None</td>\n",
       "    </tr>\n",
       "  </tbody>\n",
       "</table>\n",
       "<p>5 rows × 36 columns</p>\n",
       "</div>"
      ],
      "text/plain": [
       "        CPF  DURATION             ENDTIME                        EXTERNALID  \\\n",
       "0  40361829  39        03MAR2022:11:47:38  DE59V9JKTH2GP6JKP00AEM2EPK029HK4   \n",
       "1  40361829  39        03MAR2022:11:47:38  DE59V9JKTH2GP6JKP00AEM2EPK029HK4   \n",
       "2  40361829  9         03MAR2022:11:50:10  DE59V9JKTH2GP6JKP00AEM2EPK029HLK   \n",
       "3  40361829  9         03MAR2022:11:50:10  DE59V9JKTH2GP6JKP00AEM2EPK029HLK   \n",
       "4  40361829  583       03MAR2022:12:01:33  DE59V9JKTH2GP6JKP00AEM2EPK029HNV   \n",
       "\n",
       "        ID           STARTTIME MONOCHANNEL  SEQUENCIA  CANAL TRANSCRICAO_x  \\\n",
       "0  6837807  03MAR2022:11:46:59  NaN         0.0        LEFT   tres tres      \n",
       "1  6837807  03MAR2022:11:46:59  NaN         0.0        LEFT   tres tres      \n",
       "2  6837840  03MAR2022:11:50:01  NaN         0.0        RIGHT  com            \n",
       "3  6837840  03MAR2022:11:50:01  NaN         0.0        RIGHT  com            \n",
       "4  6838011  03MAR2022:11:51:50  NaN         0.0        LEFT                  \n",
       "\n",
       "   ... contencao ocorrencia direcionamento pedefacil  ativo numbers_words  \\\n",
       "0  ...                                                       2              \n",
       "1  ...                                                       2              \n",
       "2  ...                                                       1              \n",
       "3  ...                                                       1              \n",
       "4  ...                                                       1              \n",
       "\n",
       "      TRANSCRICAO_y countent_word countent_bigram countent_trigram  \n",
       "0  tres tres         tres          tres tres       None             \n",
       "1  bom isso alo alo  alo           bom alo         None             \n",
       "2  com               None          None            None             \n",
       "3  sei               sei           None            None             \n",
       "4  alo               alo           None            None             \n",
       "\n",
       "[5 rows x 36 columns]"
      ]
     },
     "execution_count": 5,
     "metadata": {},
     "output_type": "execute_result"
    }
   ],
   "source": [
    "df.head()"
   ]
  },
  {
   "cell_type": "code",
   "execution_count": null,
   "metadata": {
    "id": "kqGE2FYygAf7"
   },
   "outputs": [],
   "source": []
  }
 ],
 "metadata": {
  "colab": {
   "collapsed_sections": [],
   "name": "findkeywords.ipynb",
   "provenance": []
  },
  "kernelspec": {
   "display_name": "Python 3 (ipykernel)",
   "language": "python",
   "name": "python3"
  },
  "language_info": {
   "codemirror_mode": {
    "name": "ipython",
    "version": 3
   },
   "file_extension": ".py",
   "mimetype": "text/x-python",
   "name": "python",
   "nbconvert_exporter": "python",
   "pygments_lexer": "ipython3",
   "version": "3.9.7"
  }
 },
 "nbformat": 4,
 "nbformat_minor": 4
}
