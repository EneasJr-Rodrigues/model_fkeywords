{
 "cells": [
  {
   "cell_type": "markdown",
   "metadata": {
    "id": "0a9eVyEf8m3x"
   },
   "source": [
    "## Install Lib API"
   ]
  },
  {
   "cell_type": "code",
   "execution_count": null,
   "metadata": {
    "colab": {
     "base_uri": "https://localhost:8080/",
     "height": 1000
    },
    "id": "SeaRwOQILfbQ",
    "outputId": "445546b4-fdaa-4339-ac47-998708aaa1bf"
   },
   "outputs": [],
   "source": [
    "! pip install https://dnaink.jfrog.io/artifactory/dna-ink-pypi/model-fkeywords/0.1.0/model_fkeywords-0.1.0-py3-none-any.whl"
   ]
  },
  {
   "cell_type": "code",
   "execution_count": null,
   "metadata": {
    "colab": {
     "base_uri": "https://localhost:8080/"
    },
    "id": "E2fySI3fItig",
    "outputId": "6473fa3b-ea7c-447d-bb99-97343e976c36"
   },
   "outputs": [],
   "source": [
    "! python -m spacy download pt_core_news_sm"
   ]
  },
  {
   "cell_type": "markdown",
   "metadata": {
    "id": "rT8kEWlx8rCY"
   },
   "source": [
    "## Import libs"
   ]
  },
  {
   "cell_type": "code",
   "execution_count": 1,
   "metadata": {
    "colab": {
     "base_uri": "https://localhost:8080/"
    },
    "id": "3eC66XX18HW0",
    "outputId": "b6bd1a4f-8d53-4346-dede-d60df790fe54"
   },
   "outputs": [
    {
     "name": "stderr",
     "output_type": "stream",
     "text": [
      "[nltk_data] Downloading package punkt to /home/jovyan/nltk_data...\n",
      "[nltk_data]   Package punkt is already up-to-date!\n",
      "/tmp/ipykernel_199/1571986624.py:5: FutureWarning: Passing a negative integer is deprecated in version 1.0 and will not be supported in future version. Instead, use None to not limit the column width.\n",
      "  pd.set_option('display.max_colwidth', -1)\n"
     ]
    }
   ],
   "source": [
    "import pandas as pd\n",
    "from api_model.nlsuper import NlExtractorProcess\n",
    "from api_model.nlvisualization import NlVisualization\n",
    "\n",
    "pd.set_option('display.max_colwidth', -1)\n",
    "pd.set_option('display.max_rows', None)"
   ]
  },
  {
   "cell_type": "markdown",
   "metadata": {},
   "source": [
    "## Variables"
   ]
  },
  {
   "cell_type": "markdown",
   "metadata": {},
   "source": [
    "##### Description of process\n",
    "        whats_process = 'complete'\n",
    "            return: process all pipeline\n",
    "        whats_process = 'partial'\n",
    "            return: findkeywords and process bigrams\n",
    "        whats_process = 'only_keywords'\n",
    "            return: findkeywords   "
   ]
  },
  {
   "cell_type": "code",
   "execution_count": 2,
   "metadata": {},
   "outputs": [],
   "source": [
    "filename = 'LIBERACAO_MARGEM_TESTE'\n",
    "prefix = 'csv'\n",
    "prefix_sep = '|'\n",
    "column_text = 'TRANSCRICAO'\n",
    "whats_process = 'complete'\n",
    "#whats_process = 'partial'\n",
    "#whats_process = 'only_keywords'\n",
    "id_database = 'CONTACTID'\n",
    "type_find = 'aproximado' # aproximado # fixo\n",
    "activate_stopwords = 'sim' # não"
   ]
  },
  {
   "cell_type": "code",
   "execution_count": 3,
   "metadata": {},
   "outputs": [],
   "source": [
    "text_finds = {\n",
    "    'negatividade': ['a desejar', 'abrir uma reclamacao', 'absurd', 'aguento mais', 'boceta', 'bosta', 'brigaram', 'buceta', 'burocra', 'cansad', 'caralho', 'conflito', 'constrang', 'decepcao', 'decepcionad', 'quanta demora', 'que demora', 'tentando resolver', 'descontent', 'descrenca', 'descrente', 'desrespeit', 'fdp', 'filha da puta', 'filha de uma puta', 'filho da puta', 'filho de uma puta', 'frustracao', 'frustrad', 'humilhacao', 'humilhad', 'ignorad', 'ignoram', 'incompet', 'inferno', 'informa nada', 'injuria', 'ironia', 'ironic', 'irreponsaveis', 'irresponsabilidade', 'irresponsavel', 'ma vontade', 'mal a pior', 'mal atendid', 'mal educad', 'mal respondem', 'mal tratad', 'mau atendid', 'mau educad', 'mau respondem', 'mau tratad', 'merda', 'nao podemos arcar', 'nao posso arcar', 'nao sabe', 'ninguem resolve', 'ofenderam', 'ofendid', 'orrivel', 'pelo amor de deus', 'pessimo', 'pessimu', 'porra', 'poxa', 'pqp', 'puta que pariu', 'reclamacao', 'reclamar', 'ridicul', 'ruim', 'sabe nada', 'sem educacao', 'ta dificil', 'trata mal', 'trata mau', 'tratou mal', 'tratou mau', 'triste', 'vergonh', 'vagabund', 'raiva', 'detest', 'nao quero mais', 'odeio', 'safad', 'deus me livre', 'vergonh'],\n",
    "    'reputacao': ['advogad', 'consumidor.gov', 'entrar com processo', 'facebook', 'instagram', 'judiciais', 'judicial', 'justica', 'meu direito', 'meus direito', 'ouvidoria', 'pequenas causas', 'processar voces', 'procon', 'reclame aqui', 'reclameaqui', 'twitter'],\n",
    "    'rechamada': ['ainda nao', 'alguma posicao', 'ate agora', 'ate o momento', 'atraso', 'chamado aberto', 'consigo resolver', 'contato novamente', 'continuo sem acesso', 'de novo', 'demora', 'desde ontem', 'desde semana', 'diversas vezes', 'duas vezes', 'em andamento', 'entrei em contato', 'era pra ter', 'faz um mes', 'faz uma semana', 'ja abri', 'ja enviei', 'ja liguei', 'ja mandei', 'liguei pra central', 'mesmo erro', 'muitas vezes', 'nao chegou', 'nao e a primeira vez', 'ocorrencia aberta', 'posicionamento', 'segunda vez', 'sem sucesso', 'tentativa', 'terceira vez', 'todo dia', 'varias vezes', 'chamado aberto'],\n",
    "    'satisfacao': ['adorei', 'adoro', 'ageis', 'agil', 'agilidade', 'amei', 'atendimento perfeito', 'bem atendid', 'carisma', 'diferenciad', 'educad', 'eficacia', 'eficas', 'eficaz', 'elogiar', 'elogio', 'excelente atendimento', 'feliz', 'gostei', 'impecavel', 'me ajudou', 'merito', 'motivacao', 'motivad', 'muito 10', 'muito bom', 'muito dez', 'nota 10', 'nota dez', 'otimo atendimento', 'parabenizar', 'parabens', 'pela ajuda', 'personalizad', 'preparad', 'prestativ', 'profissional', 'qualidade', 'rapidez', 'resolveu', 'satisfacao', 'satisfatori', 'satisfeit', 'solucionou', 'ate que enfim', 'ate que em fim'],\n",
    "    'concorrencia': ['ifood', 'caju', 'vee', 'flash', 'bem', 'up', 'VR', 'ticket', 'alelo', 'swile'],\n",
    "    'contencao': ['desculpa', 'desculpe', 'sinto muito', 'desculpe a demora', 'lamento', 'lamentamos', 'perdoa', 'perdao', 'pelo ocorrido', 'o ocorrido', 'fique tranquil'],\n",
    "    'ocorrencia': ['chamado', 'ocorrencia', 'registrada com sucesso'],\n",
    "    'direcionamento': ['central de atedimento', 'ligar na central', 'somente na central', 'sodexo.com', 'ligue na central'],\n",
    "    'pedefacil': ['clique no', 'clique em', 'menu servicos', 'do menu', 'pede facil', 'clica no', 'clica em', 'diretamente no site', 'visualizar em', 'no menu', 'menu'],\n",
    "    'ativo': ['analista pode entrar em contato', 'o analista entrara em contato', 'para te auxiliar na proposta', 'solicitei o contato', 'deixe seu contato']\n",
    "\n",
    "          }"
   ]
  },
  {
   "cell_type": "code",
   "execution_count": 4,
   "metadata": {},
   "outputs": [],
   "source": [
    "additional_stop_words = ['porque','bom','dia','tres','três','alo','alô']"
   ]
  },
  {
   "cell_type": "code",
   "execution_count": 5,
   "metadata": {},
   "outputs": [],
   "source": [
    "interlocutor = {'CANAL': ['LEFT', 'RIGHT']}\n",
    "response_time = 'STARTTIME'\n",
    "format_data = '%d/%m/%Y %H:%M:%S|%d/%m/%Y %H:%M|%Y-%m-%d %H:%M:%S|%d-%m-%Y %H:%M|%d%m%Y %H:%M:%S|%d%b%Y:%H:%M:%S' # 03MAR2022:12:01:33"
   ]
  },
  {
   "cell_type": "code",
   "execution_count": 6,
   "metadata": {
    "colab": {
     "base_uri": "https://localhost:8080/"
    },
    "id": "7TkRPqms9ZJh",
    "outputId": "a1095e79-481c-40be-c559-dcafcb4d09f4"
   },
   "outputs": [
    {
     "name": "stdout",
     "output_type": "stream",
     "text": [
      "[07/04 15:41:17] - \u001b[1;36m[Info]: \u001b[0m Load CSV\n",
      "[07/04 15:41:17] - \u001b[1;36m[Info]: \u001b[0m read file /opt/dna/find-keywords/datalake/csv\n",
      "<class 'pandas.core.frame.DataFrame'>\n",
      "RangeIndex: 5002 entries, 0 to 5001\n",
      "Data columns (total 21 columns):\n",
      " #   Column        Non-Null Count  Dtype  \n",
      "---  ------        --------------  -----  \n",
      " 0   CPF           5002 non-null   int64  \n",
      " 1   DURATION      5002 non-null   int64  \n",
      " 2   ENDTIME       5002 non-null   object \n",
      " 3   EXTERNALID    5002 non-null   object \n",
      " 4   ID            5002 non-null   int64  \n",
      " 5   STARTTIME     5002 non-null   object \n",
      " 6   MONOCHANNEL   4 non-null      object \n",
      " 7   SEQUENCIA     4997 non-null   float64\n",
      " 8   CANAL         4997 non-null   object \n",
      " 9   TRANSCRICAO   4997 non-null   object \n",
      " 10  AGENT         5002 non-null   object \n",
      " 11  WORKGROUP     5002 non-null   object \n",
      " 12  CATEGORIES    5002 non-null   object \n",
      " 13  TOPICS        4964 non-null   object \n",
      " 14  RECHAMADAS    0 non-null      float64\n",
      " 15  URA_LOG       5002 non-null   int64  \n",
      " 16  FILA          4310 non-null   object \n",
      " 17  VQ            3280 non-null   object \n",
      " 18  CALLTYPE      5002 non-null   object \n",
      " 19  CONTACTID     5002 non-null   object \n",
      " 20  DATA_ARQUIVO  5002 non-null   int64  \n",
      "dtypes: float64(2), int64(5), object(14)\n",
      "memory usage: 820.8+ KB\n",
      "[07/04 15:41:17] - \u001b[1;32m[Debug]: \u001b[0m Schema of dataframe is None\n",
      "[07/04 15:41:17] - \u001b[1;36m[Info]: \u001b[0m Normalize Datas Values\n",
      "[07/04 15:41:17] - \u001b[1;36m[Info]: \u001b[0m convert column_text column to string type\n",
      "[07/04 15:41:17] - \u001b[1;36m[Info]: \u001b[0m put column_text in lower case\n",
      "[07/04 15:41:17] - \u001b[1;36m[Info]: \u001b[0m normalize id column\n",
      "[07/04 15:41:17] - \u001b[1;36m[Info]: \u001b[0m convert date column string in date column timestamp\n",
      "[07/04 15:41:17] - \u001b[1;32m[Debug]: \u001b[0m dataformat: 0    None\n",
      "1    None\n",
      "2    None\n",
      "3    None\n",
      "4    None\n",
      "Name: STARTTIME, dtype: object\n",
      "[07/04 15:41:17] - \u001b[1;36m[Info]: \u001b[0m Start Complete Process\n",
      "[07/04 15:41:17] - \u001b[1;36m[Info]: \u001b[0m Using StopWords\n",
      "[07/04 15:41:17] - \u001b[1;36m[Info]: \u001b[0m remove stop words from text\n",
      "[07/04 15:41:17] - \u001b[1;36m[Info]: \u001b[0m result before of process stop words \n",
      " 0    três três\n",
      "1    com      \n",
      "2    ..       \n",
      "3    eu sei   \n",
      "4    .. alô . \n",
      "Name: TRANSCRICAO, dtype: object\n",
      "[07/04 15:41:30] - \u001b[1;36m[Info]: \u001b[0m result after of process stop words \n",
      " 0        \n",
      "1        \n",
      "2    ..  \n",
      "3    sei \n",
      "4    .. .\n",
      "Name: TRANSCRICAO, dtype: object\n",
      "[07/04 15:41:30] - \u001b[1;36m[Info]: \u001b[0m Start Text Mining\n",
      "[07/04 15:41:30] - \u001b[1;36m[Info]: \u001b[0m remove special characters and pontuation of column_text\n",
      "[07/04 15:41:30] - \u001b[1;36m[Info]: \u001b[0m Start Word Search\n",
      "[07/04 15:41:30] - \u001b[1;36m[Info]: \u001b[0m collect words and find in column_text\n",
      "[07/04 15:41:30] - \u001b[1;32m[Debug]: \u001b[0m dict: {'negatividade': ['a desejar', 'abrir uma reclamacao', 'absurd', 'aguento mais', 'boceta', 'bosta', 'brigaram', 'buceta', 'burocra', 'cansad', 'caralho', 'conflito', 'constrang', 'decepcao', 'decepcionad', 'quanta demora', 'que demora', 'tentando resolver', 'descontent', 'descrenca', 'descrente', 'desrespeit', 'fdp', 'filha da puta', 'filha de uma puta', 'filho da puta', 'filho de uma puta', 'frustracao', 'frustrad', 'humilhacao', 'humilhad', 'ignorad', 'ignoram', 'incompet', 'inferno', 'informa nada', 'injuria', 'ironia', 'ironic', 'irreponsaveis', 'irresponsabilidade', 'irresponsavel', 'ma vontade', 'mal a pior', 'mal atendid', 'mal educad', 'mal respondem', 'mal tratad', 'mau atendid', 'mau educad', 'mau respondem', 'mau tratad', 'merda', 'nao podemos arcar', 'nao posso arcar', 'nao sabe', 'ninguem resolve', 'ofenderam', 'ofendid', 'orrivel', 'pelo amor de deus', 'pessimo', 'pessimu', 'porra', 'poxa', 'pqp', 'puta que pariu', 'reclamacao', 'reclamar', 'ridicul', 'ruim', 'sabe nada', 'sem educacao', 'ta dificil', 'trata mal', 'trata mau', 'tratou mal', 'tratou mau', 'triste', 'vergonh', 'vagabund', 'raiva', 'detest', 'nao quero mais', 'odeio', 'safad', 'deus me livre', 'vergonh'], 'reputacao': ['advogad', 'consumidor.gov', 'entrar com processo', 'facebook', 'instagram', 'judiciais', 'judicial', 'justica', 'meu direito', 'meus direito', 'ouvidoria', 'pequenas causas', 'processar voces', 'procon', 'reclame aqui', 'reclameaqui', 'twitter'], 'rechamada': ['ainda nao', 'alguma posicao', 'ate agora', 'ate o momento', 'atraso', 'chamado aberto', 'consigo resolver', 'contato novamente', 'continuo sem acesso', 'de novo', 'demora', 'desde ontem', 'desde semana', 'diversas vezes', 'duas vezes', 'em andamento', 'entrei em contato', 'era pra ter', 'faz um mes', 'faz uma semana', 'ja abri', 'ja enviei', 'ja liguei', 'ja mandei', 'liguei pra central', 'mesmo erro', 'muitas vezes', 'nao chegou', 'nao e a primeira vez', 'ocorrencia aberta', 'posicionamento', 'segunda vez', 'sem sucesso', 'tentativa', 'terceira vez', 'todo dia', 'varias vezes', 'chamado aberto'], 'satisfacao': ['adorei', 'adoro', 'ageis', 'agil', 'agilidade', 'amei', 'atendimento perfeito', 'bem atendid', 'carisma', 'diferenciad', 'educad', 'eficacia', 'eficas', 'eficaz', 'elogiar', 'elogio', 'excelente atendimento', 'feliz', 'gostei', 'impecavel', 'me ajudou', 'merito', 'motivacao', 'motivad', 'muito 10', 'muito bom', 'muito dez', 'nota 10', 'nota dez', 'otimo atendimento', 'parabenizar', 'parabens', 'pela ajuda', 'personalizad', 'preparad', 'prestativ', 'profissional', 'qualidade', 'rapidez', 'resolveu', 'satisfacao', 'satisfatori', 'satisfeit', 'solucionou', 'ate que enfim', 'ate que em fim'], 'concorrencia': ['ifood', 'caju', 'vee', 'flash', 'bem', 'up', 'VR', 'ticket', 'alelo', 'swile'], 'contencao': ['desculpa', 'desculpe', 'sinto muito', 'desculpe a demora', 'lamento', 'lamentamos', 'perdoa', 'perdao', 'pelo ocorrido', 'o ocorrido', 'fique tranquil'], 'ocorrencia': ['chamado', 'ocorrencia', 'registrada com sucesso'], 'direcionamento': ['central de atedimento', 'ligar na central', 'somente na central', 'sodexo.com', 'ligue na central'], 'pedefacil': ['clique no', 'clique em', 'menu servicos', 'do menu', 'pede facil', 'clica no', 'clica em', 'diretamente no site', 'visualizar em', 'no menu', 'menu'], 'ativo': ['analista pode entrar em contato', 'o analista entrara em contato', 'para te auxiliar na proposta', 'solicitei o contato', 'deixe seu contato']}\n",
      "[07/04 15:42:26] - \u001b[1;36m[Info]: \u001b[0m Send Some Statistics of DataFrame\n",
      "[07/04 15:42:26] - \u001b[1;36m[Info]: \u001b[0m check numbers words by rows\n",
      "[07/04 15:42:26] - \u001b[1;36m[Info]: \u001b[0m numbers of rows < 3 words from line 2481\n",
      "[07/04 15:42:26] - \u001b[1;36m[Info]: \u001b[0m numbers of promotors lines 2521\n",
      "[07/04 15:42:26] - \u001b[1;36m[Info]: \u001b[0m Called Pyspark DataFrame\n",
      "[07/04 15:42:26] - \u001b[1;36m[Info]: \u001b[0m rename valus of interlocutor column: CANAL\n",
      "[07/04 15:42:26] - \u001b[1;36m[Info]: \u001b[0m convert dataframe pandas to pyspark\n",
      "[07/04 15:42:26] - \u001b[1;32m[Debug]: \u001b[0m save temp file\n",
      "[07/04 15:42:26] - \u001b[1;36m[Info]: \u001b[0m save csf file\n",
      "[07/04 15:42:27] - \u001b[1;36m[Info]: \u001b[0m Finishing Process\n",
      "[07/04 15:42:27] - \u001b[1;32m[Debug]: \u001b[0m load temp file\n",
      "[07/04 15:42:27] - \u001b[1;36m[Info]: \u001b[0m load csf file temp\n",
      "[07/04 15:42:27] - \u001b[1;36m[Info]: \u001b[0m [INFO] Creating default Spark Session\n"
     ]
    },
    {
     "name": "stderr",
     "output_type": "stream",
     "text": [
      "WARNING: An illegal reflective access operation has occurred\n",
      "WARNING: Illegal reflective access by org.apache.spark.unsafe.Platform (file:/usr/local/spark-3.1.2-bin-hadoop3.2/jars/spark-unsafe_2.12-3.1.2.jar) to constructor java.nio.DirectByteBuffer(long,int)\n",
      "WARNING: Please consider reporting this to the maintainers of org.apache.spark.unsafe.Platform\n",
      "WARNING: Use --illegal-access=warn to enable warnings of further illegal reflective access operations\n",
      "WARNING: All illegal access operations will be denied in a future release\n",
      "22/07/04 18:42:31 WARN NativeCodeLoader: Unable to load native-hadoop library for your platform... using builtin-java classes where applicable\n",
      "Using Spark's default log4j profile: org/apache/spark/log4j-defaults.properties\n",
      "Setting default log level to \"WARN\".\n",
      "To adjust logging level use sc.setLogLevel(newLevel). For SparkR, use setLogLevel(newLevel).\n",
      "                                                                                \r"
     ]
    },
    {
     "name": "stdout",
     "output_type": "stream",
     "text": [
      "[07/04 15:42:42] - \u001b[1;36m[Info]: \u001b[0m Finishing Process\n",
      "[07/04 15:42:42] - \u001b[1;36m[Info]: \u001b[0m created message order\n",
      "Generating `message_order` column\n",
      "root\n",
      " |-- CPF: string (nullable = true)\n",
      " |-- DURATION: string (nullable = true)\n",
      " |-- ENDTIME: string (nullable = true)\n",
      " |-- EXTERNALID: string (nullable = true)\n",
      " |-- ID: string (nullable = true)\n",
      " |-- message_time: string (nullable = true)\n",
      " |-- MONOCHANNEL: string (nullable = true)\n",
      " |-- SEQUENCIA: string (nullable = true)\n",
      " |-- message_author: string (nullable = true)\n",
      " |-- message_content: string (nullable = true)\n",
      " |-- AGENT: string (nullable = true)\n",
      " |-- WORKGROUP: string (nullable = true)\n",
      " |-- CATEGORIES: string (nullable = true)\n",
      " |-- TOPICS: string (nullable = true)\n",
      " |-- RECHAMADAS: string (nullable = true)\n",
      " |-- URA_LOG: string (nullable = true)\n",
      " |-- FILA: string (nullable = true)\n",
      " |-- VQ: string (nullable = true)\n",
      " |-- CALLTYPE: string (nullable = true)\n",
      " |-- issue_id: string (nullable = true)\n",
      " |-- DATA_ARQUIVO: string (nullable = true)\n",
      " |-- negatividade_findint: string (nullable = true)\n",
      " |-- reputacao_findint: string (nullable = true)\n",
      " |-- rechamada_findint: string (nullable = true)\n",
      " |-- satisfacao_findint: string (nullable = true)\n",
      " |-- concorrencia_findint: string (nullable = true)\n",
      " |-- contencao_findint: string (nullable = true)\n",
      " |-- ocorrencia_findint: string (nullable = true)\n",
      " |-- direcionamento_findint: string (nullable = true)\n",
      " |-- pedefacil_findint: string (nullable = true)\n",
      " |-- ativo_findint: string (nullable = true)\n",
      " |-- numbers_words: string (nullable = true)\n",
      " |-- message_order: integer (nullable = true)\n",
      "\n",
      "[07/04 15:42:42] - \u001b[1;32m[Debug]: \u001b[0m print new columns of pyspark dataframe: None\n",
      "[07/04 15:42:42] - \u001b[1;36m[Info]: \u001b[0m remove null values of dataset\n"
     ]
    },
    {
     "name": "stderr",
     "output_type": "stream",
     "text": [
      "                                                                                \r"
     ]
    },
    {
     "name": "stdout",
     "output_type": "stream",
     "text": [
      "[07/04 15:42:45] - \u001b[1;32m[Debug]: \u001b[0m count rows after remove null values 4315\n",
      "[07/04 15:42:45] - \u001b[1;32m[Debug]: \u001b[0m created a new collect dict of interlocutor\n",
      "[07/04 15:42:45] - \u001b[1;32m[Debug]: \u001b[0m new collect dict {'message_author': ['LEFT', 'RIGHT']}\n",
      "[07/04 15:42:45] - \u001b[1;32m[Debug]: \u001b[0m created a original column\n",
      "[07/04 15:42:46] - \u001b[1;36m[Info]: \u001b[0m agroup all menssages for ticket\n",
      "Grouping messages into one unique record\n",
      "[07/04 15:42:46] - \u001b[1;32m[Debug]: \u001b[0m Message Author Column: message_author\n",
      "[07/04 15:42:46] - \u001b[1;32m[Debug]: \u001b[0m Message content Column: message_content\n",
      "[07/04 15:42:46] - \u001b[1;32m[Debug]: \u001b[0m [], []\n",
      "[07/04 15:42:46] - \u001b[1;32m[Debug]: \u001b[0m separadores cliente e operador, {'message_author': ['LEFT', 'RIGHT']}\n",
      "[07/04 15:42:46] - \u001b[1;32m[Debug]: \u001b[0m Joining messages to all_messages\n",
      "[07/04 15:42:46] - \u001b[1;32m[Debug]: \u001b[0m Joining messages to all_messages_message_author_LEFT\n",
      "[07/04 15:42:46] - \u001b[1;32m[Debug]: \u001b[0m Joining messages to all_messages_message_author_RIGHT\n",
      "[07/04 15:42:46] - \u001b[1;32m[Debug]: \u001b[0m MAX columns: {'rechamada_findint', 'direcionamento_findint', 'pedefacil_findint', 'reputacao_findint', 'contencao_findint', 'concorrencia_findint', 'ativo_findint', 'satisfacao_findint', 'ocorrencia_findint', 'negatividade_findint'}\n",
      "[07/04 15:42:46] - \u001b[1;32m[Debug]: \u001b[0m AVG columns: set()\n",
      "[07/04 15:42:46] - \u001b[1;32m[Debug]: \u001b[0m FIRST columns: {'RECHAMADAS', 'MONOCHANNEL', 'CALLTYPE', 'has_attendant', 'CPF', 'TOPICS', 'AGENT', 'WORKGROUP', 'CATEGORIES', 'message_author', 'SEQUENCIA', 'DURATION', 'ENDTIME', 'ID', 'numbers_words', 'URA_LOG', 'EXTERNALID', 'VQ', 'message_order', 'message_time', 'FILA', 'DATA_ARQUIVO'}\n"
     ]
    },
    {
     "name": "stderr",
     "output_type": "stream",
     "text": [
      "                                                                                \r"
     ]
    },
    {
     "name": "stdout",
     "output_type": "stream",
     "text": [
      "[07/04 15:42:51] - \u001b[1;36m[Info]: \u001b[0m numbers of rows agrouped 16\n",
      "[07/04 15:42:51] - \u001b[1;36m[Info]: \u001b[0m process bigrams and trigrams of column_text\n"
     ]
    },
    {
     "name": "stderr",
     "output_type": "stream",
     "text": [
      "22/07/04 18:43:38 WARN package: Truncated the string representation of a plan since it was too large. This behavior can be adjusted by setting 'spark.sql.debug.maxToStringFields'.\n",
      "                                                                                \r"
     ]
    },
    {
     "name": "stdout",
     "output_type": "stream",
     "text": [
      "root\n",
      " |-- issue_id: string (nullable = true)\n",
      " |-- RECHAMADAS: string (nullable = true)\n",
      " |-- MONOCHANNEL: string (nullable = true)\n",
      " |-- CALLTYPE: string (nullable = true)\n",
      " |-- has_attendant: integer (nullable = true)\n",
      " |-- CPF: string (nullable = true)\n",
      " |-- TOPICS: string (nullable = true)\n",
      " |-- AGENT: string (nullable = true)\n",
      " |-- WORKGROUP: string (nullable = true)\n",
      " |-- CATEGORIES: string (nullable = true)\n",
      " |-- message_author: string (nullable = true)\n",
      " |-- SEQUENCIA: string (nullable = true)\n",
      " |-- DURATION: string (nullable = true)\n",
      " |-- ENDTIME: string (nullable = true)\n",
      " |-- ID: string (nullable = true)\n",
      " |-- numbers_words: string (nullable = true)\n",
      " |-- URA_LOG: string (nullable = true)\n",
      " |-- EXTERNALID: string (nullable = true)\n",
      " |-- VQ: string (nullable = true)\n",
      " |-- message_order: integer (nullable = true)\n",
      " |-- message_time: string (nullable = true)\n",
      " |-- FILA: string (nullable = true)\n",
      " |-- DATA_ARQUIVO: string (nullable = true)\n",
      " |-- rechamada_findint: string (nullable = true)\n",
      " |-- direcionamento_findint: string (nullable = true)\n",
      " |-- pedefacil_findint: string (nullable = true)\n",
      " |-- reputacao_findint: string (nullable = true)\n",
      " |-- contencao_findint: string (nullable = true)\n",
      " |-- concorrencia_findint: string (nullable = true)\n",
      " |-- ativo_findint: string (nullable = true)\n",
      " |-- satisfacao_findint: string (nullable = true)\n",
      " |-- ocorrencia_findint: string (nullable = true)\n",
      " |-- negatividade_findint: string (nullable = true)\n",
      " |-- all_messages: string (nullable = true)\n",
      " |-- all_messages_message_author_LEFT: string (nullable = true)\n",
      " |-- all_messages_message_author_RIGHT: string (nullable = true)\n",
      " |-- original_messages: string (nullable = true)\n",
      " |-- countent_word: string (nullable = true)\n",
      " |-- countent_bigram: string (nullable = true)\n",
      " |-- countent_trigram: string (nullable = true)\n",
      "\n",
      "[07/04 15:44:09] - \u001b[1;32m[Debug]: \u001b[0m columns process in most relevant ngrams None\n"
     ]
    },
    {
     "name": "stderr",
     "output_type": "stream",
     "text": [
      "[Stage 122:==================================>                  (130 + 8) / 200]\r"
     ]
    },
    {
     "name": "stdout",
     "output_type": "stream",
     "text": [
      "[07/04 15:44:11] - \u001b[1;36m[Info]: \u001b[0m Finishing Process and Save csv File\n",
      "[07/04 15:44:11] - \u001b[1;36m[Info]: \u001b[0m save csf file\n",
      "[07/04 15:44:11] - \u001b[1;36m[Info]: \u001b[0m Finishing Process\n",
      "[07/04 15:44:11] - \u001b[1;36m[Info]: \u001b[0m deleting file: /opt/dna/find-keywords/datalake//LIBERACAO_MARGEM_TESTE_temp.csv\n",
      "[07/04 15:44:11] - \u001b[1;32m[Debug]: \u001b[0m file temp deleted\n"
     ]
    },
    {
     "name": "stderr",
     "output_type": "stream",
     "text": [
      "                                                                                \r"
     ]
    }
   ],
   "source": [
    "df = NlExtractorProcess.call_process(filename, prefix, prefix_sep,\\\n",
    "                                     column_text, whats_process,\\\n",
    "                                     text_finds, id_database, type_find,\\\n",
    "                                     additional_stop_words, activate_stopwords,\\\n",
    "                                    interlocutor, response_time, format_data)"
   ]
  },
  {
   "cell_type": "code",
   "execution_count": null,
   "metadata": {
    "scrolled": true,
    "tags": []
   },
   "outputs": [],
   "source": [
    "df.head()"
   ]
  },
  {
   "cell_type": "code",
   "execution_count": null,
   "metadata": {},
   "outputs": [],
   "source": [
    "df.count()"
   ]
  },
  {
   "cell_type": "code",
   "execution_count": null,
   "metadata": {
    "id": "kqGE2FYygAf7"
   },
   "outputs": [],
   "source": [
    "filename = 'LIBERACAO_MARGEM_TESTE'\n",
    "column_filter = '' # deixar esse campo vazio caso queira ver tudo\n",
    "column_text = 'all_messages'\n",
    "whats_process = 'trigram' # trigram or bigram"
   ]
  },
  {
   "cell_type": "code",
   "execution_count": null,
   "metadata": {},
   "outputs": [],
   "source": [
    "NlVisualization.wordCloud_Topics(filename,column_filter,column_text,whats_process)"
   ]
  },
  {
   "cell_type": "code",
   "execution_count": null,
   "metadata": {},
   "outputs": [],
   "source": [
    "NlVisualization.plot_10_most_common_words(filename,column_filter,column_text)"
   ]
  },
  {
   "cell_type": "code",
   "execution_count": null,
   "metadata": {},
   "outputs": [],
   "source": []
  }
 ],
 "metadata": {
  "colab": {
   "collapsed_sections": [],
   "name": "findkeywords.ipynb",
   "provenance": []
  },
  "kernelspec": {
   "display_name": "Python 3 (ipykernel)",
   "language": "python",
   "name": "python3"
  },
  "language_info": {
   "codemirror_mode": {
    "name": "ipython",
    "version": 3
   },
   "file_extension": ".py",
   "mimetype": "text/x-python",
   "name": "python",
   "nbconvert_exporter": "python",
   "pygments_lexer": "ipython3",
   "version": "3.9.7"
  }
 },
 "nbformat": 4,
 "nbformat_minor": 4
}
