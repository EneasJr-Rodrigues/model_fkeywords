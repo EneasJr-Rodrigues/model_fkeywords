{
 "cells": [
  {
   "cell_type": "markdown",
   "metadata": {
    "id": "0a9eVyEf8m3x"
   },
   "source": [
    "## Install Lib API"
   ]
  },
  {
   "cell_type": "code",
   "execution_count": null,
   "metadata": {
    "colab": {
     "base_uri": "https://localhost:8080/",
     "height": 1000
    },
    "id": "SeaRwOQILfbQ",
    "outputId": "445546b4-fdaa-4339-ac47-998708aaa1bf"
   },
   "outputs": [],
   "source": [
    "! pip install https://dnaink.jfrog.io/artifactory/dna-ink-pypi/model-fkeywords/0.1.0/model_fkeywords-0.1.0-py3-none-any.whl"
   ]
  },
  {
   "cell_type": "code",
   "execution_count": null,
   "metadata": {
    "colab": {
     "base_uri": "https://localhost:8080/"
    },
    "id": "E2fySI3fItig",
    "outputId": "6473fa3b-ea7c-447d-bb99-97343e976c36"
   },
   "outputs": [],
   "source": [
    "! python -m spacy download pt_core_news_sm"
   ]
  },
  {
   "cell_type": "markdown",
   "metadata": {
    "id": "rT8kEWlx8rCY"
   },
   "source": [
    "## Import libs"
   ]
  },
  {
   "cell_type": "code",
   "execution_count": 1,
   "metadata": {
    "colab": {
     "base_uri": "https://localhost:8080/"
    },
    "id": "3eC66XX18HW0",
    "outputId": "b6bd1a4f-8d53-4346-dede-d60df790fe54"
   },
   "outputs": [
    {
     "name": "stderr",
     "output_type": "stream",
     "text": [
      "[nltk_data] Downloading package punkt to /home/jovyan/nltk_data...\n",
      "[nltk_data]   Package punkt is already up-to-date!\n",
      "/tmp/ipykernel_33119/1571986624.py:5: FutureWarning: Passing a negative integer is deprecated in version 1.0 and will not be supported in future version. Instead, use None to not limit the column width.\n",
      "  pd.set_option('display.max_colwidth', -1)\n"
     ]
    }
   ],
   "source": [
    "import pandas as pd\n",
    "from api_model.nlsuper import NlExtractorProcess\n",
    "from api_model.nlvisualization import NlVisualization\n",
    "\n",
    "pd.set_option('display.max_colwidth', -1)\n",
    "pd.set_option('display.max_rows', None)"
   ]
  },
  {
   "cell_type": "markdown",
   "metadata": {},
   "source": [
    "## Variables"
   ]
  },
  {
   "cell_type": "markdown",
   "metadata": {},
   "source": [
    "##### Description of process\n",
    "        whats_process = 'complete'\n",
    "            return: process all pipeline\n",
    "        whats_process = 'partial'\n",
    "            return: findkeywords and process bigrams\n",
    "        whats_process = 'only_keywords'\n",
    "            return: findkeywords   "
   ]
  },
  {
   "cell_type": "code",
   "execution_count": 2,
   "metadata": {},
   "outputs": [],
   "source": [
    "filename = 'LIBERACAO_MARGEM_TESTE'\n",
    "prefix = 'csv'\n",
    "prefix_sep = '|'\n",
    "column_text = 'TRANSCRICAO'\n",
    "whats_process = 'complete'\n",
    "#whats_process = 'partial'\n",
    "#whats_process = 'only_keywords'\n",
    "id_database = 'ID'\n",
    "type_find = 'fixo' # aproximado\n",
    "activate_stopwords = 'sim' # não"
   ]
  },
  {
   "cell_type": "code",
   "execution_count": 3,
   "metadata": {},
   "outputs": [],
   "source": [
    "text_finds = {\n",
    "    'negatividade': ['a desejar', 'abrir uma reclamacao', 'absurd', 'aguento mais', 'boceta', 'bosta', 'brigaram', 'buceta', 'burocra', 'cansad', 'caralho', 'conflito', 'constrang', 'decepcao', 'decepcionad', 'quanta demora', 'que demora', 'tentando resolver', 'descontent', 'descrenca', 'descrente', 'desrespeit', 'fdp', 'filha da puta', 'filha de uma puta', 'filho da puta', 'filho de uma puta', 'frustracao', 'frustrad', 'humilhacao', 'humilhad', 'ignorad', 'ignoram', 'incompet', 'inferno', 'informa nada', 'injuria', 'ironia', 'ironic', 'irreponsaveis', 'irresponsabilidade', 'irresponsavel', 'ma vontade', 'mal a pior', 'mal atendid', 'mal educad', 'mal respondem', 'mal tratad', 'mau atendid', 'mau educad', 'mau respondem', 'mau tratad', 'merda', 'nao podemos arcar', 'nao posso arcar', 'nao sabe', 'ninguem resolve', 'ofenderam', 'ofendid', 'orrivel', 'pelo amor de deus', 'pessimo', 'pessimu', 'porra', 'poxa', 'pqp', 'puta que pariu', 'reclamacao', 'reclamar', 'ridicul', 'ruim', 'sabe nada', 'sem educacao', 'ta dificil', 'trata mal', 'trata mau', 'tratou mal', 'tratou mau', 'triste', 'vergonh', 'vagabund', 'raiva', 'detest', 'nao quero mais', 'odeio', 'safad', 'deus me livre', 'vergonh'],\n",
    "    'reputacao': ['advogad', 'consumidor.gov', 'entrar com processo', 'facebook', 'instagram', 'judiciais', 'judicial', 'justica', 'meu direito', 'meus direito', 'ouvidoria', 'pequenas causas', 'processar voces', 'procon', 'reclame aqui', 'reclameaqui', 'twitter'],\n",
    "    'rechamada': ['ainda nao', 'alguma posicao', 'ate agora', 'ate o momento', 'atraso', 'chamado aberto', 'consigo resolver', 'contato novamente', 'continuo sem acesso', 'de novo', 'demora', 'desde ontem', 'desde semana', 'diversas vezes', 'duas vezes', 'em andamento', 'entrei em contato', 'era pra ter', 'faz um mes', 'faz uma semana', 'ja abri', 'ja enviei', 'ja liguei', 'ja mandei', 'liguei pra central', 'mesmo erro', 'muitas vezes', 'nao chegou', 'nao e a primeira vez', 'ocorrencia aberta', 'posicionamento', 'segunda vez', 'sem sucesso', 'tentativa', 'terceira vez', 'todo dia', 'varias vezes', 'chamado aberto'],\n",
    "    'satisfacao': ['adorei', 'adoro', 'ageis', 'agil', 'agilidade', 'amei', 'atendimento perfeito', 'bem atendid', 'carisma', 'diferenciad', 'educad', 'eficacia', 'eficas', 'eficaz', 'elogiar', 'elogio', 'excelente atendimento', 'feliz', 'gostei', 'impecavel', 'me ajudou', 'merito', 'motivacao', 'motivad', 'muito 10', 'muito bom', 'muito dez', 'nota 10', 'nota dez', 'otimo atendimento', 'parabenizar', 'parabens', 'pela ajuda', 'personalizad', 'preparad', 'prestativ', 'profissional', 'qualidade', 'rapidez', 'resolveu', 'satisfacao', 'satisfatori', 'satisfeit', 'solucionou', 'ate que enfim', 'ate que em fim'],\n",
    "    'concorrencia': ['ifood', 'caju', 'vee', 'flash', 'bem', 'up', 'VR', 'ticket', 'alelo', 'swile'],\n",
    "    'contencao': ['desculpa', 'desculpe', 'sinto muito', 'desculpe a demora', 'lamento', 'lamentamos', 'perdoa', 'perdao', 'pelo ocorrido', 'o ocorrido', 'fique tranquil'],\n",
    "    'ocorrencia': ['chamado', 'ocorrencia', 'registrada com sucesso'],\n",
    "    'direcionamento': ['central de atedimento', 'ligar na central', 'somente na central', 'sodexo.com', 'ligue na central'],\n",
    "    'pedefacil': ['clique no', 'clique em', 'menu servicos', 'do menu', 'pede facil', 'clica no', 'clica em', 'diretamente no site', 'visualizar em', 'no menu', 'menu'],\n",
    "    'ativo': ['analista pode entrar em contato', 'o analista entrara em contato', 'para te auxiliar na proposta', 'solicitei o contato', 'deixe seu contato']\n",
    "\n",
    "          }"
   ]
  },
  {
   "cell_type": "code",
   "execution_count": 4,
   "metadata": {},
   "outputs": [],
   "source": [
    "additional_stop_words = ['porque','bom','dia','tres','três','alo','alô']"
   ]
  },
  {
   "cell_type": "code",
   "execution_count": 5,
   "metadata": {
    "colab": {
     "base_uri": "https://localhost:8080/"
    },
    "id": "7TkRPqms9ZJh",
    "outputId": "a1095e79-481c-40be-c559-dcafcb4d09f4"
   },
   "outputs": [
    {
     "name": "stdout",
     "output_type": "stream",
     "text": [
      "read file /opt/dna/find-keywords/datalake/csv\n",
      "<class 'pandas.core.frame.DataFrame'>\n",
      "RangeIndex: 5002 entries, 0 to 5001\n",
      "Data columns (total 21 columns):\n",
      " #   Column        Non-Null Count  Dtype  \n",
      "---  ------        --------------  -----  \n",
      " 0   CPF           5002 non-null   int64  \n",
      " 1   DURATION      5002 non-null   int64  \n",
      " 2   ENDTIME       5002 non-null   object \n",
      " 3   EXTERNALID    5002 non-null   object \n",
      " 4   ID            5002 non-null   int64  \n",
      " 5   STARTTIME     5002 non-null   object \n",
      " 6   MONOCHANNEL   4 non-null      object \n",
      " 7   SEQUENCIA     4997 non-null   float64\n",
      " 8   CANAL         4997 non-null   object \n",
      " 9   TRANSCRICAO   4997 non-null   object \n",
      " 10  AGENT         5002 non-null   object \n",
      " 11  WORKGROUP     5002 non-null   object \n",
      " 12  CATEGORIES    5002 non-null   object \n",
      " 13  TOPICS        4964 non-null   object \n",
      " 14  RECHAMADAS    0 non-null      float64\n",
      " 15  URA_LOG       5002 non-null   int64  \n",
      " 16  FILA          4310 non-null   object \n",
      " 17  VQ            3280 non-null   object \n",
      " 18  CALLTYPE      5002 non-null   object \n",
      " 19  CONTACTID     5002 non-null   object \n",
      " 20  DATA_ARQUIVO  5002 non-null   int64  \n",
      "dtypes: float64(2), int64(5), object(14)\n",
      "memory usage: 820.8+ KB\n",
      "eschema of dataframe is None\n",
      "convert column_text column to string type\n",
      "put column_text in lower case\n",
      "Start Complete Process\n",
      "convert text in tokens\n",
      "0    [três, três]                                                                       \n",
      "1    [com]                                                                              \n",
      "2    [..]                                                                               \n",
      "3    [eu, sei]                                                                          \n",
      "4    [.., alô, .]                                                                       \n",
      "5    [bom, .., isso, alo, alô]                                                          \n",
      "6    [atendimento, bom, dia, bom, dia, só, um, momento, só, um, momento, por, gentileza]\n",
      "Name: TRANSCRICAO, dtype: object\n",
      "remove stop words from text\n",
      "convert tokens in string\n",
      "remove special characters and pontuation of column_text\n",
      "collect words and find in column_text\n",
      "dict: {'negatividade': ['a desejar', 'abrir uma reclamacao', 'absurd', 'aguento mais', 'boceta', 'bosta', 'brigaram', 'buceta', 'burocra', 'cansad', 'caralho', 'conflito', 'constrang', 'decepcao', 'decepcionad', 'quanta demora', 'que demora', 'tentando resolver', 'descontent', 'descrenca', 'descrente', 'desrespeit', 'fdp', 'filha da puta', 'filha de uma puta', 'filho da puta', 'filho de uma puta', 'frustracao', 'frustrad', 'humilhacao', 'humilhad', 'ignorad', 'ignoram', 'incompet', 'inferno', 'informa nada', 'injuria', 'ironia', 'ironic', 'irreponsaveis', 'irresponsabilidade', 'irresponsavel', 'ma vontade', 'mal a pior', 'mal atendid', 'mal educad', 'mal respondem', 'mal tratad', 'mau atendid', 'mau educad', 'mau respondem', 'mau tratad', 'merda', 'nao podemos arcar', 'nao posso arcar', 'nao sabe', 'ninguem resolve', 'ofenderam', 'ofendid', 'orrivel', 'pelo amor de deus', 'pessimo', 'pessimu', 'porra', 'poxa', 'pqp', 'puta que pariu', 'reclamacao', 'reclamar', 'ridicul', 'ruim', 'sabe nada', 'sem educacao', 'ta dificil', 'trata mal', 'trata mau', 'tratou mal', 'tratou mau', 'triste', 'vergonh', 'vagabund', 'raiva', 'detest', 'nao quero mais', 'odeio', 'safad', 'deus me livre', 'vergonh'], 'reputacao': ['advogad', 'consumidor.gov', 'entrar com processo', 'facebook', 'instagram', 'judiciais', 'judicial', 'justica', 'meu direito', 'meus direito', 'ouvidoria', 'pequenas causas', 'processar voces', 'procon', 'reclame aqui', 'reclameaqui', 'twitter'], 'rechamada': ['ainda nao', 'alguma posicao', 'ate agora', 'ate o momento', 'atraso', 'chamado aberto', 'consigo resolver', 'contato novamente', 'continuo sem acesso', 'de novo', 'demora', 'desde ontem', 'desde semana', 'diversas vezes', 'duas vezes', 'em andamento', 'entrei em contato', 'era pra ter', 'faz um mes', 'faz uma semana', 'ja abri', 'ja enviei', 'ja liguei', 'ja mandei', 'liguei pra central', 'mesmo erro', 'muitas vezes', 'nao chegou', 'nao e a primeira vez', 'ocorrencia aberta', 'posicionamento', 'segunda vez', 'sem sucesso', 'tentativa', 'terceira vez', 'todo dia', 'varias vezes', 'chamado aberto'], 'satisfacao': ['adorei', 'adoro', 'ageis', 'agil', 'agilidade', 'amei', 'atendimento perfeito', 'bem atendid', 'carisma', 'diferenciad', 'educad', 'eficacia', 'eficas', 'eficaz', 'elogiar', 'elogio', 'excelente atendimento', 'feliz', 'gostei', 'impecavel', 'me ajudou', 'merito', 'motivacao', 'motivad', 'muito 10', 'muito bom', 'muito dez', 'nota 10', 'nota dez', 'otimo atendimento', 'parabenizar', 'parabens', 'pela ajuda', 'personalizad', 'preparad', 'prestativ', 'profissional', 'qualidade', 'rapidez', 'resolveu', 'satisfacao', 'satisfatori', 'satisfeit', 'solucionou', 'ate que enfim', 'ate que em fim'], 'concorrencia': ['ifood', 'caju', 'vee', 'flash', 'bem', 'up', 'VR', 'ticket', 'alelo', 'swile'], 'contencao': ['desculpa', 'desculpe', 'sinto muito', 'desculpe a demora', 'lamento', 'lamentamos', 'perdoa', 'perdao', 'pelo ocorrido', 'o ocorrido', 'fique tranquil'], 'ocorrencia': ['chamado', 'ocorrencia', 'registrada com sucesso'], 'direcionamento': ['central de atedimento', 'ligar na central', 'somente na central', 'sodexo.com', 'ligue na central'], 'pedefacil': ['clique no', 'clique em', 'menu servicos', 'do menu', 'pede facil', 'clica no', 'clica em', 'diretamente no site', 'visualizar em', 'no menu', 'menu'], 'ativo': ['analista pode entrar em contato', 'o analista entrara em contato', 'para te auxiliar na proposta', 'solicitei o contato', 'deixe seu contato']}\n",
      "check numbers words by rows\n",
      "numbers of rows < 3 words from line 2481\n",
      "numbers of promotors lines 2521\n",
      "convert dataframe pandas to pyspark\n",
      "[INFO] Creating default Spark Session\n"
     ]
    },
    {
     "name": "stderr",
     "output_type": "stream",
     "text": [
      "WARNING: An illegal reflective access operation has occurred\n",
      "WARNING: Illegal reflective access by org.apache.spark.unsafe.Platform (file:/usr/local/spark-3.1.2-bin-hadoop3.2/jars/spark-unsafe_2.12-3.1.2.jar) to constructor java.nio.DirectByteBuffer(long,int)\n",
      "WARNING: Please consider reporting this to the maintainers of org.apache.spark.unsafe.Platform\n",
      "WARNING: Use --illegal-access=warn to enable warnings of further illegal reflective access operations\n",
      "WARNING: All illegal access operations will be denied in a future release\n",
      "22/06/12 19:47:58 WARN NativeCodeLoader: Unable to load native-hadoop library for your platform... using builtin-java classes where applicable\n",
      "Using Spark's default log4j profile: org/apache/spark/log4j-defaults.properties\n",
      "Setting default log level to \"WARN\".\n",
      "To adjust logging level use sc.setLogLevel(newLevel). For SparkR, use setLogLevel(newLevel).\n"
     ]
    },
    {
     "name": "stdout",
     "output_type": "stream",
     "text": [
      "root\n",
      " |-- ID: string (nullable = true)\n",
      " |-- TRANSCRICAO: string (nullable = true)\n",
      "\n",
      "None\n",
      "remove null values of dataset\n"
     ]
    },
    {
     "name": "stderr",
     "output_type": "stream",
     "text": [
      "                                                                                \r"
     ]
    },
    {
     "name": "stdout",
     "output_type": "stream",
     "text": [
      "count rows after remove null values 4315\n",
      "+-------+----------------------------------------------------------------------------------------------------------------------------------------------------------------------+\n",
      "|ID     |TRANSCRICAO                                                                                                                                                           |\n",
      "+-------+----------------------------------------------------------------------------------------------------------------------------------------------------------------------+\n",
      "|6837840|sei                                                                                                                                                                   |\n",
      "|6838011|atendimento momento momento gentileza                                                                                                                                 |\n",
      "|6838011|atendimento nome posso ajudar                                                                                                                                         |\n",
      "|6838011|nome nome jose desde liguei solicitando cancelar cartao cancelar cartao consignado exclusao marta menina disse havia solicitado estado cancelamento exclusao liberacao|\n",
      "|6838011|hum                                                                                                                                                                   |\n",
      "+-------+----------------------------------------------------------------------------------------------------------------------------------------------------------------------+\n",
      "only showing top 5 rows\n",
      "\n",
      "None\n",
      "process bigrams and trigrams of column_text\n"
     ]
    },
    {
     "name": "stderr",
     "output_type": "stream",
     "text": [
      "                                                                                \r"
     ]
    },
    {
     "name": "stdout",
     "output_type": "stream",
     "text": [
      "+-------+----------------------------------------------------------------------------------------------------------------------------------------------------------------------+-------------+-----------------+-------------------------+\n",
      "|ID     |TRANSCRICAO                                                                                                                                                           |countent_word|countent_bigram  |countent_trigram         |\n",
      "+-------+----------------------------------------------------------------------------------------------------------------------------------------------------------------------+-------------+-----------------+-------------------------+\n",
      "|6837840|sei                                                                                                                                                                   |sei          |null             |null                     |\n",
      "|6838011|atendimento momento momento gentileza                                                                                                                                 |momento      |momento gentileza|momento momento gentileza|\n",
      "|6838011|atendimento nome posso ajudar                                                                                                                                         |atendimento  |nome posso       |nome posso ajudar        |\n",
      "|6838011|nome nome jose desde liguei solicitando cancelar cartao cancelar cartao consignado exclusao marta menina disse havia solicitado estado cancelamento exclusao liberacao|exclusao     |cancelar cartao  |nome nome jose           |\n",
      "|6838011|hum                                                                                                                                                                   |hum          |null             |null                     |\n",
      "+-------+----------------------------------------------------------------------------------------------------------------------------------------------------------------------+-------------+-----------------+-------------------------+\n",
      "only showing top 5 rows\n",
      "\n",
      "dataframe with wordCloud ..None\n",
      "convert to pandas again\n",
      "dataframe old ['CPF', 'DURATION', 'ENDTIME', 'EXTERNALID', 'ID', 'STARTTIME', 'MONOCHANNEL', 'SEQUENCIA', 'CANAL', 'TRANSCRICAO', 'AGENT', 'WORKGROUP', 'CATEGORIES', 'TOPICS', 'RECHAMADAS', 'URA_LOG', 'FILA', 'VQ', 'CALLTYPE', 'CONTACTID', 'DATA_ARQUIVO', 'negatividade', 'reputacao', 'rechamada', 'satisfacao', 'concorrencia', 'contencao', 'ocorrencia', 'direcionamento', 'pedefacil', 'ativo', 'numbers_words']\n",
      "dataframe new ['ID', 'TRANSCRICAO', 'countent_word', 'countent_bigram', 'countent_trigram']\n",
      "joined dataframes ['CPF', 'DURATION', 'ENDTIME', 'EXTERNALID', 'ID', 'STARTTIME', 'MONOCHANNEL', 'SEQUENCIA', 'CANAL', 'TRANSCRICAO', 'AGENT', 'WORKGROUP', 'CATEGORIES', 'TOPICS', 'RECHAMADAS', 'URA_LOG', 'FILA', 'VQ', 'CALLTYPE', 'CONTACTID', 'DATA_ARQUIVO', 'negatividade', 'reputacao', 'rechamada', 'satisfacao', 'concorrencia', 'contencao', 'ocorrencia', 'direcionamento', 'pedefacil', 'ativo', 'numbers_words', 'ID', 'TRANSCRICAO', 'countent_word', 'countent_bigram', 'countent_trigram']  \n",
      " and numbers of rows is 5002\n",
      "save csf file\n",
      "Finishing Process\n"
     ]
    }
   ],
   "source": [
    "df = NlExtractorProcess.call_process(filename, prefix, prefix_sep,\\\n",
    "                                     column_text, whats_process,\\\n",
    "                                     text_finds, id_database, type_find,\\\n",
    "                                     additional_stop_words, activate_stopwords)"
   ]
  },
  {
   "cell_type": "code",
   "execution_count": 6,
   "metadata": {},
   "outputs": [
    {
     "data": {
      "text/html": [
       "<div>\n",
       "<style scoped>\n",
       "    .dataframe tbody tr th:only-of-type {\n",
       "        vertical-align: middle;\n",
       "    }\n",
       "\n",
       "    .dataframe tbody tr th {\n",
       "        vertical-align: top;\n",
       "    }\n",
       "\n",
       "    .dataframe thead th {\n",
       "        text-align: right;\n",
       "    }\n",
       "</style>\n",
       "<table border=\"1\" class=\"dataframe\">\n",
       "  <thead>\n",
       "    <tr style=\"text-align: right;\">\n",
       "      <th></th>\n",
       "      <th>CPF</th>\n",
       "      <th>DURATION</th>\n",
       "      <th>ENDTIME</th>\n",
       "      <th>EXTERNALID</th>\n",
       "      <th>ID</th>\n",
       "      <th>STARTTIME</th>\n",
       "      <th>MONOCHANNEL</th>\n",
       "      <th>SEQUENCIA</th>\n",
       "      <th>CANAL</th>\n",
       "      <th>TRANSCRICAO</th>\n",
       "      <th>...</th>\n",
       "      <th>ocorrencia</th>\n",
       "      <th>direcionamento</th>\n",
       "      <th>pedefacil</th>\n",
       "      <th>ativo</th>\n",
       "      <th>numbers_words</th>\n",
       "      <th>ID</th>\n",
       "      <th>TRANSCRICAO</th>\n",
       "      <th>countent_word</th>\n",
       "      <th>countent_bigram</th>\n",
       "      <th>countent_trigram</th>\n",
       "    </tr>\n",
       "  </thead>\n",
       "  <tbody>\n",
       "    <tr>\n",
       "      <th>0</th>\n",
       "      <td>40361829</td>\n",
       "      <td>39</td>\n",
       "      <td>03MAR2022:11:47:38</td>\n",
       "      <td>DE59V9JKTH2GP6JKP00AEM2EPK029HK4</td>\n",
       "      <td>6837807</td>\n",
       "      <td>03MAR2022:11:46:59</td>\n",
       "      <td>NaN</td>\n",
       "      <td>0.0</td>\n",
       "      <td>LEFT</td>\n",
       "      <td></td>\n",
       "      <td>...</td>\n",
       "      <td></td>\n",
       "      <td></td>\n",
       "      <td></td>\n",
       "      <td></td>\n",
       "      <td>1</td>\n",
       "      <td>6837840</td>\n",
       "      <td>sei</td>\n",
       "      <td>sei</td>\n",
       "      <td>None</td>\n",
       "      <td>None</td>\n",
       "    </tr>\n",
       "    <tr>\n",
       "      <th>1</th>\n",
       "      <td>40361829</td>\n",
       "      <td>9</td>\n",
       "      <td>03MAR2022:11:50:10</td>\n",
       "      <td>DE59V9JKTH2GP6JKP00AEM2EPK029HLK</td>\n",
       "      <td>6837840</td>\n",
       "      <td>03MAR2022:11:50:01</td>\n",
       "      <td>NaN</td>\n",
       "      <td>0.0</td>\n",
       "      <td>RIGHT</td>\n",
       "      <td></td>\n",
       "      <td>...</td>\n",
       "      <td></td>\n",
       "      <td></td>\n",
       "      <td></td>\n",
       "      <td></td>\n",
       "      <td>1</td>\n",
       "      <td>6838011</td>\n",
       "      <td>atendimento momento momento gentileza</td>\n",
       "      <td>momento</td>\n",
       "      <td>momento gentileza</td>\n",
       "      <td>momento momento gentileza</td>\n",
       "    </tr>\n",
       "    <tr>\n",
       "      <th>2</th>\n",
       "      <td>40361829</td>\n",
       "      <td>583</td>\n",
       "      <td>03MAR2022:12:01:33</td>\n",
       "      <td>DE59V9JKTH2GP6JKP00AEM2EPK029HNV</td>\n",
       "      <td>6838011</td>\n",
       "      <td>03MAR2022:11:51:50</td>\n",
       "      <td>NaN</td>\n",
       "      <td>0.0</td>\n",
       "      <td>LEFT</td>\n",
       "      <td></td>\n",
       "      <td>...</td>\n",
       "      <td></td>\n",
       "      <td></td>\n",
       "      <td></td>\n",
       "      <td></td>\n",
       "      <td>1</td>\n",
       "      <td>6838011</td>\n",
       "      <td>atendimento nome posso ajudar</td>\n",
       "      <td>atendimento</td>\n",
       "      <td>nome posso</td>\n",
       "      <td>nome posso ajudar</td>\n",
       "    </tr>\n",
       "    <tr>\n",
       "      <th>3</th>\n",
       "      <td>40361829</td>\n",
       "      <td>9</td>\n",
       "      <td>03MAR2022:11:50:10</td>\n",
       "      <td>DE59V9JKTH2GP6JKP00AEM2EPK029HLK</td>\n",
       "      <td>6837840</td>\n",
       "      <td>03MAR2022:11:50:01</td>\n",
       "      <td>NaN</td>\n",
       "      <td>1.0</td>\n",
       "      <td>LEFT</td>\n",
       "      <td>sei</td>\n",
       "      <td>...</td>\n",
       "      <td></td>\n",
       "      <td></td>\n",
       "      <td></td>\n",
       "      <td></td>\n",
       "      <td>1</td>\n",
       "      <td>6838011</td>\n",
       "      <td>nome nome jose desde liguei solicitando cancelar cartao cancelar cartao consignado exclusao marta menina disse havia solicitado estado cancelamento exclusao liberacao</td>\n",
       "      <td>exclusao</td>\n",
       "      <td>cancelar cartao</td>\n",
       "      <td>nome nome jose</td>\n",
       "    </tr>\n",
       "    <tr>\n",
       "      <th>4</th>\n",
       "      <td>40361829</td>\n",
       "      <td>583</td>\n",
       "      <td>03MAR2022:12:01:33</td>\n",
       "      <td>DE59V9JKTH2GP6JKP00AEM2EPK029HNV</td>\n",
       "      <td>6838011</td>\n",
       "      <td>03MAR2022:11:51:50</td>\n",
       "      <td>NaN</td>\n",
       "      <td>1.0</td>\n",
       "      <td>RIGHT</td>\n",
       "      <td></td>\n",
       "      <td>...</td>\n",
       "      <td></td>\n",
       "      <td></td>\n",
       "      <td></td>\n",
       "      <td></td>\n",
       "      <td>1</td>\n",
       "      <td>6838011</td>\n",
       "      <td>hum</td>\n",
       "      <td>hum</td>\n",
       "      <td>None</td>\n",
       "      <td>None</td>\n",
       "    </tr>\n",
       "  </tbody>\n",
       "</table>\n",
       "<p>5 rows × 37 columns</p>\n",
       "</div>"
      ],
      "text/plain": [
       "        CPF  DURATION             ENDTIME                        EXTERNALID  \\\n",
       "0  40361829  39        03MAR2022:11:47:38  DE59V9JKTH2GP6JKP00AEM2EPK029HK4   \n",
       "1  40361829  9         03MAR2022:11:50:10  DE59V9JKTH2GP6JKP00AEM2EPK029HLK   \n",
       "2  40361829  583       03MAR2022:12:01:33  DE59V9JKTH2GP6JKP00AEM2EPK029HNV   \n",
       "3  40361829  9         03MAR2022:11:50:10  DE59V9JKTH2GP6JKP00AEM2EPK029HLK   \n",
       "4  40361829  583       03MAR2022:12:01:33  DE59V9JKTH2GP6JKP00AEM2EPK029HNV   \n",
       "\n",
       "        ID           STARTTIME MONOCHANNEL  SEQUENCIA  CANAL TRANSCRICAO  ...  \\\n",
       "0  6837807  03MAR2022:11:46:59  NaN         0.0        LEFT               ...   \n",
       "1  6837840  03MAR2022:11:50:01  NaN         0.0        RIGHT              ...   \n",
       "2  6838011  03MAR2022:11:51:50  NaN         0.0        LEFT               ...   \n",
       "3  6837840  03MAR2022:11:50:01  NaN         1.0        LEFT   sei         ...   \n",
       "4  6838011  03MAR2022:11:51:50  NaN         1.0        RIGHT              ...   \n",
       "\n",
       "  ocorrencia direcionamento pedefacil ativo  numbers_words       ID  \\\n",
       "0                                            1              6837840   \n",
       "1                                            1              6838011   \n",
       "2                                            1              6838011   \n",
       "3                                            1              6838011   \n",
       "4                                            1              6838011   \n",
       "\n",
       "                                                                                                                                                              TRANSCRICAO  \\\n",
       "0  sei                                                                                                                                                                      \n",
       "1  atendimento momento momento gentileza                                                                                                                                    \n",
       "2  atendimento nome posso ajudar                                                                                                                                            \n",
       "3  nome nome jose desde liguei solicitando cancelar cartao cancelar cartao consignado exclusao marta menina disse havia solicitado estado cancelamento exclusao liberacao   \n",
       "4  hum                                                                                                                                                                      \n",
       "\n",
       "  countent_word    countent_bigram           countent_trigram  \n",
       "0  sei           None               None                       \n",
       "1  momento       momento gentileza  momento momento gentileza  \n",
       "2  atendimento   nome posso         nome posso ajudar          \n",
       "3  exclusao      cancelar cartao    nome nome jose             \n",
       "4  hum           None               None                       \n",
       "\n",
       "[5 rows x 37 columns]"
      ]
     },
     "execution_count": 6,
     "metadata": {},
     "output_type": "execute_result"
    }
   ],
   "source": [
    "df.head()"
   ]
  },
  {
   "cell_type": "code",
   "execution_count": 7,
   "metadata": {
    "id": "kqGE2FYygAf7"
   },
   "outputs": [],
   "source": [
    "filename = 'LIBERACAO_MARGEM'\n",
    "column_filter = 'negatividade' # deixar esse campo vazio caso queira ver tudo\n",
    "column_text = 'TRANSCRICAO'\n",
    "whats_process = 'trigram' # trigram or bigram"
   ]
  },
  {
   "cell_type": "code",
   "execution_count": null,
   "metadata": {},
   "outputs": [],
   "source": [
    "NlVisualization.wordCloud_Topics(filename,column_filter,column_text,whats_process)"
   ]
  },
  {
   "cell_type": "code",
   "execution_count": null,
   "metadata": {},
   "outputs": [],
   "source": [
    "NlVisualization.plot_10_most_common_words(filename,column_filter,column_text)"
   ]
  },
  {
   "cell_type": "code",
   "execution_count": null,
   "metadata": {},
   "outputs": [],
   "source": []
  }
 ],
 "metadata": {
  "colab": {
   "collapsed_sections": [],
   "name": "findkeywords.ipynb",
   "provenance": []
  },
  "kernelspec": {
   "display_name": "Python 3 (ipykernel)",
   "language": "python",
   "name": "python3"
  },
  "language_info": {
   "codemirror_mode": {
    "name": "ipython",
    "version": 3
   },
   "file_extension": ".py",
   "mimetype": "text/x-python",
   "name": "python",
   "nbconvert_exporter": "python",
   "pygments_lexer": "ipython3",
   "version": "3.9.7"
  }
 },
 "nbformat": 4,
 "nbformat_minor": 4
}
